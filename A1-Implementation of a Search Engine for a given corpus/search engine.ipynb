{
 "cells": [
  {
   "cell_type": "markdown",
   "metadata": {},
   "source": [
    "# Assignment - 1\n",
    "\n",
    "# Twitter Sentiment Analysis"
   ]
  },
  {
   "cell_type": "code",
   "execution_count": 4,
   "metadata": {
    "colab": {
     "base_uri": "https://localhost:8080/"
    },
    "id": "BgzGAb2-BnU5",
    "outputId": "81dc116b-2f4d-4123-e260-9d9c5b00a7d5"
   },
   "outputs": [],
   "source": [
    "import pandas as pd \n",
    "import numpy as np\n",
    "import nltk\n",
    "from nltk.tokenize import word_tokenize\n",
    "from nltk.tokenize import sent_tokenize\n",
    "#nltk.download('punkt')\n"
   ]
  },
  {
   "cell_type": "markdown",
   "metadata": {},
   "source": [
    "# Preprocessing"
   ]
  },
  {
   "cell_type": "markdown",
   "metadata": {},
   "source": [
    "## CASE FOLDING"
   ]
  },
  {
   "cell_type": "code",
   "execution_count": 5,
   "metadata": {
    "colab": {
     "base_uri": "https://localhost:8080/",
     "height": 204
    },
    "id": "ZDoYZnsO3_lG",
    "outputId": "0249b195-6aa6-48b0-9ccd-57e439955564"
   },
   "outputs": [
    {
     "data": {
      "text/html": [
       "<div>\n",
       "<style scoped>\n",
       "    .dataframe tbody tr th:only-of-type {\n",
       "        vertical-align: middle;\n",
       "    }\n",
       "\n",
       "    .dataframe tbody tr th {\n",
       "        vertical-align: top;\n",
       "    }\n",
       "\n",
       "    .dataframe thead th {\n",
       "        text-align: right;\n",
       "    }\n",
       "</style>\n",
       "<table border=\"1\" class=\"dataframe\">\n",
       "  <thead>\n",
       "    <tr style=\"text-align: right;\">\n",
       "      <th></th>\n",
       "      <th>textID</th>\n",
       "      <th>text</th>\n",
       "      <th>sentiment_main</th>\n",
       "      <th>sentiment</th>\n",
       "    </tr>\n",
       "  </thead>\n",
       "  <tbody>\n",
       "    <tr>\n",
       "      <th>0</th>\n",
       "      <td>p1000000000</td>\n",
       "      <td>i know  i was listenin to bad habit earlier a...</td>\n",
       "      <td>empty</td>\n",
       "      <td>neutral</td>\n",
       "    </tr>\n",
       "    <tr>\n",
       "      <th>1</th>\n",
       "      <td>p1000000001</td>\n",
       "      <td>i should be sleep, but im not! thinking about ...</td>\n",
       "      <td>sadness</td>\n",
       "      <td>negative</td>\n",
       "    </tr>\n",
       "    <tr>\n",
       "      <th>2</th>\n",
       "      <td>2dfbe0b7fb</td>\n",
       "      <td>hmmm. http://www.djhero.com/ is down</td>\n",
       "      <td>worry</td>\n",
       "      <td>negative</td>\n",
       "    </tr>\n",
       "    <tr>\n",
       "      <th>3</th>\n",
       "      <td>6d846d7d50</td>\n",
       "      <td>i`m sorry  at least it`s friday?</td>\n",
       "      <td>sadness</td>\n",
       "      <td>neutral</td>\n",
       "    </tr>\n",
       "    <tr>\n",
       "      <th>4</th>\n",
       "      <td>p1000000002</td>\n",
       "      <td>the storm is here and the electricity is gone</td>\n",
       "      <td>sadness</td>\n",
       "      <td>negative</td>\n",
       "    </tr>\n",
       "  </tbody>\n",
       "</table>\n",
       "</div>"
      ],
      "text/plain": [
       "        textID                                               text  \\\n",
       "0  p1000000000   i know  i was listenin to bad habit earlier a...   \n",
       "1  p1000000001  i should be sleep, but im not! thinking about ...   \n",
       "2   2dfbe0b7fb               hmmm. http://www.djhero.com/ is down   \n",
       "3   6d846d7d50                   i`m sorry  at least it`s friday?   \n",
       "4  p1000000002      the storm is here and the electricity is gone   \n",
       "\n",
       "  sentiment_main sentiment  \n",
       "0          empty   neutral  \n",
       "1        sadness  negative  \n",
       "2          worry  negative  \n",
       "3        sadness   neutral  \n",
       "4        sadness  negative  "
      ]
     },
     "execution_count": 5,
     "metadata": {},
     "output_type": "execute_result"
    }
   ],
   "source": [
    "train_data=pd.read_csv('twitter_sentiment.csv')\n",
    "train_data[\"text\"] = train_data[\"text\"].str.lower()\n",
    "train_data.head()\n"
   ]
  },
  {
   "cell_type": "code",
   "execution_count": 6,
   "metadata": {
    "colab": {
     "base_uri": "https://localhost:8080/"
    },
    "id": "dxrQVgcO5hUe",
    "outputId": "f8f9cc2a-3181-4163-aee2-9f0ae184af80"
   },
   "outputs": [
    {
     "data": {
      "text/plain": [
       "(12454, 4)"
      ]
     },
     "execution_count": 6,
     "metadata": {},
     "output_type": "execute_result"
    }
   ],
   "source": [
    "train_data.shape"
   ]
  },
  {
   "cell_type": "code",
   "execution_count": 7,
   "metadata": {
    "colab": {
     "base_uri": "https://localhost:8080/"
    },
    "id": "sKipRzsY5-nb",
    "outputId": "2c0c2a01-24df-4020-8315-8209ebe3fcba"
   },
   "outputs": [
    {
     "data": {
      "text/plain": [
       "Index(['textID', 'text', 'sentiment_main', 'sentiment'], dtype='object')"
      ]
     },
     "execution_count": 7,
     "metadata": {},
     "output_type": "execute_result"
    }
   ],
   "source": [
    "train_data.columns"
   ]
  },
  {
   "cell_type": "markdown",
   "metadata": {},
   "source": [
    "## SENTENCE TOKENIZATION"
   ]
  },
  {
   "cell_type": "code",
   "execution_count": 8,
   "metadata": {
    "id": "qweCduGz6ATU"
   },
   "outputs": [],
   "source": [
    "df=train_data['text']\n",
    "l=list()\n",
    "for line in df:\n",
    "  token=sent_tokenize(line)\n",
    "  l.append(token)\n",
    "    "
   ]
  },
  {
   "cell_type": "code",
   "execution_count": 9,
   "metadata": {
    "id": "JuvN3iy36MYL"
   },
   "outputs": [],
   "source": [
    "df=train_data['text']\n",
    "train_data['sent_token']=l\n"
   ]
  },
  {
   "cell_type": "code",
   "execution_count": 10,
   "metadata": {
    "colab": {
     "base_uri": "https://localhost:8080/",
     "height": 204
    },
    "id": "TTPnRMi46SAD",
    "outputId": "19bf8912-9b03-422e-b041-18b87b0c0244"
   },
   "outputs": [
    {
     "data": {
      "text/html": [
       "<div>\n",
       "<style scoped>\n",
       "    .dataframe tbody tr th:only-of-type {\n",
       "        vertical-align: middle;\n",
       "    }\n",
       "\n",
       "    .dataframe tbody tr th {\n",
       "        vertical-align: top;\n",
       "    }\n",
       "\n",
       "    .dataframe thead th {\n",
       "        text-align: right;\n",
       "    }\n",
       "</style>\n",
       "<table border=\"1\" class=\"dataframe\">\n",
       "  <thead>\n",
       "    <tr style=\"text-align: right;\">\n",
       "      <th></th>\n",
       "      <th>textID</th>\n",
       "      <th>text</th>\n",
       "      <th>sentiment_main</th>\n",
       "      <th>sentiment</th>\n",
       "      <th>sent_token</th>\n",
       "    </tr>\n",
       "  </thead>\n",
       "  <tbody>\n",
       "    <tr>\n",
       "      <th>0</th>\n",
       "      <td>p1000000000</td>\n",
       "      <td>i know  i was listenin to bad habit earlier a...</td>\n",
       "      <td>empty</td>\n",
       "      <td>neutral</td>\n",
       "      <td>[ i know  i was listenin to bad habit earlier ...</td>\n",
       "    </tr>\n",
       "    <tr>\n",
       "      <th>1</th>\n",
       "      <td>p1000000001</td>\n",
       "      <td>i should be sleep, but im not! thinking about ...</td>\n",
       "      <td>sadness</td>\n",
       "      <td>negative</td>\n",
       "      <td>[i should be sleep, but im not!, thinking abou...</td>\n",
       "    </tr>\n",
       "    <tr>\n",
       "      <th>2</th>\n",
       "      <td>2dfbe0b7fb</td>\n",
       "      <td>hmmm. http://www.djhero.com/ is down</td>\n",
       "      <td>worry</td>\n",
       "      <td>negative</td>\n",
       "      <td>[hmmm., http://www.djhero.com/ is down]</td>\n",
       "    </tr>\n",
       "    <tr>\n",
       "      <th>3</th>\n",
       "      <td>6d846d7d50</td>\n",
       "      <td>i`m sorry  at least it`s friday?</td>\n",
       "      <td>sadness</td>\n",
       "      <td>neutral</td>\n",
       "      <td>[ i`m sorry  at least it`s friday?]</td>\n",
       "    </tr>\n",
       "    <tr>\n",
       "      <th>4</th>\n",
       "      <td>p1000000002</td>\n",
       "      <td>the storm is here and the electricity is gone</td>\n",
       "      <td>sadness</td>\n",
       "      <td>negative</td>\n",
       "      <td>[the storm is here and the electricity is gone]</td>\n",
       "    </tr>\n",
       "  </tbody>\n",
       "</table>\n",
       "</div>"
      ],
      "text/plain": [
       "        textID                                               text  \\\n",
       "0  p1000000000   i know  i was listenin to bad habit earlier a...   \n",
       "1  p1000000001  i should be sleep, but im not! thinking about ...   \n",
       "2   2dfbe0b7fb               hmmm. http://www.djhero.com/ is down   \n",
       "3   6d846d7d50                   i`m sorry  at least it`s friday?   \n",
       "4  p1000000002      the storm is here and the electricity is gone   \n",
       "\n",
       "  sentiment_main sentiment                                         sent_token  \n",
       "0          empty   neutral  [ i know  i was listenin to bad habit earlier ...  \n",
       "1        sadness  negative  [i should be sleep, but im not!, thinking abou...  \n",
       "2          worry  negative            [hmmm., http://www.djhero.com/ is down]  \n",
       "3        sadness   neutral                [ i`m sorry  at least it`s friday?]  \n",
       "4        sadness  negative    [the storm is here and the electricity is gone]  "
      ]
     },
     "execution_count": 10,
     "metadata": {},
     "output_type": "execute_result"
    }
   ],
   "source": [
    "train_data.head()"
   ]
  },
  {
   "cell_type": "markdown",
   "metadata": {},
   "source": [
    "## WORD TOKENIZATION"
   ]
  },
  {
   "cell_type": "code",
   "execution_count": 11,
   "metadata": {
    "id": "RJUleET96U2Q"
   },
   "outputs": [],
   "source": [
    "df=train_data['text']\n",
    "l1=list()\n",
    "for line in df:\n",
    "  tokens=word_tokenize(line)\n",
    "  l1.append(tokens)\n",
    "    "
   ]
  },
  {
   "cell_type": "code",
   "execution_count": 12,
   "metadata": {
    "id": "eciAwe8-6jZE"
   },
   "outputs": [],
   "source": [
    "df=train_data['text']\n",
    "train_data['word_token']=l1\n"
   ]
  },
  {
   "cell_type": "code",
   "execution_count": 13,
   "metadata": {
    "colab": {
     "base_uri": "https://localhost:8080/",
     "height": 204
    },
    "id": "eUSik56v6opa",
    "outputId": "cb2c56b2-e1a8-4ef0-8555-886e52911b57"
   },
   "outputs": [
    {
     "data": {
      "text/html": [
       "<div>\n",
       "<style scoped>\n",
       "    .dataframe tbody tr th:only-of-type {\n",
       "        vertical-align: middle;\n",
       "    }\n",
       "\n",
       "    .dataframe tbody tr th {\n",
       "        vertical-align: top;\n",
       "    }\n",
       "\n",
       "    .dataframe thead th {\n",
       "        text-align: right;\n",
       "    }\n",
       "</style>\n",
       "<table border=\"1\" class=\"dataframe\">\n",
       "  <thead>\n",
       "    <tr style=\"text-align: right;\">\n",
       "      <th></th>\n",
       "      <th>textID</th>\n",
       "      <th>text</th>\n",
       "      <th>sentiment_main</th>\n",
       "      <th>sentiment</th>\n",
       "      <th>sent_token</th>\n",
       "      <th>word_token</th>\n",
       "    </tr>\n",
       "  </thead>\n",
       "  <tbody>\n",
       "    <tr>\n",
       "      <th>0</th>\n",
       "      <td>p1000000000</td>\n",
       "      <td>i know  i was listenin to bad habit earlier a...</td>\n",
       "      <td>empty</td>\n",
       "      <td>neutral</td>\n",
       "      <td>[ i know  i was listenin to bad habit earlier ...</td>\n",
       "      <td>[i, know, i, was, listenin, to, bad, habit, ea...</td>\n",
       "    </tr>\n",
       "    <tr>\n",
       "      <th>1</th>\n",
       "      <td>p1000000001</td>\n",
       "      <td>i should be sleep, but im not! thinking about ...</td>\n",
       "      <td>sadness</td>\n",
       "      <td>negative</td>\n",
       "      <td>[i should be sleep, but im not!, thinking abou...</td>\n",
       "      <td>[i, should, be, sleep, ,, but, im, not, !, thi...</td>\n",
       "    </tr>\n",
       "    <tr>\n",
       "      <th>2</th>\n",
       "      <td>2dfbe0b7fb</td>\n",
       "      <td>hmmm. http://www.djhero.com/ is down</td>\n",
       "      <td>worry</td>\n",
       "      <td>negative</td>\n",
       "      <td>[hmmm., http://www.djhero.com/ is down]</td>\n",
       "      <td>[hmmm, ., http, :, //www.djhero.com/, is, down]</td>\n",
       "    </tr>\n",
       "    <tr>\n",
       "      <th>3</th>\n",
       "      <td>6d846d7d50</td>\n",
       "      <td>i`m sorry  at least it`s friday?</td>\n",
       "      <td>sadness</td>\n",
       "      <td>neutral</td>\n",
       "      <td>[ i`m sorry  at least it`s friday?]</td>\n",
       "      <td>[i, `, m, sorry, at, least, it, `, s, friday, ?]</td>\n",
       "    </tr>\n",
       "    <tr>\n",
       "      <th>4</th>\n",
       "      <td>p1000000002</td>\n",
       "      <td>the storm is here and the electricity is gone</td>\n",
       "      <td>sadness</td>\n",
       "      <td>negative</td>\n",
       "      <td>[the storm is here and the electricity is gone]</td>\n",
       "      <td>[the, storm, is, here, and, the, electricity, ...</td>\n",
       "    </tr>\n",
       "  </tbody>\n",
       "</table>\n",
       "</div>"
      ],
      "text/plain": [
       "        textID                                               text  \\\n",
       "0  p1000000000   i know  i was listenin to bad habit earlier a...   \n",
       "1  p1000000001  i should be sleep, but im not! thinking about ...   \n",
       "2   2dfbe0b7fb               hmmm. http://www.djhero.com/ is down   \n",
       "3   6d846d7d50                   i`m sorry  at least it`s friday?   \n",
       "4  p1000000002      the storm is here and the electricity is gone   \n",
       "\n",
       "  sentiment_main sentiment                                         sent_token  \\\n",
       "0          empty   neutral  [ i know  i was listenin to bad habit earlier ...   \n",
       "1        sadness  negative  [i should be sleep, but im not!, thinking abou...   \n",
       "2          worry  negative            [hmmm., http://www.djhero.com/ is down]   \n",
       "3        sadness   neutral                [ i`m sorry  at least it`s friday?]   \n",
       "4        sadness  negative    [the storm is here and the electricity is gone]   \n",
       "\n",
       "                                          word_token  \n",
       "0  [i, know, i, was, listenin, to, bad, habit, ea...  \n",
       "1  [i, should, be, sleep, ,, but, im, not, !, thi...  \n",
       "2    [hmmm, ., http, :, //www.djhero.com/, is, down]  \n",
       "3   [i, `, m, sorry, at, least, it, `, s, friday, ?]  \n",
       "4  [the, storm, is, here, and, the, electricity, ...  "
      ]
     },
     "execution_count": 13,
     "metadata": {},
     "output_type": "execute_result"
    }
   ],
   "source": [
    "train_data.head()"
   ]
  },
  {
   "cell_type": "markdown",
   "metadata": {},
   "source": [
    "## STOP WORDS REMOVAL"
   ]
  },
  {
   "cell_type": "code",
   "execution_count": 14,
   "metadata": {
    "colab": {
     "base_uri": "https://localhost:8080/"
    },
    "id": "n_s9hqQO6tfS",
    "outputId": "bc24d658-af2a-4f6a-ae1b-b5a2cb211fa8"
   },
   "outputs": [],
   "source": [
    "import nltk\n",
    "#nltk.download('stopwords')\n",
    "from nltk.corpus import stopwords\n",
    "stoplist= stopwords.words('english')"
   ]
  },
  {
   "cell_type": "code",
   "execution_count": 15,
   "metadata": {
    "id": "vRo3eUJP6xs_"
   },
   "outputs": [],
   "source": [
    "stoplist=set(stoplist)\n",
    "l2=list()\n",
    "for i in l1:\n",
    "  output = [w for w in i if not w in stoplist]\n",
    "  l2.append(output)\n",
    "train_data['stop_words_removed']=l2"
   ]
  },
  {
   "cell_type": "code",
   "execution_count": 16,
   "metadata": {
    "colab": {
     "base_uri": "https://localhost:8080/",
     "height": 316
    },
    "id": "8nBCKaGW620N",
    "outputId": "112e01de-24ea-4ac9-fb1d-c1acbdcafbe4"
   },
   "outputs": [
    {
     "data": {
      "text/html": [
       "<div>\n",
       "<style scoped>\n",
       "    .dataframe tbody tr th:only-of-type {\n",
       "        vertical-align: middle;\n",
       "    }\n",
       "\n",
       "    .dataframe tbody tr th {\n",
       "        vertical-align: top;\n",
       "    }\n",
       "\n",
       "    .dataframe thead th {\n",
       "        text-align: right;\n",
       "    }\n",
       "</style>\n",
       "<table border=\"1\" class=\"dataframe\">\n",
       "  <thead>\n",
       "    <tr style=\"text-align: right;\">\n",
       "      <th></th>\n",
       "      <th>textID</th>\n",
       "      <th>text</th>\n",
       "      <th>sentiment_main</th>\n",
       "      <th>sentiment</th>\n",
       "      <th>sent_token</th>\n",
       "      <th>word_token</th>\n",
       "      <th>stop_words_removed</th>\n",
       "    </tr>\n",
       "  </thead>\n",
       "  <tbody>\n",
       "    <tr>\n",
       "      <th>0</th>\n",
       "      <td>p1000000000</td>\n",
       "      <td>i know  i was listenin to bad habit earlier a...</td>\n",
       "      <td>empty</td>\n",
       "      <td>neutral</td>\n",
       "      <td>[ i know  i was listenin to bad habit earlier ...</td>\n",
       "      <td>[i, know, i, was, listenin, to, bad, habit, ea...</td>\n",
       "      <td>[know, listenin, bad, habit, earlier, started,...</td>\n",
       "    </tr>\n",
       "    <tr>\n",
       "      <th>1</th>\n",
       "      <td>p1000000001</td>\n",
       "      <td>i should be sleep, but im not! thinking about ...</td>\n",
       "      <td>sadness</td>\n",
       "      <td>negative</td>\n",
       "      <td>[i should be sleep, but im not!, thinking abou...</td>\n",
       "      <td>[i, should, be, sleep, ,, but, im, not, !, thi...</td>\n",
       "      <td>[sleep, ,, im, !, thinking, old, friend, want,...</td>\n",
       "    </tr>\n",
       "    <tr>\n",
       "      <th>2</th>\n",
       "      <td>2dfbe0b7fb</td>\n",
       "      <td>hmmm. http://www.djhero.com/ is down</td>\n",
       "      <td>worry</td>\n",
       "      <td>negative</td>\n",
       "      <td>[hmmm., http://www.djhero.com/ is down]</td>\n",
       "      <td>[hmmm, ., http, :, //www.djhero.com/, is, down]</td>\n",
       "      <td>[hmmm, ., http, :, //www.djhero.com/]</td>\n",
       "    </tr>\n",
       "    <tr>\n",
       "      <th>3</th>\n",
       "      <td>6d846d7d50</td>\n",
       "      <td>i`m sorry  at least it`s friday?</td>\n",
       "      <td>sadness</td>\n",
       "      <td>neutral</td>\n",
       "      <td>[ i`m sorry  at least it`s friday?]</td>\n",
       "      <td>[i, `, m, sorry, at, least, it, `, s, friday, ?]</td>\n",
       "      <td>[`, sorry, least, `, friday, ?]</td>\n",
       "    </tr>\n",
       "    <tr>\n",
       "      <th>4</th>\n",
       "      <td>p1000000002</td>\n",
       "      <td>the storm is here and the electricity is gone</td>\n",
       "      <td>sadness</td>\n",
       "      <td>negative</td>\n",
       "      <td>[the storm is here and the electricity is gone]</td>\n",
       "      <td>[the, storm, is, here, and, the, electricity, ...</td>\n",
       "      <td>[storm, electricity, gone]</td>\n",
       "    </tr>\n",
       "  </tbody>\n",
       "</table>\n",
       "</div>"
      ],
      "text/plain": [
       "        textID                                               text  \\\n",
       "0  p1000000000   i know  i was listenin to bad habit earlier a...   \n",
       "1  p1000000001  i should be sleep, but im not! thinking about ...   \n",
       "2   2dfbe0b7fb               hmmm. http://www.djhero.com/ is down   \n",
       "3   6d846d7d50                   i`m sorry  at least it`s friday?   \n",
       "4  p1000000002      the storm is here and the electricity is gone   \n",
       "\n",
       "  sentiment_main sentiment                                         sent_token  \\\n",
       "0          empty   neutral  [ i know  i was listenin to bad habit earlier ...   \n",
       "1        sadness  negative  [i should be sleep, but im not!, thinking abou...   \n",
       "2          worry  negative            [hmmm., http://www.djhero.com/ is down]   \n",
       "3        sadness   neutral                [ i`m sorry  at least it`s friday?]   \n",
       "4        sadness  negative    [the storm is here and the electricity is gone]   \n",
       "\n",
       "                                          word_token  \\\n",
       "0  [i, know, i, was, listenin, to, bad, habit, ea...   \n",
       "1  [i, should, be, sleep, ,, but, im, not, !, thi...   \n",
       "2    [hmmm, ., http, :, //www.djhero.com/, is, down]   \n",
       "3   [i, `, m, sorry, at, least, it, `, s, friday, ?]   \n",
       "4  [the, storm, is, here, and, the, electricity, ...   \n",
       "\n",
       "                                  stop_words_removed  \n",
       "0  [know, listenin, bad, habit, earlier, started,...  \n",
       "1  [sleep, ,, im, !, thinking, old, friend, want,...  \n",
       "2              [hmmm, ., http, :, //www.djhero.com/]  \n",
       "3                    [`, sorry, least, `, friday, ?]  \n",
       "4                         [storm, electricity, gone]  "
      ]
     },
     "execution_count": 16,
     "metadata": {},
     "output_type": "execute_result"
    }
   ],
   "source": [
    "train_data.head()"
   ]
  },
  {
   "cell_type": "markdown",
   "metadata": {},
   "source": [
    "## STEMMING "
   ]
  },
  {
   "cell_type": "code",
   "execution_count": 17,
   "metadata": {
    "colab": {
     "base_uri": "https://localhost:8080/"
    },
    "id": "9yD1rYiX7A1X",
    "outputId": "ede0309c-fe45-4a8b-c5b8-c0b865a7a9af"
   },
   "outputs": [
    {
     "name": "stdout",
     "output_type": "stream",
     "text": [
      "[['know', 'listenin', 'bad', 'habit', 'earlier', 'start', 'freakin', 'part'], ['sleep', 'im', 'think', 'old', 'friend', 'want', 'marri', 'want', '2', 'scandal'], ['hmmm', 'http'], ['sorri', 'least', 'friday'], ['storm', 'electr', 'gone']]\n"
     ]
    }
   ],
   "source": [
    "from nltk.stem import WordNetLemmatizer\n",
    "from nltk.stem import PorterStemmer\n",
    " \n",
    "final_train_stem_list=[]\n",
    "ps = PorterStemmer()\n",
    "for line in train_data['stop_words_removed']:\n",
    "  Stem_words=[]\n",
    "  for i in line:\n",
    "    rootWord = ps.stem(i)\n",
    "    Stem_words.append(rootWord)\n",
    "  Stem_words= [word for word in Stem_words if word.isalnum()]\n",
    "  final_train_stem_list.append(Stem_words)\n",
    "\n",
    "print(final_train_stem_list[0:5])"
   ]
  },
  {
   "cell_type": "code",
   "execution_count": 18,
   "metadata": {
    "colab": {
     "base_uri": "https://localhost:8080/",
     "height": 350
    },
    "id": "3YjZ66oQ7PgB",
    "outputId": "dac6fe9d-f76d-40f3-a126-57fe963bcbf6"
   },
   "outputs": [
    {
     "data": {
      "text/html": [
       "<div>\n",
       "<style scoped>\n",
       "    .dataframe tbody tr th:only-of-type {\n",
       "        vertical-align: middle;\n",
       "    }\n",
       "\n",
       "    .dataframe tbody tr th {\n",
       "        vertical-align: top;\n",
       "    }\n",
       "\n",
       "    .dataframe thead th {\n",
       "        text-align: right;\n",
       "    }\n",
       "</style>\n",
       "<table border=\"1\" class=\"dataframe\">\n",
       "  <thead>\n",
       "    <tr style=\"text-align: right;\">\n",
       "      <th></th>\n",
       "      <th>textID</th>\n",
       "      <th>text</th>\n",
       "      <th>sentiment_main</th>\n",
       "      <th>sentiment</th>\n",
       "      <th>sent_token</th>\n",
       "      <th>word_token</th>\n",
       "      <th>stop_words_removed</th>\n",
       "      <th>stemmed_words</th>\n",
       "    </tr>\n",
       "  </thead>\n",
       "  <tbody>\n",
       "    <tr>\n",
       "      <th>0</th>\n",
       "      <td>p1000000000</td>\n",
       "      <td>i know  i was listenin to bad habit earlier a...</td>\n",
       "      <td>empty</td>\n",
       "      <td>neutral</td>\n",
       "      <td>[ i know  i was listenin to bad habit earlier ...</td>\n",
       "      <td>[i, know, i, was, listenin, to, bad, habit, ea...</td>\n",
       "      <td>[know, listenin, bad, habit, earlier, started,...</td>\n",
       "      <td>[know, listenin, bad, habit, earlier, start, f...</td>\n",
       "    </tr>\n",
       "    <tr>\n",
       "      <th>1</th>\n",
       "      <td>p1000000001</td>\n",
       "      <td>i should be sleep, but im not! thinking about ...</td>\n",
       "      <td>sadness</td>\n",
       "      <td>negative</td>\n",
       "      <td>[i should be sleep, but im not!, thinking abou...</td>\n",
       "      <td>[i, should, be, sleep, ,, but, im, not, !, thi...</td>\n",
       "      <td>[sleep, ,, im, !, thinking, old, friend, want,...</td>\n",
       "      <td>[sleep, im, think, old, friend, want, marri, w...</td>\n",
       "    </tr>\n",
       "    <tr>\n",
       "      <th>2</th>\n",
       "      <td>2dfbe0b7fb</td>\n",
       "      <td>hmmm. http://www.djhero.com/ is down</td>\n",
       "      <td>worry</td>\n",
       "      <td>negative</td>\n",
       "      <td>[hmmm., http://www.djhero.com/ is down]</td>\n",
       "      <td>[hmmm, ., http, :, //www.djhero.com/, is, down]</td>\n",
       "      <td>[hmmm, ., http, :, //www.djhero.com/]</td>\n",
       "      <td>[hmmm, http]</td>\n",
       "    </tr>\n",
       "    <tr>\n",
       "      <th>3</th>\n",
       "      <td>6d846d7d50</td>\n",
       "      <td>i`m sorry  at least it`s friday?</td>\n",
       "      <td>sadness</td>\n",
       "      <td>neutral</td>\n",
       "      <td>[ i`m sorry  at least it`s friday?]</td>\n",
       "      <td>[i, `, m, sorry, at, least, it, `, s, friday, ?]</td>\n",
       "      <td>[`, sorry, least, `, friday, ?]</td>\n",
       "      <td>[sorri, least, friday]</td>\n",
       "    </tr>\n",
       "    <tr>\n",
       "      <th>4</th>\n",
       "      <td>p1000000002</td>\n",
       "      <td>the storm is here and the electricity is gone</td>\n",
       "      <td>sadness</td>\n",
       "      <td>negative</td>\n",
       "      <td>[the storm is here and the electricity is gone]</td>\n",
       "      <td>[the, storm, is, here, and, the, electricity, ...</td>\n",
       "      <td>[storm, electricity, gone]</td>\n",
       "      <td>[storm, electr, gone]</td>\n",
       "    </tr>\n",
       "  </tbody>\n",
       "</table>\n",
       "</div>"
      ],
      "text/plain": [
       "        textID                                               text  \\\n",
       "0  p1000000000   i know  i was listenin to bad habit earlier a...   \n",
       "1  p1000000001  i should be sleep, but im not! thinking about ...   \n",
       "2   2dfbe0b7fb               hmmm. http://www.djhero.com/ is down   \n",
       "3   6d846d7d50                   i`m sorry  at least it`s friday?   \n",
       "4  p1000000002      the storm is here and the electricity is gone   \n",
       "\n",
       "  sentiment_main sentiment                                         sent_token  \\\n",
       "0          empty   neutral  [ i know  i was listenin to bad habit earlier ...   \n",
       "1        sadness  negative  [i should be sleep, but im not!, thinking abou...   \n",
       "2          worry  negative            [hmmm., http://www.djhero.com/ is down]   \n",
       "3        sadness   neutral                [ i`m sorry  at least it`s friday?]   \n",
       "4        sadness  negative    [the storm is here and the electricity is gone]   \n",
       "\n",
       "                                          word_token  \\\n",
       "0  [i, know, i, was, listenin, to, bad, habit, ea...   \n",
       "1  [i, should, be, sleep, ,, but, im, not, !, thi...   \n",
       "2    [hmmm, ., http, :, //www.djhero.com/, is, down]   \n",
       "3   [i, `, m, sorry, at, least, it, `, s, friday, ?]   \n",
       "4  [the, storm, is, here, and, the, electricity, ...   \n",
       "\n",
       "                                  stop_words_removed  \\\n",
       "0  [know, listenin, bad, habit, earlier, started,...   \n",
       "1  [sleep, ,, im, !, thinking, old, friend, want,...   \n",
       "2              [hmmm, ., http, :, //www.djhero.com/]   \n",
       "3                    [`, sorry, least, `, friday, ?]   \n",
       "4                         [storm, electricity, gone]   \n",
       "\n",
       "                                       stemmed_words  \n",
       "0  [know, listenin, bad, habit, earlier, start, f...  \n",
       "1  [sleep, im, think, old, friend, want, marri, w...  \n",
       "2                                       [hmmm, http]  \n",
       "3                             [sorri, least, friday]  \n",
       "4                              [storm, electr, gone]  "
      ]
     },
     "execution_count": 18,
     "metadata": {},
     "output_type": "execute_result"
    }
   ],
   "source": [
    "train_data['stemmed_words']=final_train_stem_list\n",
    "train_data.head()"
   ]
  },
  {
   "cell_type": "markdown",
   "metadata": {},
   "source": [
    "## LEMMATIZATION "
   ]
  },
  {
   "cell_type": "code",
   "execution_count": 19,
   "metadata": {
    "colab": {
     "base_uri": "https://localhost:8080/"
    },
    "id": "Brxy9TSp7VMG",
    "outputId": "ca96dc59-a8a3-4343-e9ff-9ed2f382b5ac"
   },
   "outputs": [
    {
     "name": "stdout",
     "output_type": "stream",
     "text": [
      "[['know', 'listenin', 'bad', 'habit', 'earlier', 'started', 'freakin', 'part'], ['sleep', 'im', 'thinking', 'old', 'friend', 'want', 'married', 'want', '2', 'scandalous'], ['hmmm', 'http'], ['sorry', 'least', 'friday'], ['storm', 'electricity', 'gone']]\n"
     ]
    }
   ],
   "source": [
    "import nltk\n",
    "#nltk.download('wordnet')\n",
    "final_train_lemma_word = []\n",
    "wordnet_lemmatizer = WordNetLemmatizer()\n",
    "for line in train_data['stop_words_removed']:\n",
    "  lemma_word=[];\n",
    "  for w in line:\n",
    "      word1 = wordnet_lemmatizer.lemmatize(w, pos = \"n\")\n",
    "      word2 = wordnet_lemmatizer.lemmatize(word1, pos = \"v\")\n",
    "      word3 = wordnet_lemmatizer.lemmatize(word2, pos = (\"a\"))\n",
    "      lemma_word.append(word1)\n",
    "  lemma_word= [word for word in lemma_word if word.isalnum()]\n",
    "  final_train_lemma_word.append(lemma_word)\n",
    "\n",
    "print(final_train_lemma_word[0:5])"
   ]
  },
  {
   "cell_type": "code",
   "execution_count": 20,
   "metadata": {
    "colab": {
     "base_uri": "https://localhost:8080/",
     "height": 384
    },
    "id": "_RDt_trq7aYl",
    "outputId": "aca9e0f2-f96c-4356-b00c-673dd538c678"
   },
   "outputs": [
    {
     "data": {
      "text/html": [
       "<div>\n",
       "<style scoped>\n",
       "    .dataframe tbody tr th:only-of-type {\n",
       "        vertical-align: middle;\n",
       "    }\n",
       "\n",
       "    .dataframe tbody tr th {\n",
       "        vertical-align: top;\n",
       "    }\n",
       "\n",
       "    .dataframe thead th {\n",
       "        text-align: right;\n",
       "    }\n",
       "</style>\n",
       "<table border=\"1\" class=\"dataframe\">\n",
       "  <thead>\n",
       "    <tr style=\"text-align: right;\">\n",
       "      <th></th>\n",
       "      <th>textID</th>\n",
       "      <th>text</th>\n",
       "      <th>sentiment_main</th>\n",
       "      <th>sentiment</th>\n",
       "      <th>sent_token</th>\n",
       "      <th>word_token</th>\n",
       "      <th>stop_words_removed</th>\n",
       "      <th>stemmed_words</th>\n",
       "      <th>lemmatized_words</th>\n",
       "    </tr>\n",
       "  </thead>\n",
       "  <tbody>\n",
       "    <tr>\n",
       "      <th>0</th>\n",
       "      <td>p1000000000</td>\n",
       "      <td>i know  i was listenin to bad habit earlier a...</td>\n",
       "      <td>empty</td>\n",
       "      <td>neutral</td>\n",
       "      <td>[ i know  i was listenin to bad habit earlier ...</td>\n",
       "      <td>[i, know, i, was, listenin, to, bad, habit, ea...</td>\n",
       "      <td>[know, listenin, bad, habit, earlier, started,...</td>\n",
       "      <td>[know, listenin, bad, habit, earlier, start, f...</td>\n",
       "      <td>[know, listenin, bad, habit, earlier, started,...</td>\n",
       "    </tr>\n",
       "    <tr>\n",
       "      <th>1</th>\n",
       "      <td>p1000000001</td>\n",
       "      <td>i should be sleep, but im not! thinking about ...</td>\n",
       "      <td>sadness</td>\n",
       "      <td>negative</td>\n",
       "      <td>[i should be sleep, but im not!, thinking abou...</td>\n",
       "      <td>[i, should, be, sleep, ,, but, im, not, !, thi...</td>\n",
       "      <td>[sleep, ,, im, !, thinking, old, friend, want,...</td>\n",
       "      <td>[sleep, im, think, old, friend, want, marri, w...</td>\n",
       "      <td>[sleep, im, thinking, old, friend, want, marri...</td>\n",
       "    </tr>\n",
       "    <tr>\n",
       "      <th>2</th>\n",
       "      <td>2dfbe0b7fb</td>\n",
       "      <td>hmmm. http://www.djhero.com/ is down</td>\n",
       "      <td>worry</td>\n",
       "      <td>negative</td>\n",
       "      <td>[hmmm., http://www.djhero.com/ is down]</td>\n",
       "      <td>[hmmm, ., http, :, //www.djhero.com/, is, down]</td>\n",
       "      <td>[hmmm, ., http, :, //www.djhero.com/]</td>\n",
       "      <td>[hmmm, http]</td>\n",
       "      <td>[hmmm, http]</td>\n",
       "    </tr>\n",
       "    <tr>\n",
       "      <th>3</th>\n",
       "      <td>6d846d7d50</td>\n",
       "      <td>i`m sorry  at least it`s friday?</td>\n",
       "      <td>sadness</td>\n",
       "      <td>neutral</td>\n",
       "      <td>[ i`m sorry  at least it`s friday?]</td>\n",
       "      <td>[i, `, m, sorry, at, least, it, `, s, friday, ?]</td>\n",
       "      <td>[`, sorry, least, `, friday, ?]</td>\n",
       "      <td>[sorri, least, friday]</td>\n",
       "      <td>[sorry, least, friday]</td>\n",
       "    </tr>\n",
       "    <tr>\n",
       "      <th>4</th>\n",
       "      <td>p1000000002</td>\n",
       "      <td>the storm is here and the electricity is gone</td>\n",
       "      <td>sadness</td>\n",
       "      <td>negative</td>\n",
       "      <td>[the storm is here and the electricity is gone]</td>\n",
       "      <td>[the, storm, is, here, and, the, electricity, ...</td>\n",
       "      <td>[storm, electricity, gone]</td>\n",
       "      <td>[storm, electr, gone]</td>\n",
       "      <td>[storm, electricity, gone]</td>\n",
       "    </tr>\n",
       "  </tbody>\n",
       "</table>\n",
       "</div>"
      ],
      "text/plain": [
       "        textID                                               text  \\\n",
       "0  p1000000000   i know  i was listenin to bad habit earlier a...   \n",
       "1  p1000000001  i should be sleep, but im not! thinking about ...   \n",
       "2   2dfbe0b7fb               hmmm. http://www.djhero.com/ is down   \n",
       "3   6d846d7d50                   i`m sorry  at least it`s friday?   \n",
       "4  p1000000002      the storm is here and the electricity is gone   \n",
       "\n",
       "  sentiment_main sentiment                                         sent_token  \\\n",
       "0          empty   neutral  [ i know  i was listenin to bad habit earlier ...   \n",
       "1        sadness  negative  [i should be sleep, but im not!, thinking abou...   \n",
       "2          worry  negative            [hmmm., http://www.djhero.com/ is down]   \n",
       "3        sadness   neutral                [ i`m sorry  at least it`s friday?]   \n",
       "4        sadness  negative    [the storm is here and the electricity is gone]   \n",
       "\n",
       "                                          word_token  \\\n",
       "0  [i, know, i, was, listenin, to, bad, habit, ea...   \n",
       "1  [i, should, be, sleep, ,, but, im, not, !, thi...   \n",
       "2    [hmmm, ., http, :, //www.djhero.com/, is, down]   \n",
       "3   [i, `, m, sorry, at, least, it, `, s, friday, ?]   \n",
       "4  [the, storm, is, here, and, the, electricity, ...   \n",
       "\n",
       "                                  stop_words_removed  \\\n",
       "0  [know, listenin, bad, habit, earlier, started,...   \n",
       "1  [sleep, ,, im, !, thinking, old, friend, want,...   \n",
       "2              [hmmm, ., http, :, //www.djhero.com/]   \n",
       "3                    [`, sorry, least, `, friday, ?]   \n",
       "4                         [storm, electricity, gone]   \n",
       "\n",
       "                                       stemmed_words  \\\n",
       "0  [know, listenin, bad, habit, earlier, start, f...   \n",
       "1  [sleep, im, think, old, friend, want, marri, w...   \n",
       "2                                       [hmmm, http]   \n",
       "3                             [sorri, least, friday]   \n",
       "4                              [storm, electr, gone]   \n",
       "\n",
       "                                    lemmatized_words  \n",
       "0  [know, listenin, bad, habit, earlier, started,...  \n",
       "1  [sleep, im, thinking, old, friend, want, marri...  \n",
       "2                                       [hmmm, http]  \n",
       "3                             [sorry, least, friday]  \n",
       "4                         [storm, electricity, gone]  "
      ]
     },
     "execution_count": 20,
     "metadata": {},
     "output_type": "execute_result"
    }
   ],
   "source": [
    "train_data['lemmatized_words']=final_train_lemma_word\n",
    "train_data.head()"
   ]
  },
  {
   "cell_type": "markdown",
   "metadata": {},
   "source": [
    "# GENERATING INVERTED INDEX"
   ]
  },
  {
   "cell_type": "code",
   "execution_count": 21,
   "metadata": {
    "colab": {
     "base_uri": "https://localhost:8080/"
    },
    "id": "VZYD6OLf7dFU",
    "outputId": "65ffe092-95db-4ea7-8302-4560c4f44659"
   },
   "outputs": [
    {
     "name": "stdout",
     "output_type": "stream",
     "text": [
      "know : [0, 6, 64, 104, 114, 134, 153, 166, 171, 210, 217, 243, 278, 292, 295, 325, 344, 449, 465, 467, 487, 492, 511, 550, 566, 593, 595, 667, 680, 726, 754, 781, 823, 826, 838, 970, 971, 977, 1009, 1019, 1070, 1094, 1106, 1134, 1157, 1163, 1164, 1187, 1229, 1270, 1287, 1320, 1363, 1408, 1421, 1504, 1552, 1576, 1599, 1618, 1650, 1673, 1712, 1713, 1783, 1789, 1794, 1843, 1858, 1859, 1894, 1928, 1950, 1955, 1976, 1985, 1992, 2030, 2037, 2054, 2077, 2079, 2088, 2146, 2192, 2254, 2272, 2325, 2334, 2367, 2380, 2389, 2421, 2440, 2446, 2467, 2497, 2500, 2512, 2517, 2538, 2555, 2599, 2626, 2680, 2703, 2708, 2719, 2823, 2828, 2852, 2896, 2927, 2928, 2944, 2968, 3019, 3123, 3139, 3173, 3190, 3192, 3206, 3328, 3380, 3411, 3494, 3505, 3533, 3634, 3689, 3787, 3808, 3830, 3839, 3878, 3902, 3926, 3942, 3974, 3991, 3993, 4045, 4052, 4056, 4059, 4086, 4107, 4138, 4177, 4186, 4189, 4265, 4276, 4316, 4361, 4369, 4387, 4453, 4490, 4515, 4519, 4540, 4553, 4569, 4586, 4654, 4667, 4711, 4730, 4764, 4777, 4855, 4869, 4888, 4909, 4974, 4981, 5008, 5020, 5024, 5037, 5153, 5242, 5275, 5299, 5344, 5459, 5491, 5555, 5577, 5578, 5593, 5597, 5598, 5623, 5626, 5742, 5797, 5820, 5839, 5860, 5863, 5910, 5933, 5966, 6033, 6058, 6080, 6092, 6099, 6104, 6111, 6117, 6121, 6139, 6176, 6180, 6203, 6223, 6276, 6286, 6342, 6387, 6413, 6421, 6434, 6454, 6455, 6495, 6512, 6564, 6705, 6716, 6728, 6748, 6751, 6789, 6856, 6992, 7001, 7050, 7090, 7115, 7163, 7242, 7358, 7421, 7464, 7468, 7481, 7498, 7503, 7510, 7543, 7551, 7560, 7565, 7636, 7649, 7689, 7747, 7771, 7790, 7797, 7827, 7844, 7854, 7861, 7882, 7965, 8036, 8136, 8172, 8208, 8233, 8242, 8375, 8413, 8419, 8437, 8455, 8459, 8494, 8508, 8543, 8549, 8552, 8562, 8574, 8585, 8592, 8593, 8599, 8611, 8628, 8631, 8722, 8730, 8768, 8773, 8780, 8802, 8826, 8846, 8875, 8876, 8893, 8903, 8912, 8980, 9033, 9057, 9082, 9084, 9116, 9154, 9161, 9188, 9207, 9209, 9210, 9219, 9278, 9336, 9357, 9364, 9407, 9425, 9429, 9500, 9504, 9552, 9559, 9586, 9604, 9667, 9703, 9714, 9718, 9812, 9833, 9839, 9866, 9888, 9897, 9899, 9928, 9942, 9949, 10126, 10164, 10208, 10211, 10221, 10314, 10323, 10389, 10563, 10595, 10600, 10898, 10962, 10973, 10976, 10978, 11042, 11073, 11103, 11110, 11114, 11160, 11242, 11257, 11268, 11293, 11300, 11316, 11349, 11356, 11386, 11437, 11443, 11445, 11449, 11452, 11574, 11593, 11610, 11663, 11677, 11719, 11742, 11747, 11774, 11822, 11845, 11855, 11860, 11910, 11927, 11955, 11970, 12054, 12060, 12133, 12139, 12169, 12254, 12309, 12327, 12377, 12417, 12445, 12452]\n",
      "listenin : [0, 5864, 9881, 11009]\n",
      "bad : [0, 16, 52, 121, 130, 158, 232, 257, 278, 324, 415, 424, 479, 480, 625, 696, 722, 732, 733, 752, 822, 829, 855, 903, 936, 943, 971, 1041, 1097, 1112, 1176, 1180, 1209, 1294, 1305, 1315, 1447, 1455, 1457, 1531, 1541, 1559, 1567, 1581, 1614, 1664, 1690, 1700, 1712, 1745, 1772, 1795, 1811, 1914, 2000, 2018, 2070, 2118, 2160, 2173, 2209, 2268, 2286, 2383, 2431, 2470, 2483, 2484, 2512, 2599, 2633, 2638, 2645, 2671, 2739, 2779, 2803, 2819, 2924, 3066, 3144, 3155, 3200, 3221, 3240, 3268, 3274, 3455, 3546, 3579, 3614, 3616, 3621, 3645, 3673, 3688, 3691, 3713, 3777, 3895, 3980, 4001, 4018, 4060, 4069, 4167, 4212, 4277, 4302, 4363, 4383, 4422, 4425, 4547, 4560, 4569, 4656, 4690, 4852, 4922, 4959, 5013, 5048, 5114, 5158, 5197, 5198, 5216, 5230, 5268, 5274, 5277, 5305, 5484, 5506, 5559, 5620, 5669, 5670, 5683, 5786, 5823, 5888, 5898, 5909, 5914, 5929, 6086, 6095, 7000, 7089, 7096, 7320, 7332, 7424, 7563, 7623, 7916, 8035, 8142, 8395, 8475, 8509, 8541, 8556, 8618, 8689, 9149, 9356, 9544, 9763, 10034, 10481, 10685, 10753, 10881, 10901, 10902, 10929, 10961, 11090, 11181, 11329, 11805, 11839, 11892, 11967, 12111, 12236]\n",
      "habit : [0, 6345, 8659, 10521]\n",
      "earlier : [0, 633, 1372, 1804, 2053, 2892, 3031, 3765, 3943, 4064, 4456, 6123, 7910, 8572, 8700, 11104, 12030]\n",
      "start : [0, 61, 122, 144, 163, 263, 326, 343, 387, 582, 711, 861, 885, 1007, 1040, 1081, 1145, 1297, 1313, 1415, 1531, 1581, 1586, 1590, 1647, 1732, 1958, 1962, 2073, 2079, 2143, 2169, 2186, 2356, 2462, 2478, 2606, 2654, 2675, 2749, 2895, 2926, 3001, 3016, 3050, 3208, 3368, 3372, 3509, 3757, 3776, 3878, 3922, 3987, 4122, 4674, 4760, 4819, 5017, 5076, 5078, 5227, 5266, 5316, 5534, 5712, 5721, 5789, 5855, 5880, 5963, 6064, 6090, 6092, 6309, 6358, 6450, 6590, 6740, 7002, 7003, 7101, 7157, 7194, 7303, 7320, 7338, 7396, 7481, 7602, 7711, 7733, 7746, 7748, 7769, 7796, 7834, 7872, 7924, 7943, 7946, 7991, 8009, 8038, 8113, 8131, 8199, 8224, 8290, 8360, 8369, 8488, 8601, 9003, 9014, 9019, 9169, 9198, 9421, 9480, 9660, 9990, 10013, 10042, 10142, 10187, 10422, 10486, 10546, 10825, 11024, 11240, 11291, 11600, 11691, 11787, 11811, 11817, 11884, 12304]\n",
      "freakin : [0, 794, 1325, 2103, 2222, 2374, 3293, 3714, 3824, 6355, 6785, 6823, 9057, 11436]\n",
      "part : [0, 24, 436, 2544, 3304, 3410, 3961, 4068, 4187, 6209, 6277, 6626, 6924, 7195, 7908, 8768, 8872, 9347, 9897, 9900, 10060, 10304, 11015, 11259, 11275, 11423, 11772, 11967]\n",
      "sleep : [1, 24, 116, 192, 196, 214, 250, 293, 301, 305, 312, 340, 352, 373, 392, 412, 481, 491, 507, 519, 525, 565, 637, 638, 711, 720, 723, 729, 733, 737, 794, 799, 826, 863, 873, 928, 944, 957, 989, 1017, 1038, 1046, 1047, 1074, 1075, 1084, 1112, 1113, 1124, 1216, 1309, 1399, 1404, 1455, 1461, 1532, 1551, 1804, 2191, 2215, 2361, 2379, 2528, 2847, 2944, 2953, 3230, 3317, 3366, 3404, 3906, 3986, 4208, 4372, 4373, 4470, 4650, 4714, 4809, 4812, 4836, 4859, 4881, 4884, 4917, 4986, 5007, 5014, 5058, 5062, 5171, 5510, 5512, 5546, 5609, 5648, 5844, 5997, 6018, 6083, 6132, 6208, 6246, 6285, 6300, 6306, 6377, 6405, 6417, 6483, 6566, 6577, 6584, 6661, 6742, 6786, 6940, 7000, 7195, 7579, 7738, 7759, 7888, 8116, 8235, 8284, 8362, 8605, 8725, 9212, 9289, 9531, 9697, 9707, 9800, 9882, 9910, 9922, 9938, 10056, 10070, 10082, 10114, 10189, 10202, 10310, 10314, 10315, 10327, 10364, 10378, 10419, 10431, 10495, 10516, 10539, 10603, 10607, 10635, 10687, 10712, 10819, 10850, 10902, 10904, 10979, 11052, 11151, 11167, 11182, 11191, 11216, 11240, 11261, 11302, 11345, 11376, 11557, 11571, 11574, 11646, 11788, 12035, 12038, 12046, 12158, 12364, 12369, 12392, 12427]\n",
      "im : [1, 35, 39, 54, 76, 77, 144, 217, 265, 269, 290, 339, 385, 408, 441, 478, 481, 491, 493, 497, 523, 551, 564, 584, 591, 597, 601, 608, 636, 637, 736, 743, 812, 833, 834, 903, 936, 943, 1019, 1024, 1032, 1043, 1151, 1162, 1227, 1288, 1368, 1402, 1475, 1486, 1502, 1526, 1591, 1677, 1858, 1954, 1974, 1978, 2010, 2032, 2048, 2055, 2093, 2183, 2201, 2242, 2292, 2293, 2302, 2306, 2331, 2402, 2422, 2457, 2462, 2516, 2521, 2606, 2682, 2755, 2758, 2781, 2783, 2801, 2805, 2812, 2829, 2830, 2834, 2841, 2880, 2899, 2919, 2963, 3121, 3130, 3135, 3168, 3180, 3188, 3207, 3221, 3243, 3247, 3333, 3357, 3367, 3370, 3381, 3390, 3391, 3398, 3429, 3447, 3480, 3495, 3533, 3534, 3556, 3622, 3633, 3641, 3652, 3696, 3718, 3751, 3758, 3800, 3839, 3911, 3923, 3934, 3954, 3958, 3974, 3990, 4004, 4015, 4044, 4098, 4107, 4151, 4190, 4203, 4220, 4221, 4238, 4252, 4259, 4267, 4299, 4308, 4317, 4318, 4372, 4377, 4479, 4483, 4489, 4498, 4516, 4564, 4567, 4577, 4584, 4591, 4592, 4624, 4626, 4632, 4657, 4685, 4689, 4722, 4767, 4809, 4821, 4880, 4882, 4920, 4939, 4944, 5034, 5055, 5090, 5120, 5138, 5160, 5165, 5167, 5172, 5177, 5212, 5223, 5278, 5281, 5318, 5363, 5368, 5389, 5392, 5415, 5432, 5454, 5472, 5490, 5508, 5524, 5562, 5596, 5614, 5625, 5627, 5654, 5675, 5682, 5687, 5723, 5724, 5761, 5762, 5862, 5866, 5867, 5872, 5878, 5897, 5901, 5959, 5972, 5975, 5977, 5978, 6045, 6051, 6081, 6084, 6107, 6127, 6213, 6233, 6273, 6338, 6449, 6461, 6470, 6505, 6521, 6533, 6535, 6590, 6611, 6745, 6785, 6786, 6806, 6816, 6894, 6929, 6950, 7125, 7209, 7236, 7349, 7414, 7417, 7464, 7465, 7485, 7567, 7632, 7692, 7747, 7792, 8068, 8082, 8095, 8121, 8198, 8211, 8240, 8272, 8369, 8399, 8413, 8471, 8515, 8559, 8592, 8608, 8611, 8612, 8634, 8689, 8750, 8764, 8792, 8814, 8952, 9020, 9036, 9299, 9344, 9354, 9386, 9426, 9441, 9466, 9486, 9522, 9559, 9576, 9579, 9592, 9664, 9668, 9777, 9800, 9847, 9856, 9893, 9960, 9997, 10016, 10029, 10034, 10087, 10145, 10208, 10209, 10278, 10322, 10326, 10563, 10568, 10586, 10622, 10733, 10777, 10797, 10872, 10898, 10954, 10990, 11040, 11054, 11065, 11081, 11131, 11168, 11199, 11244, 11310, 11322, 11504, 11507, 11577, 11603, 11633, 11711, 11767, 11944, 12010, 12013, 12031, 12039, 12044, 12074, 12081, 12149, 12165, 12213, 12250, 12274, 12351, 12379, 12406]\n",
      "think : [1, 7, 11, 21, 34, 38, 44, 48, 70, 74, 109, 115, 171, 172, 187, 189, 197, 217, 267, 317, 341, 343, 363, 370, 382, 404, 457, 462, 464, 474, 483, 495, 549, 619, 653, 670, 695, 738, 807, 812, 851, 860, 861, 872, 906, 929, 957, 958, 976, 995, 1070, 1093, 1162, 1164, 1199, 1205, 1245, 1246, 1305, 1307, 1312, 1375, 1383, 1385, 1423, 1425, 1444, 1446, 1455, 1485, 1611, 1630, 1638, 1646, 1673, 1722, 1734, 1762, 1852, 1878, 1880, 1954, 1990, 2021, 2022, 2039, 2062, 2141, 2158, 2175, 2189, 2230, 2278, 2284, 2315, 2447, 2454, 2476, 2483, 2526, 2665, 2699, 2751, 2792, 2840, 2844, 2849, 2863, 2898, 2909, 2925, 2979, 3002, 3117, 3131, 3163, 3164, 3211, 3297, 3311, 3322, 3329, 3353, 3357, 3401, 3403, 3430, 3439, 3449, 3456, 3465, 3482, 3497, 3597, 3605, 3618, 3642, 3698, 3702, 3765, 3773, 3814, 3828, 3834, 3840, 3877, 3990, 3995, 3998, 4005, 4012, 4015, 4016, 4034, 4057, 4170, 4172, 4228, 4237, 4264, 4322, 4401, 4469, 4507, 4550, 4553, 4565, 4593, 4658, 4681, 4698, 4722, 4728, 4741, 4769, 4794, 4825, 4851, 4881, 4900, 4904, 4916, 4919, 4923, 4924, 4987, 5001, 5106, 5203, 5318, 5339, 5404, 5485, 5529, 5607, 5751, 5763, 5767, 5800, 5830, 5891, 5895, 5898, 5974, 6012, 6058, 6067, 6170, 6176, 6193, 6211, 6216, 6348, 6390, 6401, 6467, 6469, 6545, 6563, 6587, 6625, 6638, 6677, 6683, 6721, 6763, 6785, 6788, 6790, 6874, 6882, 7093, 7104, 7130, 7134, 7135, 7159, 7239, 7287, 7330, 7357, 7386, 7440, 7521, 7551, 7557, 7560, 7661, 7717, 7747, 7758, 7787, 7815, 7888, 7904, 7966, 7983, 8010, 8038, 8050, 8057, 8102, 8147, 8207, 8268, 8287, 8290, 8302, 8319, 8349, 8438, 8534, 8541, 8596, 8617, 8632, 8666, 8677, 8714, 8726, 8775, 8809, 8825, 8836, 8871, 8901, 8927, 8930, 8982, 9019, 9082, 9086, 9182, 9198, 9218, 9230, 9255, 9258, 9280, 9297, 9306, 9336, 9350, 9392, 9398, 9407, 9412, 9419, 9433, 9435, 9460, 9467, 9480, 9515, 9579, 9608, 9714, 9741, 9762, 9798, 9808, 9823, 9826, 9856, 9866, 9893, 9993, 10073, 10083, 10113, 10217, 10228, 10261, 10305, 10313, 10406, 10412, 10425, 10448, 10600, 10601, 10604, 10713, 10737, 10747, 10753, 10789, 10869, 10909, 10941, 11024, 11076, 11082, 11113, 11128, 11163, 11168, 11223, 11251, 11306, 11345, 11362, 11367, 11393, 11454, 11459, 11463, 11582, 11583, 11601, 11608, 11623, 11648, 11663, 11730, 11767, 11779, 11866, 11886, 11902, 11917, 11946, 11972, 11997, 12025, 12032, 12083, 12091, 12119, 12130, 12220, 12260, 12294, 12309, 12310, 12370, 12407, 12416, 12428, 12437, 12451]\n",
      "old : [1, 40, 155, 366, 499, 575, 677, 681, 755, 913, 1549, 1772, 1804, 1817, 1953, 2390, 2818, 2900, 2971, 3067, 3079, 3354, 3375, 3669, 4187, 4254, 4511, 4790, 4835, 5126, 5133, 5498, 5505, 5550, 5565, 5616, 5617, 5624, 5697, 5706, 5733, 5758, 5794, 5893, 5997, 6237, 6427, 6477, 6606, 6616, 6962, 7191, 7548, 7563, 7695, 7700, 7799, 7855, 7992, 8659, 8782, 8983, 9036, 9050, 9225, 9318, 9497, 9566, 9690, 9738, 9804, 9881, 10210, 10706, 10724, 10744, 10928, 10958, 11077, 11136, 11370, 11571, 11754, 12040, 12142, 12374, 12420]\n",
      "friend : [1, 52, 72, 134, 193, 217, 266, 357, 403, 405, 445, 512, 516, 575, 576, 620, 732, 849, 922, 1066, 1099, 1152, 1162, 1199, 1456, 1465, 1486, 1563, 1581, 1665, 1693, 1778, 1828, 2175, 2297, 2396, 2403, 2409, 2514, 2563, 2631, 2667, 2712, 2748, 2764, 2781, 2860, 2878, 2971, 3067, 3079, 3111, 3236, 3320, 3363, 3374, 3512, 3550, 3632, 3656, 3701, 3763, 3848, 3902, 3960, 3990, 4076, 4084, 4280, 4281, 4327, 4438, 4485, 4503, 4545, 4632, 4743, 4789, 4939, 4940, 4972, 5096, 5240, 5397, 5493, 5539, 5567, 5719, 5722, 5773, 5832, 5846, 6010, 6023, 6036, 6055, 6064, 6111, 6194, 6630, 6682, 6724, 6738, 6809, 6912, 6919, 6990, 7092, 7370, 7386, 7434, 7587, 7611, 7660, 7719, 7784, 7819, 7859, 7885, 8031, 8087, 8162, 8167, 8230, 8238, 8365, 8373, 8381, 8397, 8433, 8447, 8618, 8682, 8695, 8702, 8731, 8773, 8855, 8964, 9091, 9159, 9219, 9224, 9337, 9370, 9409, 9483, 9498, 9583, 9602, 9664, 9675, 9702, 9762, 9769, 9798, 9854, 10007, 10122, 10164, 10197, 10266, 10278, 10306, 10325, 10361, 10422, 10442, 10526, 10641, 10648, 10656, 10904, 11054, 11077, 11088, 11103, 11134, 11168, 11179, 11287, 11292, 11315, 11349, 11405, 11435, 11499, 11557, 11667, 11744, 11776, 11780, 11863, 11974, 12000, 12096, 12118, 12144, 12201, 12211, 12241, 12280, 12339, 12348]\n",
      "want : [1, 29, 48, 61, 64, 91, 124, 150, 153, 226, 281, 292, 293, 298, 306, 312, 326, 335, 345, 346, 355, 410, 425, 440, 444, 450, 454, 471, 474, 479, 493, 519, 530, 532, 554, 573, 575, 581, 593, 600, 618, 675, 683, 757, 780, 782, 823, 849, 924, 949, 960, 977, 993, 1021, 1046, 1063, 1070, 1131, 1153, 1173, 1183, 1189, 1193, 1214, 1221, 1229, 1252, 1285, 1286, 1314, 1370, 1417, 1422, 1435, 1471, 1473, 1499, 1563, 1593, 1601, 1616, 1635, 1665, 1690, 1712, 1731, 1745, 1749, 1800, 1815, 1867, 1898, 1900, 1914, 1923, 1996, 2004, 2013, 2037, 2041, 2047, 2265, 2272, 2275, 2284, 2312, 2317, 2318, 2362, 2377, 2380, 2395, 2397, 2467, 2524, 2528, 2541, 2546, 2549, 2553, 2554, 2563, 2567, 2585, 2619, 2624, 2626, 2629, 2646, 2681, 2690, 2709, 2728, 2729, 2758, 2760, 2764, 2775, 2795, 2813, 2818, 2829, 2834, 2844, 2870, 2871, 2877, 2910, 2963, 2972, 2976, 2986, 3028, 3031, 3042, 3044, 3061, 3119, 3132, 3159, 3166, 3169, 3183, 3221, 3232, 3247, 3260, 3276, 3281, 3308, 3348, 3366, 3417, 3437, 3449, 3460, 3504, 3550, 3553, 3555, 3579, 3598, 3608, 3618, 3632, 3651, 3687, 3703, 3707, 3746, 3775, 3789, 3814, 3841, 3849, 3872, 3875, 3886, 3891, 3978, 4059, 4067, 4072, 4081, 4105, 4108, 4111, 4142, 4149, 4206, 4254, 4286, 4307, 4312, 4355, 4374, 4376, 4394, 4412, 4448, 4478, 4525, 4540, 4583, 4618, 4652, 4663, 4670, 4674, 4695, 4699, 4724, 4768, 4792, 4801, 4803, 4812, 4848, 4863, 4879, 4897, 4905, 4941, 4968, 4972, 4974, 4986, 4996, 5036, 5060, 5061, 5088, 5122, 5175, 5207, 5270, 5282, 5283, 5291, 5303, 5304, 5348, 5369, 5404, 5435, 5465, 5477, 5494, 5502, 5574, 5603, 5628, 5630, 5633, 5646, 5658, 5682, 5697, 5706, 5730, 5735, 5747, 5818, 5909, 5953, 5975, 6025, 6061, 6073, 6104, 6121, 6158, 6176, 6330, 6355, 6401, 6495, 6564, 6687, 6903, 6909, 7200, 7203, 7241, 7264, 7473, 7494, 7502, 7511, 7560, 7576, 7675, 7856, 7919, 8049, 8069, 8256, 8338, 8517, 8532, 8543, 8549, 8585, 8628, 8631, 8649, 8766, 8776, 8785, 8810, 8829, 8958, 8970, 9041, 9069, 9084, 9123, 9364, 9420, 9472, 9481, 9498, 9576, 9633, 9664, 9743, 9836, 9934, 10158, 10208, 10215, 10216, 10244, 10245, 10314, 10604, 10613, 10688, 10898, 10933, 10988, 11026, 11036, 11127, 11174, 11179, 11293, 11303, 11552, 11709, 11719, 11735, 11736, 11794, 11892, 11900, 11931, 12069, 12096, 12163, 12228, 12252]\n",
      "marri : [1, 2061, 3125, 3447, 4551, 4935, 7970, 9224, 11085, 11132]\n",
      "2 : [1, 69, 77, 144, 313, 341, 343, 349, 352, 389, 478, 503, 534, 622, 632, 658, 712, 719, 840, 879, 899, 943, 944, 961, 987, 1022, 1035, 1137, 1202, 1298, 1417, 1524, 1549, 1618, 1620, 1687, 1773, 1827, 1890, 1893, 1953, 1955, 1986, 2010, 2058, 2104, 2121, 2166, 2187, 2211, 2260, 2373, 2402, 2453, 2460, 2462, 2549, 2564, 2594, 2632, 2653, 2712, 2764, 2772, 2804, 2857, 2913, 2941, 3094, 3111, 3221, 3229, 3294, 3317, 3322, 3361, 3465, 3473, 3484, 3512, 3582, 3638, 3661, 3672, 3691, 3751, 3797, 3875, 3899, 3939, 3958, 4018, 4454, 4563, 4649, 4743, 4772, 4798, 4880, 4914, 4918, 4939, 4967, 4992, 5058, 5082, 5090, 5120, 5158, 5168, 5308, 5453, 5454, 5490, 5526, 5654, 5656, 5718, 5791, 5873, 5974, 6048, 6083, 6147, 6214, 6217, 6242, 6279, 6314, 6437, 6580, 6587, 6634, 6660, 6701, 6885, 6924, 6926, 6935, 6950, 6958, 6983, 7021, 7050, 7101, 7115, 7154, 7319, 7400, 7658, 7691, 7746, 7757, 7766, 7801, 7836, 7888, 7954, 7960, 7990, 8054, 8516, 8699, 8814, 8878, 8929, 9014, 9094, 9149, 9182, 9201, 9225, 9262, 9319, 9444, 9575, 9598, 9636, 9640, 9663, 9738, 9769, 9837, 9978, 10002, 10052, 10150, 10261, 10264, 10309, 10391, 10410, 10413, 10414, 10443, 10484, 10558, 10565, 10639, 10678, 10787, 10816, 10900, 10986, 11026, 11166, 11245, 11260, 11261, 11338, 11351, 11375, 11438, 11705, 11715, 11733, 11790, 11906, 12019, 12024, 12102, 12206, 12211, 12399, 12422]\n",
      "scandal : [1, 10223]\n",
      "hmmm : [2, 1921, 2267, 4416, 5510, 6122, 6436, 6679, 7131, 7203, 8278, 8351, 8583, 8718, 8731, 8891, 10870, 10950, 11560, 11574, 11713, 12002, 12083, 12426]\n",
      "http : [2, 5, 33, 85, 191, 204, 207, 212, 230, 242, 272, 329, 330, 368, 376, 380, 389, 416, 437, 458, 520, 541, 556, 580, 591, 593, 600, 622, 663, 668, 677, 701, 711, 769, 784, 787, 793, 822, 836, 844, 902, 950, 965, 975, 988, 995, 1021, 1074, 1096, 1142, 1205, 1319, 1351, 1356, 1396, 1406, 1409, 1454, 1480, 1506, 1530, 1594, 1646, 1725, 1752, 1796, 1865, 1888, 1920, 1936, 1943, 1945, 1947, 2070, 2092, 2113, 2143, 2175, 2200, 2228, 2248, 2313, 2316, 2371, 2378, 2414, 2443, 2450, 2477, 2491, 2518, 2560, 2562, 2566, 2634, 2700, 2703, 2711, 2721, 2756, 2794, 2795, 2803, 2855, 2889, 2951, 2955, 2973, 2976, 3095, 3120, 3136, 3137, 3140, 3345, 3350, 3365, 3455, 3527, 3615, 3636, 3665, 3723, 3790, 3809, 3843, 3851, 3867, 3927, 3979, 3981, 4018, 4042, 4097, 4157, 4163, 4171, 4181, 4236, 4294, 4296, 4304, 4350, 4382, 4429, 4442, 4449, 4471, 4500, 4501, 4512, 4535, 4547, 4549, 4580, 4582, 4625, 4667, 4694, 4729, 4743, 4758, 4763, 4878, 4892, 4893, 4899, 4905, 5010, 5011, 5065, 5095, 5159, 5243, 5265, 5272, 5278, 5279, 5281, 5300, 5306, 5310, 5332, 5376, 5393, 5396, 5463, 5580, 5581, 5604, 5684, 5689, 5763, 5768, 5793, 5798, 5799, 5908, 5996, 6054, 6096, 6128, 6140, 6163, 6174, 6185, 6189, 6196, 6209, 6216, 6263, 6285, 6296, 6328, 6362, 6369, 6372, 6384, 6416, 6420, 6445, 6450, 6475, 6517, 6518, 6519, 6520, 6528, 6529, 6539, 6541, 6544, 6546, 6561, 6588, 6592, 6601, 6607, 6621, 6628, 6638, 6653, 6662, 6667, 6703, 6704, 6723, 6730, 6741, 6750, 6757, 6769, 6794, 6819, 6826, 6834, 6836, 6865, 6883, 6910, 6933, 6938, 6943, 6949, 6953, 6955, 6959, 6969, 6987, 6990, 7022, 7048, 7064, 7067, 7072, 7079, 7082, 7097, 7108, 7123, 7156, 7162, 7172, 7217, 7225, 7271, 7288, 7295, 7296, 7306, 7335, 7361, 7373, 7386, 7398, 7423, 7429, 7460, 7478, 7518, 7551, 7557, 7567, 7588, 7590, 7592, 7599, 7604, 7641, 7659, 7666, 7690, 7707, 7725, 7727, 7733, 7752, 7755, 7780, 7801, 7828, 7839, 7844, 7875, 7901, 7926, 7928, 7965, 8027, 8042, 8055, 8069, 8087, 8117, 8130, 8153, 8183, 8184, 8196, 8225, 8230, 8236, 8238, 8247, 8308, 8309, 8355, 8370, 8426, 8468, 8490, 8539, 8581, 8584, 8617, 8625, 8639, 8665, 8678, 8692, 8700, 8707, 8749, 8830, 8873, 8876, 8890, 8909, 8917, 8928, 8940, 8944, 8964, 9043, 9046, 9062, 9065, 9096, 9103, 9112, 9142, 9173, 9194, 9228, 9238, 9299, 9315, 9332, 9377, 9395, 9417, 9426, 9437, 9439, 9492, 9505, 9526, 9549, 9568, 9595, 9605, 9625, 9671, 9678, 9688, 9701, 9713, 9720, 9738, 9742, 9796, 9860, 9865, 9908, 9911, 9914, 9935, 9959, 9975, 10024, 10046, 10115, 10121, 10127, 10162, 10280, 10329, 10334, 10338, 10347, 10348, 10351, 10354, 10355, 10359, 10360, 10365, 10367, 10368, 10370, 10374, 10376, 10377, 10404, 10411, 10420, 10444, 10463, 10468, 10473, 10479, 10483, 10489, 10500, 10522, 10551, 10573, 10585, 10626, 10630, 10632, 10650, 10654, 10665, 10686, 10697, 10714, 10717, 10731, 10746, 10754, 10760, 10765, 10768, 10771, 10779, 10826, 10834, 10844, 10885, 10891, 10901, 10912, 10917, 10922, 10923, 10942, 10944, 10966, 10968, 10972, 10982, 11007, 11012, 11017, 11062, 11070, 11071, 11074, 11086, 11095, 11116, 11134, 11139, 11146, 11184, 11186, 11197, 11207, 11223, 11246, 11258, 11264, 11292, 11311, 11312, 11322, 11332, 11335, 11337, 11340, 11352, 11358, 11359, 11388, 11396, 11410, 11434, 11467, 11469, 11505, 11540, 11570, 11601, 11618, 11620, 11671, 11680, 11687, 11695, 11701, 11712, 11752, 11770, 11771, 11792, 11821, 11837, 11839, 11848, 11878, 11897, 11900, 11901, 11911, 11951, 11978, 11985, 12011, 12047, 12049, 12073, 12082, 12083, 12100, 12107, 12116, 12137, 12138, 12161, 12167, 12170, 12190, 12214, 12219, 12248, 12255, 12275, 12282, 12301, 12312, 12320, 12325, 12337, 12338, 12386, 12390, 12434]\n",
      "sorri : [3, 103, 121, 128, 175, 181, 218, 243, 267, 302, 324, 351, 428, 441, 489, 630, 736, 815, 845, 979, 990, 1033, 1158, 1174, 1207, 1327, 1374, 1421, 1534, 1547, 1562, 1584, 1671, 1723, 1759, 1814, 1857, 1972, 1995, 2009, 2033, 2035, 2093, 2161, 2167, 2184, 2197, 2335, 2441, 2483, 2592, 2720, 2736, 2747, 2753, 2763, 2780, 2801, 2825, 2847, 2857, 2904, 2921, 2925, 2945, 2956, 2962, 2977, 3041, 3043, 3052, 3137, 3167, 3187, 3203, 3210, 3226, 3234, 3287, 3301, 3302, 3322, 3348, 3364, 3405, 3423, 3457, 3533, 3620, 3647, 3651, 3657, 3678, 3747, 3904, 3933, 3938, 3940, 3946, 3970, 4012, 4044, 4061, 4098, 4117, 4137, 4151, 4173, 4220, 4237, 4272, 4285, 4334, 4402, 4421, 4447, 4456, 4497, 4515, 4523, 4529, 4675, 4690, 4750, 4767, 4777, 4781, 4837, 4888, 4892, 4909, 4936, 4951, 4971, 4973, 4998, 5075, 5092, 5102, 5122, 5162, 5173, 5182, 5184, 5268, 5338, 5341, 5356, 5384, 5394, 5419, 5500, 5541, 5555, 5577, 5585, 5589, 5651, 5723, 5741, 5803, 5804, 5828, 5910, 5965, 6019, 6027, 6089, 6348, 6527, 6623, 7334, 7372, 7446, 7567, 7671, 7911, 8121, 8447, 8483, 8602, 8608, 8835, 8925, 9159, 9454, 9557, 9812, 9888, 10447, 10590, 10600, 10736, 10883, 11650, 11747, 12003, 12051, 12075, 12213, 12329, 12333, 12397]\n",
      "least : [3, 312, 571, 870, 961, 1023, 1318, 1345, 1506, 1705, 1714, 1818, 1859, 1861, 2064, 2213, 2384, 2406, 2707, 2793, 2877, 3156, 3321, 3601, 3737, 3744, 4153, 4411, 4418, 4512, 5231, 5283, 5500, 5648, 5754, 5795, 5821, 5865, 5941, 6111, 6168, 6946, 7227, 7464, 7481, 7508, 7700, 8132, 8460, 8497, 8649, 8872, 8981, 9146, 9310, 9442, 9503, 9529, 9608, 9656, 9680, 10509, 11211, 11242, 11348, 11794, 11918, 12365]\n"
     ]
    }
   ],
   "source": [
    "def generate_inverted_index(data: list):\n",
    "    inv_idx_dict = {}\n",
    "    for index, doc_text in enumerate(data):\n",
    "        for word in doc_text:\n",
    "            if word not in inv_idx_dict.keys():\n",
    "                inv_idx_dict[word] = [index]\n",
    "            elif index not in inv_idx_dict[word]:\n",
    "                inv_idx_dict[word].append(index)\n",
    "    return inv_idx_dict\n",
    "\n",
    "final_train=generate_inverted_index(final_train_stem_list)\n",
    "\n",
    "j=0\n",
    "for i in final_train:\n",
    "  print(i,\":\",final_train[i])\n",
    "  if j==20:\n",
    "    break;\n",
    "  j=j+1\n"
   ]
  },
  {
   "cell_type": "markdown",
   "metadata": {},
   "source": [
    "# Boolean Query "
   ]
  },
  {
   "cell_type": "code",
   "execution_count": 21,
   "metadata": {
    "colab": {
     "base_uri": "https://localhost:8080/"
    },
    "id": "JOePQVlm854A",
    "outputId": "dfa8522d-01a8-4c91-aaf4-983e61ac52d1"
   },
   "outputs": [],
   "source": [
    "# AND \n",
    "def and_query(l1, l2):\n",
    "    p1 = 0\n",
    "    p2 = 0\n",
    "    result = list()\n",
    "    while p1 < len(l1) and p2 < len(l2):\n",
    "        if l1[p1] == l2[p2]:\n",
    "            result.append(l1[p1])\n",
    "            p1 += 1\n",
    "            p2 += 1\n",
    "        elif l1[p1] > l2[p2]:\n",
    "            p2 += 1\n",
    "        else:\n",
    "            p1 += 1\n",
    "    return result\n",
    "\n"
   ]
  },
  {
   "cell_type": "code",
   "execution_count": 22,
   "metadata": {
    "colab": {
     "base_uri": "https://localhost:8080/"
    },
    "id": "smqJVKuF9e1_",
    "outputId": "96fd2e7f-3f76-46f1-b1d4-8b13c3efa697"
   },
   "outputs": [],
   "source": [
    "def or_query(l1,l2):\n",
    "  result=list();\n",
    "  p1=0\n",
    "  p2=0\n",
    "  while p1 < len(l1) and p2 < len(l2):\n",
    "    if l1[p1] == l2[p2]:\n",
    "      result.append(l1[p1])\n",
    "      p1 += 1\n",
    "      p2 += 1\n",
    "    elif l1[p1] > l2[p2]:\n",
    "      result.append(l2[p2])\n",
    "      p2 += 1\n",
    "    else:\n",
    "      result.append(l1[p1])\n",
    "      p1 += 1\n",
    "  while(p1 < len(l1)):\n",
    "        result.append(l1[p1])\n",
    "        p1 += 1\n",
    "  while p2 < len(l2):\n",
    "        result.append(l2[p2])\n",
    "        p2 += 1\n",
    "  return result\n",
    "\n"
   ]
  },
  {
   "cell_type": "markdown",
   "metadata": {},
   "source": [
    "## PERFORMING THE BOOLEAN QUERY "
   ]
  },
  {
   "cell_type": "code",
   "execution_count": 26,
   "metadata": {
    "colab": {
     "base_uri": "https://localhost:8080/"
    },
    "id": "BsOCJ9Eq9i2K",
    "outputId": "bf6c5b6f-a1a5-4f76-f087-cd8caf8be118"
   },
   "outputs": [
    {
     "name": "stdout",
     "output_type": "stream",
     "text": [
      "Enter the first input word : \n",
      "good\n",
      "Enter the second input word : \n",
      "start\n"
     ]
    }
   ],
   "source": [
    "print(\"Enter the first input word : \")\n",
    "input1=input()\n",
    "print(\"Enter the second input word : \")\n",
    "input2=input()"
   ]
  },
  {
   "cell_type": "code",
   "execution_count": 27,
   "metadata": {
    "colab": {
     "base_uri": "https://localhost:8080/"
    },
    "id": "Z4uSLtA59vEW",
    "outputId": "1c3274dd-c65d-4375-8f26-23ee8a6cc525"
   },
   "outputs": [
    {
     "name": "stdout",
     "output_type": "stream",
     "text": [
      "posting list for good [51, 68, 88, 138, 151, 186, 188, 219, 278, 305, 311, 312, 313, 338, 351, 394, 401, 406, 462, 466, 495, 516, 533, 536, 599, 654, 655, 670, 688, 694, 695, 719, 750, 760, 785, 851, 862, 923, 962, 991, 1057, 1060, 1094, 1111, 1121, 1133, 1135, 1168, 1235, 1240, 1241, 1261, 1333, 1366, 1371, 1383, 1390, 1408, 1415, 1457, 1472, 1484, 1498, 1501, 1504, 1542, 1548, 1612, 1640, 1663, 1670, 1718, 1719, 1738, 1750, 1761, 1763, 1811, 1831, 1843, 1875, 1880, 1886, 1899, 1903, 1905, 1931, 1943, 1972, 1992, 2010, 2062, 2095, 2111, 2182, 2195, 2224, 2243, 2245, 2320, 2336, 2348, 2455, 2476, 2489, 2506, 2527, 2532, 2578, 2613, 2625, 2675, 2705, 2736, 2886, 2904, 2929, 2964, 3004, 3015, 3083, 3161, 3185, 3188, 3217, 3223, 3226, 3266, 3270, 3288, 3294, 3379, 3434, 3436, 3450, 3500, 3508, 3522, 3523, 3540, 3574, 3625, 3654, 3670, 3691, 3741, 3743, 3752, 3780, 3836, 3860, 3902, 3936, 3952, 3965, 3966, 4001, 4060, 4087, 4148, 4212, 4220, 4255, 4291, 4305, 4338, 4355, 4381, 4391, 4406, 4424, 4556, 4576, 4577, 4582, 4596, 4649, 4679, 4703, 4814, 4816, 4901, 4930, 4964, 5012, 5054, 5074, 5156, 5169, 5197, 5198, 5203, 5240, 5289, 5309, 5341, 5361, 5362, 5386, 5393, 5449, 5459, 5469, 5553, 5577, 5591, 5673, 5695, 5706, 5723, 5741, 5753, 5779, 5839, 5908, 5917, 5925, 5928, 5931, 5939, 5950, 5955, 5972, 5978, 6024, 6071, 6083, 6171, 6174, 6177, 6190, 6192, 6201, 6230, 6234, 6264, 6279, 6283, 6287, 6296, 6325, 6328, 6363, 6376, 6393, 6410, 6427, 6428, 6432, 6439, 6458, 6477, 6482, 6500, 6507, 6524, 6531, 6542, 6554, 6566, 6569, 6595, 6616, 6664, 6676, 6700, 6713, 6716, 6722, 6729, 6738, 6745, 6763, 6764, 6790, 6814, 6821, 6823, 6835, 6860, 6878, 6907, 6917, 6922, 6933, 6946, 6958, 6973, 6976, 6985, 6986, 7008, 7012, 7017, 7022, 7033, 7043, 7045, 7072, 7084, 7090, 7118, 7120, 7122, 7123, 7147, 7153, 7170, 7178, 7247, 7282, 7285, 7293, 7297, 7298, 7304, 7347, 7386, 7393, 7397, 7416, 7425, 7428, 7453, 7468, 7473, 7482, 7500, 7503, 7508, 7534, 7552, 7558, 7559, 7579, 7595, 7609, 7610, 7614, 7626, 7657, 7658, 7679, 7680, 7708, 7721, 7729, 7730, 7741, 7755, 7764, 7776, 7777, 7786, 7787, 7833, 7835, 7838, 7842, 7845, 7872, 7878, 7883, 7889, 7893, 7906, 7909, 7913, 7915, 7928, 7930, 7939, 7955, 7964, 7980, 7982, 7998, 8003, 8018, 8032, 8076, 8078, 8089, 8094, 8105, 8108, 8115, 8131, 8145, 8156, 8169, 8171, 8200, 8203, 8219, 8247, 8262, 8265, 8267, 8277, 8280, 8307, 8328, 8340, 8343, 8348, 8349, 8369, 8378, 8380, 8382, 8389, 8409, 8446, 8451, 8455, 8463, 8476, 8477, 8493, 8501, 8508, 8515, 8521, 8524, 8536, 8539, 8546, 8568, 8572, 8574, 8580, 8595, 8604, 8605, 8613, 8614, 8615, 8619, 8629, 8648, 8660, 8666, 8668, 8670, 8676, 8685, 8694, 8702, 8728, 8739, 8753, 8765, 8766, 8768, 8769, 8774, 8777, 8792, 8810, 8816, 8824, 8846, 8862, 8866, 8875, 8890, 8902, 8906, 8939, 8942, 8949, 8959, 8970, 8999, 9050, 9061, 9073, 9085, 9087, 9106, 9111, 9146, 9152, 9175, 9199, 9200, 9203, 9208, 9218, 9223, 9276, 9289, 9292, 9305, 9325, 9361, 9380, 9406, 9412, 9438, 9447, 9501, 9535, 9551, 9594, 9606, 9634, 9640, 9641, 9643, 9650, 9660, 9661, 9676, 9699, 9714, 9716, 9721, 9773, 9800, 9829, 9836, 9837, 9846, 9904, 9920, 9931, 9936, 9938, 9946, 9952, 9972, 9976, 9989, 10005, 10007, 10015, 10016, 10032, 10059, 10071, 10128, 10131, 10172, 10175, 10177, 10182, 10209, 10327, 10336, 10339, 10342, 10343, 10375, 10439, 10455, 10487, 10493, 10495, 10503, 10524, 10573, 10587, 10607, 10619, 10623, 10631, 10635, 10641, 10660, 10664, 10674, 10685, 10704, 10722, 10725, 10759, 10769, 10792, 10842, 10846, 10847, 10851, 10857, 10860, 10908, 10910, 10911, 10913, 10936, 10952, 10958, 10966, 11019, 11032, 11041, 11053, 11065, 11081, 11083, 11096, 11104, 11111, 11128, 11129, 11158, 11164, 11172, 11176, 11222, 11224, 11231, 11250, 11287, 11289, 11300, 11307, 11308, 11333, 11348, 11350, 11386, 11407, 11465, 11470, 11485, 11502, 11548, 11557, 11562, 11576, 11600, 11617, 11620, 11629, 11642, 11664, 11690, 11692, 11710, 11732, 11733, 11738, 11764, 11774, 11804, 11805, 11807, 11820, 11847, 11858, 11915, 11919, 11929, 11942, 11944, 11961, 11968, 11999, 12012, 12017, 12019, 12025, 12028, 12037, 12038, 12058, 12067, 12070, 12071, 12079, 12083, 12089, 12111, 12125, 12133, 12160, 12169, 12205, 12217, 12221, 12230, 12240, 12243, 12251, 12252, 12257, 12263, 12270, 12278, 12285, 12316, 12342, 12352, 12356, 12398]\n",
      "posting list for start [0, 61, 122, 144, 163, 263, 326, 343, 387, 582, 711, 861, 885, 1007, 1040, 1081, 1145, 1297, 1313, 1415, 1531, 1581, 1586, 1590, 1647, 1732, 1958, 1962, 2073, 2079, 2143, 2169, 2186, 2356, 2462, 2478, 2606, 2654, 2675, 2749, 2895, 2926, 3001, 3016, 3050, 3208, 3368, 3372, 3509, 3757, 3776, 3878, 3922, 3987, 4122, 4674, 4760, 4819, 5017, 5076, 5078, 5227, 5266, 5316, 5534, 5712, 5721, 5789, 5855, 5880, 5963, 6064, 6090, 6092, 6309, 6358, 6450, 6590, 6740, 7002, 7003, 7101, 7157, 7194, 7303, 7320, 7338, 7396, 7481, 7602, 7711, 7733, 7746, 7748, 7769, 7796, 7834, 7872, 7924, 7943, 7946, 7991, 8009, 8038, 8113, 8131, 8199, 8224, 8290, 8360, 8369, 8488, 8601, 9003, 9014, 9019, 9169, 9198, 9421, 9480, 9660, 9990, 10013, 10042, 10142, 10187, 10422, 10486, 10546, 10825, 11024, 11240, 11291, 11600, 11691, 11787, 11811, 11817, 11884, 12304]\n",
      "Resultant list:  [1415, 2675, 7872, 8131, 8369, 9660, 11600]\n"
     ]
    }
   ],
   "source": [
    "l1=final_train[input1]\n",
    "l2=final_train[input2]\n",
    "print(\"posting list for\",input1 ,l1)\n",
    "print(\"posting list for\",input2,l2)\n",
    "print(\"Resultant list: \",and_query(l1,l2))"
   ]
  },
  {
   "cell_type": "code",
   "execution_count": 39,
   "metadata": {
    "colab": {
     "base_uri": "https://localhost:8080/"
    },
    "id": "xsVholpd_KlG",
    "outputId": "dff27ed5-4489-4e24-d78d-47e992de3982"
   },
   "outputs": [
    {
     "name": "stdout",
     "output_type": "stream",
     "text": [
      "Resultant list:  [0, 51, 61, 68, 88, 122, 138, 144, 151, 163, 186, 188, 219, 263, 278, 305, 311, 312, 313, 326, 338, 343, 351, 387, 394, 401, 406, 462, 466, 495, 516, 533, 536, 582, 599, 654, 655, 670, 688, 694, 695, 711, 719, 750, 760, 785, 851, 861, 862, 885, 923, 962, 991, 1007, 1040, 1057, 1060, 1081, 1094, 1111, 1121, 1133, 1135, 1145, 1168, 1235, 1240, 1241, 1261, 1297, 1313, 1333, 1366, 1371, 1383, 1390, 1408, 1415, 1457, 1472, 1484, 1498, 1501, 1504, 1531, 1542, 1548, 1581, 1586, 1590, 1612, 1640, 1647, 1663, 1670, 1718, 1719, 1732, 1738, 1750, 1761, 1763, 1811, 1831, 1843, 1875, 1880, 1886, 1899, 1903, 1905, 1931, 1943, 1958, 1962, 1972, 1992, 2010, 2062, 2073, 2079, 2095, 2111, 2143, 2169, 2182, 2186, 2195, 2224, 2243, 2245, 2320, 2336, 2348, 2356, 2455, 2462, 2476, 2478, 2489, 2506, 2527, 2532, 2578, 2606, 2613, 2625, 2654, 2675, 2705, 2736, 2749, 2886, 2895, 2904, 2926, 2929, 2964, 3001, 3004, 3015, 3016, 3050, 3083, 3161, 3185, 3188, 3208, 3217, 3223, 3226, 3266, 3270, 3288, 3294, 3368, 3372, 3379, 3434, 3436, 3450, 3500, 3508, 3509, 3522, 3523, 3540, 3574, 3625, 3654, 3670, 3691, 3741, 3743, 3752, 3757, 3776, 3780, 3836, 3860, 3878, 3902, 3922, 3936, 3952, 3965, 3966, 3987, 4001, 4060, 4087, 4122, 4148, 4212, 4220, 4255, 4291, 4305, 4338, 4355, 4381, 4391, 4406, 4424, 4556, 4576, 4577, 4582, 4596, 4649, 4674, 4679, 4703, 4760, 4814, 4816, 4819, 4901, 4930, 4964, 5012, 5017, 5054, 5074, 5076, 5078, 5156, 5169, 5197, 5198, 5203, 5227, 5240, 5266, 5289, 5309, 5316, 5341, 5361, 5362, 5386, 5393, 5449, 5459, 5469, 5534, 5553, 5577, 5591, 5673, 5695, 5706, 5712, 5721, 5723, 5741, 5753, 5779, 5789, 5839, 5855, 5880, 5908, 5917, 5925, 5928, 5931, 5939, 5950, 5955, 5963, 5972, 5978, 6024, 6064, 6071, 6083, 6090, 6092, 6171, 6174, 6177, 6190, 6192, 6201, 6230, 6234, 6264, 6279, 6283, 6287, 6296, 6309, 6325, 6328, 6358, 6363, 6376, 6393, 6410, 6427, 6428, 6432, 6439, 6450, 6458, 6477, 6482, 6500, 6507, 6524, 6531, 6542, 6554, 6566, 6569, 6590, 6595, 6616, 6664, 6676, 6700, 6713, 6716, 6722, 6729, 6738, 6740, 6745, 6763, 6764, 6790, 6814, 6821, 6823, 6835, 6860, 6878, 6907, 6917, 6922, 6933, 6946, 6958, 6973, 6976, 6985, 6986, 7002, 7003, 7008, 7012, 7017, 7022, 7033, 7043, 7045, 7072, 7084, 7090, 7101, 7118, 7120, 7122, 7123, 7147, 7153, 7157, 7170, 7178, 7194, 7247, 7282, 7285, 7293, 7297, 7298, 7303, 7304, 7320, 7338, 7347, 7386, 7393, 7396, 7397, 7416, 7425, 7428, 7453, 7468, 7473, 7481, 7482, 7500, 7503, 7508, 7534, 7552, 7558, 7559, 7579, 7595, 7602, 7609, 7610, 7614, 7626, 7657, 7658, 7679, 7680, 7708, 7711, 7721, 7729, 7730, 7733, 7741, 7746, 7748, 7755, 7764, 7769, 7776, 7777, 7786, 7787, 7796, 7833, 7834, 7835, 7838, 7842, 7845, 7872, 7878, 7883, 7889, 7893, 7906, 7909, 7913, 7915, 7924, 7928, 7930, 7939, 7943, 7946, 7955, 7964, 7980, 7982, 7991, 7998, 8003, 8009, 8018, 8032, 8038, 8076, 8078, 8089, 8094, 8105, 8108, 8113, 8115, 8131, 8145, 8156, 8169, 8171, 8199, 8200, 8203, 8219, 8224, 8247, 8262, 8265, 8267, 8277, 8280, 8290, 8307, 8328, 8340, 8343, 8348, 8349, 8360, 8369, 8378, 8380, 8382, 8389, 8409, 8446, 8451, 8455, 8463, 8476, 8477, 8488, 8493, 8501, 8508, 8515, 8521, 8524, 8536, 8539, 8546, 8568, 8572, 8574, 8580, 8595, 8601, 8604, 8605, 8613, 8614, 8615, 8619, 8629, 8648, 8660, 8666, 8668, 8670, 8676, 8685, 8694, 8702, 8728, 8739, 8753, 8765, 8766, 8768, 8769, 8774, 8777, 8792, 8810, 8816, 8824, 8846, 8862, 8866, 8875, 8890, 8902, 8906, 8939, 8942, 8949, 8959, 8970, 8999, 9003, 9014, 9019, 9050, 9061, 9073, 9085, 9087, 9106, 9111, 9146, 9152, 9169, 9175, 9198, 9199, 9200, 9203, 9208, 9218, 9223, 9276, 9289, 9292, 9305, 9325, 9361, 9380, 9406, 9412, 9421, 9438, 9447, 9480, 9501, 9535, 9551, 9594, 9606, 9634, 9640, 9641, 9643, 9650, 9660, 9661, 9676, 9699, 9714, 9716, 9721, 9773, 9800, 9829, 9836, 9837, 9846, 9904, 9920, 9931, 9936, 9938, 9946, 9952, 9972, 9976, 9989, 9990, 10005, 10007, 10013, 10015, 10016, 10032, 10042, 10059, 10071, 10128, 10131, 10142, 10172, 10175, 10177, 10182, 10187, 10209, 10327, 10336, 10339, 10342, 10343, 10375, 10422, 10439, 10455, 10486, 10487, 10493, 10495, 10503, 10524, 10546, 10573, 10587, 10607, 10619, 10623, 10631, 10635, 10641, 10660, 10664, 10674, 10685, 10704, 10722, 10725, 10759, 10769, 10792, 10825, 10842, 10846, 10847, 10851, 10857, 10860, 10908, 10910, 10911, 10913, 10936, 10952, 10958, 10966, 11019, 11024, 11032, 11041, 11053, 11065, 11081, 11083, 11096, 11104, 11111, 11128, 11129, 11158, 11164, 11172, 11176, 11222, 11224, 11231, 11240, 11250, 11287, 11289, 11291, 11300, 11307, 11308, 11333, 11348, 11350, 11386, 11407, 11465, 11470, 11485, 11502, 11548, 11557, 11562, 11576, 11600, 11617, 11620, 11629, 11642, 11664, 11690, 11691, 11692, 11710, 11732, 11733, 11738, 11764, 11774, 11787, 11804, 11805, 11807, 11811, 11817, 11820, 11847, 11858, 11884, 11915, 11919, 11929, 11942, 11944, 11961, 11968, 11999, 12012, 12017, 12019, 12025, 12028, 12037, 12038, 12058, 12067, 12070, 12071, 12079, 12083, 12089, 12111, 12125, 12133, 12160, 12169, 12205, 12217, 12221, 12230, 12240, 12243, 12251, 12252, 12257, 12263, 12270, 12278, 12285, 12304, 12316, 12342, 12352, 12356, 12398]\n",
      "Length of posting list for good 697\n",
      "Length of posting list for start 140\n",
      "Length of and list:  7\n",
      "Resultant list : [0, 51, 61, 68, 88, 122, 138, 144, 151, 163, 186, 188, 219, 263, 278, 305, 311, 312, 313, 326, 338, 343, 351, 387, 394, 401, 406, 462, 466, 495, 516, 533, 536, 582, 599, 654, 655, 670, 688, 694, 695, 711, 719, 750, 760, 785, 851, 861, 862, 885, 923, 962, 991, 1007, 1040, 1057, 1060, 1081, 1094, 1111, 1121, 1133, 1135, 1145, 1168, 1235, 1240, 1241, 1261, 1297, 1313, 1333, 1366, 1371, 1383, 1390, 1408, 1415, 1457, 1472, 1484, 1498, 1501, 1504, 1531, 1542, 1548, 1581, 1586, 1590, 1612, 1640, 1647, 1663, 1670, 1718, 1719, 1732, 1738, 1750, 1761, 1763, 1811, 1831, 1843, 1875, 1880, 1886, 1899, 1903, 1905, 1931, 1943, 1958, 1962, 1972, 1992, 2010, 2062, 2073, 2079, 2095, 2111, 2143, 2169, 2182, 2186, 2195, 2224, 2243, 2245, 2320, 2336, 2348, 2356, 2455, 2462, 2476, 2478, 2489, 2506, 2527, 2532, 2578, 2606, 2613, 2625, 2654, 2675, 2705, 2736, 2749, 2886, 2895, 2904, 2926, 2929, 2964, 3001, 3004, 3015, 3016, 3050, 3083, 3161, 3185, 3188, 3208, 3217, 3223, 3226, 3266, 3270, 3288, 3294, 3368, 3372, 3379, 3434, 3436, 3450, 3500, 3508, 3509, 3522, 3523, 3540, 3574, 3625, 3654, 3670, 3691, 3741, 3743, 3752, 3757, 3776, 3780, 3836, 3860, 3878, 3902, 3922, 3936, 3952, 3965, 3966, 3987, 4001, 4060, 4087, 4122, 4148, 4212, 4220, 4255, 4291, 4305, 4338, 4355, 4381, 4391, 4406, 4424, 4556, 4576, 4577, 4582, 4596, 4649, 4674, 4679, 4703, 4760, 4814, 4816, 4819, 4901, 4930, 4964, 5012, 5017, 5054, 5074, 5076, 5078, 5156, 5169, 5197, 5198, 5203, 5227, 5240, 5266, 5289, 5309, 5316, 5341, 5361, 5362, 5386, 5393, 5449, 5459, 5469, 5534, 5553, 5577, 5591, 5673, 5695, 5706, 5712, 5721, 5723, 5741, 5753, 5779, 5789, 5839, 5855, 5880, 5908, 5917, 5925, 5928, 5931, 5939, 5950, 5955, 5963, 5972, 5978, 6024, 6064, 6071, 6083, 6090, 6092, 6171, 6174, 6177, 6190, 6192, 6201, 6230, 6234, 6264, 6279, 6283, 6287, 6296, 6309, 6325, 6328, 6358, 6363, 6376, 6393, 6410, 6427, 6428, 6432, 6439, 6450, 6458, 6477, 6482, 6500, 6507, 6524, 6531, 6542, 6554, 6566, 6569, 6590, 6595, 6616, 6664, 6676, 6700, 6713, 6716, 6722, 6729, 6738, 6740, 6745, 6763, 6764, 6790, 6814, 6821, 6823, 6835, 6860, 6878, 6907, 6917, 6922, 6933, 6946, 6958, 6973, 6976, 6985, 6986, 7002, 7003, 7008, 7012, 7017, 7022, 7033, 7043, 7045, 7072, 7084, 7090, 7101, 7118, 7120, 7122, 7123, 7147, 7153, 7157, 7170, 7178, 7194, 7247, 7282, 7285, 7293, 7297, 7298, 7303, 7304, 7320, 7338, 7347, 7386, 7393, 7396, 7397, 7416, 7425, 7428, 7453, 7468, 7473, 7481, 7482, 7500, 7503, 7508, 7534, 7552, 7558, 7559, 7579, 7595, 7602, 7609, 7610, 7614, 7626, 7657, 7658, 7679, 7680, 7708, 7711, 7721, 7729, 7730, 7733, 7741, 7746, 7748, 7755, 7764, 7769, 7776, 7777, 7786, 7787, 7796, 7833, 7834, 7835, 7838, 7842, 7845, 7872, 7878, 7883, 7889, 7893, 7906, 7909, 7913, 7915, 7924, 7928, 7930, 7939, 7943, 7946, 7955, 7964, 7980, 7982, 7991, 7998, 8003, 8009, 8018, 8032, 8038, 8076, 8078, 8089, 8094, 8105, 8108, 8113, 8115, 8131, 8145, 8156, 8169, 8171, 8199, 8200, 8203, 8219, 8224, 8247, 8262, 8265, 8267, 8277, 8280, 8290, 8307, 8328, 8340, 8343, 8348, 8349, 8360, 8369, 8378, 8380, 8382, 8389, 8409, 8446, 8451, 8455, 8463, 8476, 8477, 8488, 8493, 8501, 8508, 8515, 8521, 8524, 8536, 8539, 8546, 8568, 8572, 8574, 8580, 8595, 8601, 8604, 8605, 8613, 8614, 8615, 8619, 8629, 8648, 8660, 8666, 8668, 8670, 8676, 8685, 8694, 8702, 8728, 8739, 8753, 8765, 8766, 8768, 8769, 8774, 8777, 8792, 8810, 8816, 8824, 8846, 8862, 8866, 8875, 8890, 8902, 8906, 8939, 8942, 8949, 8959, 8970, 8999, 9003, 9014, 9019, 9050, 9061, 9073, 9085, 9087, 9106, 9111, 9146, 9152, 9169, 9175, 9198, 9199, 9200, 9203, 9208, 9218, 9223, 9276, 9289, 9292, 9305, 9325, 9361, 9380, 9406, 9412, 9421, 9438, 9447, 9480, 9501, 9535, 9551, 9594, 9606, 9634, 9640, 9641, 9643, 9650, 9660, 9661, 9676, 9699, 9714, 9716, 9721, 9773, 9800, 9829, 9836, 9837, 9846, 9904, 9920, 9931, 9936, 9938, 9946, 9952, 9972, 9976, 9989, 9990, 10005, 10007, 10013, 10015, 10016, 10032, 10042, 10059, 10071, 10128, 10131, 10142, 10172, 10175, 10177, 10182, 10187, 10209, 10327, 10336, 10339, 10342, 10343, 10375, 10422, 10439, 10455, 10486, 10487, 10493, 10495, 10503, 10524, 10546, 10573, 10587, 10607, 10619, 10623, 10631, 10635, 10641, 10660, 10664, 10674, 10685, 10704, 10722, 10725, 10759, 10769, 10792, 10825, 10842, 10846, 10847, 10851, 10857, 10860, 10908, 10910, 10911, 10913, 10936, 10952, 10958, 10966, 11019, 11024, 11032, 11041, 11053, 11065, 11081, 11083, 11096, 11104, 11111, 11128, 11129, 11158, 11164, 11172, 11176, 11222, 11224, 11231, 11240, 11250, 11287, 11289, 11291, 11300, 11307, 11308, 11333, 11348, 11350, 11386, 11407, 11465, 11470, 11485, 11502, 11548, 11557, 11562, 11576, 11600, 11617, 11620, 11629, 11642, 11664, 11690, 11691, 11692, 11710, 11732, 11733, 11738, 11764, 11774, 11787, 11804, 11805, 11807, 11811, 11817, 11820, 11847, 11858, 11884, 11915, 11919, 11929, 11942, 11944, 11961, 11968, 11999, 12012, 12017, 12019, 12025, 12028, 12037, 12038, 12058, 12067, 12070, 12071, 12079, 12083, 12089, 12111, 12125, 12133, 12160, 12169, 12205, 12217, 12221, 12230, 12240, 12243, 12251, 12252, 12257, 12263, 12270, 12278, 12285, 12304, 12316, 12342, 12352, 12356, 12398]\n",
      "Length of the OR list: 830\n"
     ]
    }
   ],
   "source": [
    "print(\"Resultant list: \",or_query(l1,l2))\n",
    "print(\"Length of posting list for\",input1 ,len(l1))\n",
    "print(\"Length of posting list for\",input2,len(l2))\n",
    "print(\"Length of and list: \",len(and_query(l1,l2)))\n",
    "print(\"Resultant list :\",or_query(l1,l2))\n",
    "print(\"Length of the OR list:\",len(or_query(l1,l2)))"
   ]
  },
  {
   "cell_type": "code",
   "execution_count": 26,
   "metadata": {
    "colab": {
     "base_uri": "https://localhost:8080/"
    },
    "id": "RHOP7vpC_asZ",
    "outputId": "03d2567f-a00f-47ee-a1b8-88a18dcc32cb"
   },
   "outputs": [
    {
     "name": "stdout",
     "output_type": "stream",
     "text": [
      "Enter the third input word : \n",
      "school\n",
      "Enter the fourth input word : \n",
      "sleep\n",
      "Result: [0, 12, 61, 66, 117, 122, 143, 144, 163, 263, 299, 305, 312, 326, 343, 387, 534, 582, 597, 698, 709, 711, 843, 844, 861, 885, 1007, 1040, 1048, 1064, 1081, 1145, 1188, 1227, 1297, 1313, 1330, 1339, 1363, 1415, 1531, 1543, 1546, 1549, 1550, 1572, 1581, 1586, 1590, 1595, 1647, 1649, 1669, 1670, 1674, 1732, 1867, 1958, 1962, 2073, 2079, 2143, 2169, 2186, 2356, 2396, 2434, 2460, 2462, 2477, 2478, 2480, 2606, 2654, 2675, 2712, 2749, 2781, 2829, 2895, 2926, 2978, 2990, 3001, 3016, 3019, 3050, 3208, 3251, 3368, 3370, 3372, 3389, 3466, 3474, 3509, 3577, 3631, 3646, 3757, 3776, 3845, 3878, 3907, 3922, 3987, 4110, 4122, 4165, 4297, 4310, 4391, 4394, 4545, 4574, 4592, 4674, 4760, 4819, 5017, 5031, 5076, 5078, 5133, 5227, 5244, 5266, 5309, 5316, 5534, 5712, 5721, 5789, 5855, 5873, 5880, 5963, 6010, 6064, 6083, 6090, 6092, 6094, 6267, 6309, 6337, 6339, 6348, 6358, 6383, 6450, 6566, 6578, 6590, 6602, 6740, 6746, 6775, 6982, 6986, 7002, 7003, 7009, 7031, 7090, 7099, 7101, 7133, 7157, 7194, 7266, 7303, 7316, 7320, 7338, 7356, 7360, 7365, 7386, 7388, 7396, 7426, 7481, 7509, 7526, 7536, 7579, 7602, 7639, 7655, 7711, 7717, 7722, 7733, 7746, 7748, 7769, 7796, 7798, 7808, 7829, 7834, 7842, 7856, 7872, 7874, 7886, 7891, 7914, 7917, 7924, 7943, 7946, 7952, 7964, 7991, 8009, 8038, 8092, 8113, 8116, 8126, 8131, 8166, 8199, 8224, 8290, 8298, 8348, 8360, 8369, 8451, 8488, 8592, 8601, 8605, 8611, 8651, 8681, 8747, 8753, 8784, 9003, 9014, 9019, 9050, 9081, 9169, 9198, 9289, 9421, 9478, 9480, 9489, 9660, 9770, 9800, 9804, 9881, 9938, 9990, 10013, 10042, 10142, 10175, 10187, 10327, 10422, 10481, 10486, 10495, 10516, 10546, 10607, 10635, 10737, 10825, 10990, 11024, 11240, 11291, 11523, 11557, 11576, 11600, 11691, 11703, 11754, 11787, 11793, 11811, 11817, 11884, 11988, 12038, 12295, 12304, 12319, 12396, 12402]\n",
      "Result length: 300\n"
     ]
    }
   ],
   "source": [
    "print(\"Enter the third input word : \")\n",
    "input3=input()\n",
    "print(\"Enter the fourth input word : \")\n",
    "input4=input()\n",
    "l3=final_train[input3]\n",
    "l4=final_train[input4]\n",
    "resultant=or_query(or_query(and_query(l1,l4),l3),l2)\n",
    "print(\"Result:\",resultant)\n",
    "print(\"Result length:\",len(resultant))"
   ]
  },
  {
   "cell_type": "code",
   "execution_count": 27,
   "metadata": {
    "colab": {
     "base_uri": "https://localhost:8080/"
    },
    "id": "QCxLhX-O_-0z",
    "outputId": "104f3dd3-faa7-4518-b1ad-21adf5e7e51a"
   },
   "outputs": [
    {
     "name": "stdout",
     "output_type": "stream",
     "text": [
      "Result: [305, 312, 326, 1415, 1962, 2675, 6064, 6083, 6566, 7579, 7834, 7872, 8116, 8131, 8369, 8605, 9289, 9660, 9800, 9938, 10327, 10495, 10516, 10607, 10635, 11557, 11600, 12038]\n",
      "Result length: 28\n"
     ]
    }
   ],
   "source": [
    "resultant=and_query(or_query(l1,l3),or_query(l2,l4))\n",
    "print(\"Result:\",resultant)\n",
    "print(\"Result length:\",len(resultant))\n",
    "\n"
   ]
  },
  {
   "cell_type": "markdown",
   "metadata": {},
   "source": [
    "# GENERATING POSITIONAL INDEX "
   ]
  },
  {
   "cell_type": "code",
   "execution_count": 40,
   "metadata": {
    "colab": {
     "base_uri": "https://localhost:8080/"
    },
    "id": "XqAk1K6SAWlm",
    "outputId": "cf320a6a-9d20-4ca1-e547-34ac405bc98b"
   },
   "outputs": [
    {
     "name": "stdout",
     "output_type": "stream",
     "text": [
      "know [431, {0: [0], 6: [2], 64: [8], 104: [0], 114: [1], 134: [8], 153: [8], 166: [0], 171: [4], 210: [3], 217: [9], 243: [5], 278: [13], 292: [1], 295: [1], 325: [10], 344: [7], 449: [2], 465: [1], 467: [3], 487: [1], 492: [1], 511: [5], 550: [3], 566: [1], 593: [10], 595: [1], 667: [5], 680: [2], 726: [2], 754: [2], 781: [1], 823: [5], 826: [2], 838: [3], 970: [0], 971: [3], 977: [2], 1009: [6], 1019: [3], 1070: [6], 1094: [3], 1106: [0], 1134: [5], 1157: [1], 1163: [1], 1164: [8], 1187: [0], 1229: [6], 1270: [0], 1287: [0], 1320: [1], 1363: [7], 1408: [1], 1421: [4], 1504: [4], 1552: [9], 1576: [4], 1599: [9], 1618: [0], 1650: [0], 1673: [4], 1712: [0], 1713: [12], 1783: [2], 1789: [0], 1794: [6], 1843: [0], 1858: [0], 1859: [8], 1894: [2], 1928: [0], 1950: [0], 1955: [11], 1976: [1], 1985: [1], 1992: [0], 2030: [2], 2037: [9], 2054: [1], 2077: [2], 2079: [8], 2088: [9], 2146: [2], 2192: [5], 2254: [0], 2272: [7], 2325: [0], 2334: [3], 2367: [0], 2380: [7], 2389: [2], 2421: [2], 2440: [2], 2446: [0], 2467: [4], 2497: [1], 2500: [4], 2512: [6], 2517: [3], 2538: [0], 2555: [0], 2599: [4], 2626: [6], 2680: [1], 2703: [8], 2708: [2], 2719: [0], 2823: [0], 2828: [2], 2852: [2], 2896: [4], 2927: [7], 2928: [2], 2944: [2], 2968: [1], 3019: [5], 3123: [2], 3139: [3], 3173: [0], 3190: [0], 3192: [6], 3206: [4], 3328: [1], 3380: [0], 3411: [1], 3494: [11], 3505: [2], 3533: [3], 3634: [4], 3689: [6], 3787: [5], 3808: [3], 3830: [9], 3839: [5], 3878: [4], 3902: [10], 3926: [0], 3942: [0], 3974: [6], 3991: [4], 3993: [0], 4045: [3], 4052: [8], 4056: [2], 4059: [0], 4086: [2], 4107: [0], 4138: [4], 4177: [0], 4186: [0], 4189: [6], 4265: [4], 4276: [4], 4316: [0], 4361: [8], 4369: [7], 4387: [0], 4453: [0], 4490: [1], 4515: [0], 4519: [1], 4540: [5], 4553: [7], 4569: [4], 4586: [6], 4654: [12], 4667: [1], 4711: [1], 4730: [2], 4764: [3], 4777: [2], 4855: [0], 4869: [0], 4888: [0], 4909: [5], 4974: [7], 4981: [1], 5008: [2], 5020: [0], 5024: [5], 5037: [0], 5153: [4], 5242: [9], 5275: [0], 5299: [1], 5344: [1], 5459: [4], 5491: [1], 5555: [5], 5577: [6], 5578: [3], 5593: [2], 5597: [8], 5598: [9], 5623: [3], 5626: [7], 5742: [9], 5797: [5], 5820: [0], 5839: [0], 5860: [0], 5863: [0], 5910: [1], 5933: [3], 5966: [3], 6033: [0], 6058: [2], 6080: [0], 6092: [14], 6099: [2], 6104: [0], 6111: [11], 6117: [8], 6121: [1], 6139: [3], 6176: [9], 6180: [0], 6203: [9], 6223: [3], 6276: [4], 6286: [3], 6342: [11], 6387: [10], 6413: [1], 6421: [0], 6434: [1], 6454: [5], 6455: [0], 6495: [7], 6512: [5], 6564: [9], 6705: [1], 6716: [2], 6728: [3], 6748: [0], 6751: [3], 6789: [1], 6856: [4], 6992: [2], 7001: [0], 7050: [7], 7090: [6], 7115: [5], 7163: [5], 7242: [4], 7358: [5], 7421: [0], 7464: [0], 7468: [3], 7481: [6], 7498: [7], 7503: [1], 7510: [6], 7543: [4], 7551: [4], 7560: [12], 7565: [1], 7636: [6], 7649: [8], 7689: [6], 7747: [5], 7771: [0], 7790: [3], 7797: [7], 7827: [0], 7844: [6], 7854: [2], 7861: [1], 7882: [1], 7965: [0], 8036: [7], 8136: [5], 8172: [0], 8208: [0], 8233: [5], 8242: [0], 8375: [0], 8413: [0], 8419: [7], 8437: [0], 8455: [2], 8459: [0], 8494: [1], 8508: [3], 8543: [5], 8549: [6], 8552: [1], 8562: [5], 8574: [1], 8585: [0], 8592: [2], 8593: [1], 8599: [3], 8611: [2], 8628: [0], 8631: [2], 8722: [7], 8730: [3], 8768: [2], 8773: [6], 8780: [4], 8802: [3], 8826: [0], 8846: [2], 8875: [2], 8876: [7], 8893: [5], 8903: [3], 8912: [0], 8980: [0], 9033: [1], 9057: [7], 9082: [11], 9084: [4], 9116: [1], 9154: [6], 9161: [0], 9188: [4], 9207: [9], 9209: [4], 9210: [0], 9219: [8], 9278: [1], 9336: [4], 9357: [9], 9364: [9], 9407: [12], 9425: [0], 9429: [1], 9500: [1], 9504: [5], 9552: [3], 9559: [9], 9586: [0], 9604: [1], 9667: [9], 9703: [2], 9714: [12], 9718: [9], 9812: [1], 9833: [1], 9839: [5], 9866: [3], 9888: [0], 9897: [0], 9899: [0], 9928: [5], 9942: [0], 9949: [1], 10126: [3], 10164: [9], 10208: [1], 10211: [3], 10221: [0], 10314: [8], 10323: [6], 10389: [8], 10563: [2], 10595: [3], 10600: [8], 10898: [6], 10962: [1], 10973: [1], 10976: [1], 10978: [1], 11042: [2], 11073: [3], 11103: [2], 11110: [5], 11114: [4], 11160: [0], 11242: [4], 11257: [9], 11268: [13], 11293: [2], 11300: [4], 11316: [2], 11349: [6], 11356: [5], 11386: [1], 11437: [3], 11443: [0], 11445: [1], 11449: [6], 11452: [1], 11574: [8], 11593: [3], 11610: [7], 11663: [1], 11677: [15], 11719: [0], 11742: [1], 11747: [3], 11774: [10], 11822: [8], 11845: [4], 11855: [7], 11860: [3], 11910: [0], 11927: [5], 11955: [5], 11970: [1], 12054: [5], 12060: [1], 12133: [9], 12139: [3], 12169: [1], 12254: [0], 12309: [2], 12327: [1], 12377: [7], 12417: [0], 12445: [1], 12452: [5]}]\n",
      "listenin [4, {0: [1], 5864: [3], 9881: [0], 11009: [2]}]\n",
      "bad [192, {0: [2], 16: [10], 52: [0], 121: [7], 130: [0], 158: [7], 232: [1], 257: [6], 278: [12], 324: [6], 415: [0], 424: [5], 479: [5], 480: [3], 625: [6], 696: [4], 722: [3], 732: [5], 733: [8], 752: [4], 822: [4], 829: [4], 855: [6], 903: [3], 936: [3], 943: [4], 971: [4], 1041: [0], 1097: [9], 1112: [0], 1176: [1], 1180: [1], 1209: [5], 1294: [3], 1305: [11], 1315: [3], 1447: [1], 1455: [11], 1457: [7], 1531: [0], 1541: [3], 1559: [7], 1567: [6], 1581: [0], 1614: [0], 1664: [10], 1690: [6], 1700: [7], 1712: [5], 1745: [3], 1772: [4], 1795: [1], 1811: [0], 1914: [3], 2000: [1], 2018: [11], 2070: [6], 2118: [1], 2160: [5], 2173: [3], 2209: [1], 2268: [3], 2286: [5], 2383: [6], 2431: [8], 2470: [3], 2483: [5], 2484: [0], 2512: [5], 2599: [8], 2633: [3], 2638: [10], 2645: [1], 2671: [1], 2739: [5], 2779: [12], 2803: [2], 2819: [5], 2924: [8], 3066: [0], 3144: [0], 3155: [5], 3200: [2], 3221: [4], 3240: [0], 3268: [5], 3274: [8], 3455: [8], 3546: [2], 3579: [5], 3614: [1], 3616: [5], 3621: [7], 3645: [4], 3673: [5], 3688: [6], 3691: [3], 3713: [2], 3777: [0], 3895: [6], 3980: [2], 4001: [12], 4018: [8], 4060: [6], 4069: [6], 4167: [10], 4212: [5], 4277: [1], 4302: [1], 4363: [0], 4383: [5], 4422: [3], 4425: [1], 4547: [4], 4560: [3], 4569: [3], 4656: [3], 4690: [8], 4852: [7], 4922: [8], 4959: [2], 5013: [0], 5048: [0], 5114: [2], 5158: [5], 5197: [8], 5198: [0], 5216: [0], 5230: [2], 5268: [3], 5274: [6], 5277: [1], 5305: [3], 5484: [4], 5506: [2], 5559: [3], 5620: [5], 5669: [9], 5670: [3], 5683: [1], 5786: [8], 5823: [4], 5888: [4], 5898: [7], 5909: [11], 5914: [8], 5929: [0], 6086: [3], 6095: [6], 7000: [4], 7089: [2], 7096: [0], 7320: [4], 7332: [10], 7424: [1], 7563: [9], 7623: [7], 7916: [2], 8035: [6], 8142: [7], 8395: [4], 8475: [5], 8509: [9], 8541: [3], 8556: [0], 8618: [0], 8689: [8], 9149: [3], 9356: [7], 9544: [2], 9763: [3], 10034: [4], 10481: [9], 10685: [0], 10753: [8], 10881: [0], 10901: [2], 10902: [1], 10929: [6], 10961: [4], 11090: [3], 11181: [1], 11329: [2], 11805: [7], 11839: [4], 11892: [3], 11967: [6], 12111: [4], 12236: [4]}]\n",
      "habit [4, {0: [3], 6345: [2], 8659: [18], 10521: [8]}]\n",
      "earlier [17, {0: [4], 633: [6], 1372: [4], 1804: [6], 2053: [3], 2892: [1], 3031: [9], 3765: [3], 3943: [8], 4064: [4], 4456: [3], 6123: [4], 7910: [1], 8572: [1], 8700: [8], 11104: [1], 12030: [4]}]\n",
      "start [140, {0: [5], 61: [9], 122: [2], 144: [3], 163: [12], 263: [5], 326: [1], 343: [7], 387: [2], 582: [3], 711: [8], 861: [0], 885: [3], 1007: [4], 1040: [0], 1081: [1], 1145: [1], 1297: [2], 1313: [9], 1415: [3], 1531: [1], 1581: [3], 1586: [3], 1590: [1], 1647: [8], 1732: [1], 1958: [8], 1962: [1], 2073: [5], 2079: [0], 2143: [5], 2169: [0], 2186: [0], 2356: [5], 2462: [12], 2478: [0], 2606: [1], 2654: [3], 2675: [3], 2749: [1], 2895: [3], 2926: [1], 3001: [1], 3016: [0], 3050: [3], 3208: [7], 3368: [8], 3372: [8], 3509: [9], 3757: [7], 3776: [1], 3878: [2], 3922: [2], 3987: [5], 4122: [4], 4674: [10], 4760: [2], 4819: [0], 5017: [4], 5076: [0], 5078: [4], 5227: [8], 5266: [2], 5316: [6], 5534: [0], 5712: [8], 5721: [0], 5789: [3], 5855: [1], 5880: [0], 5963: [1], 6064: [3], 6090: [7], 6092: [5], 6309: [8], 6358: [7], 6450: [2], 6590: [6], 6740: [3], 7002: [4], 7003: [3], 7101: [5], 7157: [8], 7194: [8], 7303: [1], 7320: [5], 7338: [1], 7396: [1], 7481: [10], 7602: [3], 7711: [1], 7733: [4], 7746: [2], 7748: [5], 7769: [0], 7796: [5], 7834: [4], 7872: [4], 7924: [2], 7943: [3], 7946: [7], 7991: [4], 8009: [0], 8038: [9], 8113: [0], 8131: [11], 8199: [4], 8224: [0], 8290: [1], 8360: [5], 8369: [6], 8488: [12], 8601: [5], 9003: [4], 9014: [1], 9019: [3], 9169: [3], 9198: [2], 9421: [2], 9480: [4], 9660: [6], 9990: [0], 10013: [1], 10042: [3], 10142: [8], 10187: [4], 10422: [7], 10486: [2], 10546: [6], 10825: [5], 11024: [6], 11240: [5], 11291: [0], 11600: [5], 11691: [0], 11787: [0], 11811: [1], 11817: [0], 11884: [2], 12304: [6]}]\n",
      "freakin [15, {0: [6], 794: [0], 1325: [4], 2103: [5], 2222: [7], 2374: [0], 3293: [1], 3714: [1], 3824: [1], 6355: [7], 6785: [2], 6823: [5], 9057: [4], 11436: [2]}]\n",
      "part [30, {0: [7], 24: [6], 436: [8], 2544: [2], 3304: [6], 3410: [1], 3961: [10], 4068: [2], 4187: [16], 6209: [8], 6277: [2], 6626: [10], 6924: [2], 7195: [8], 7908: [8], 8768: [1], 8872: [3], 9347: [0], 9897: [8], 9900: [1], 10060: [2], 10304: [5], 11015: [9], 11259: [2], 11275: [2], 11423: [0], 11772: [7], 11967: [7]}]\n",
      "sleep [195, {1: [0], 24: [1], 116: [3], 192: [1], 196: [1], 214: [0], 250: [4], 293: [7], 301: [0], 305: [2], 312: [4], 340: [7], 352: [6], 373: [4], 392: [2], 412: [2], 481: [0], 491: [11], 507: [3], 519: [2], 525: [2], 565: [2], 637: [3], 638: [8], 711: [3], 720: [1], 723: [1], 729: [0], 733: [6], 737: [2], 794: [1], 799: [0], 826: [0], 863: [1], 873: [2], 928: [1], 944: [3], 957: [7], 989: [2], 1017: [2], 1038: [0], 1046: [2], 1047: [0], 1074: [3], 1075: [0], 1084: [7], 1112: [4], 1113: [0], 1124: [2], 1216: [6], 1309: [2], 1399: [2], 1404: [4], 1455: [10], 1461: [2], 1532: [2], 1551: [2], 1804: [12], 2191: [7], 2215: [2], 2361: [2], 2379: [1], 2528: [6], 2847: [6], 2944: [4], 2953: [1], 3230: [4], 3317: [2], 3366: [3], 3404: [5], 3906: [10], 3986: [3], 4208: [6], 4372: [16], 4373: [5], 4470: [8], 4650: [1], 4714: [1], 4809: [6], 4812: [6], 4836: [1], 4859: [11], 4881: [8], 4884: [2], 4917: [1], 4986: [0], 5007: [11], 5014: [0], 5058: [7], 5062: [0], 5171: [11], 5510: [4], 5512: [2], 5546: [3], 5609: [4], 5648: [3], 5844: [1], 5997: [4], 6018: [10], 6083: [4], 6132: [1], 6208: [4], 6246: [3], 6285: [6], 6300: [3], 6306: [1], 6377: [11], 6405: [1], 6417: [4], 6483: [8], 6566: [1], 6577: [5], 6584: [3], 6661: [1], 6742: [6], 6786: [1], 6940: [9], 7000: [5], 7195: [4], 7579: [5], 7738: [6], 7759: [9], 7888: [9], 8116: [6], 8235: [2], 8284: [3], 8362: [5], 8605: [0], 8725: [3], 9212: [8], 9289: [3], 9531: [1], 9697: [5], 9707: [3], 9800: [5], 9882: [1], 9910: [8], 9922: [5], 9938: [1], 10056: [2], 10070: [9], 10082: [2], 10114: [4], 10189: [0], 10202: [1], 10310: [4], 10314: [1], 10315: [2], 10327: [0], 10364: [8], 10378: [1], 10419: [7], 10431: [9], 10495: [4], 10516: [11], 10539: [1], 10603: [1], 10607: [4], 10635: [2], 10687: [1], 10712: [1], 10819: [1], 10850: [2], 10902: [5], 10904: [7], 10979: [1], 11052: [1], 11151: [6], 11167: [10], 11182: [6], 11191: [1], 11216: [1], 11240: [4], 11261: [9], 11302: [10], 11345: [0], 11376: [0], 11557: [3], 11571: [6], 11574: [6], 11646: [4], 11788: [9], 12035: [1], 12038: [3], 12046: [7], 12158: [0], 12364: [2], 12369: [6], 12392: [2], 12427: [0]}]\n",
      "im [412, {1: [1], 35: [3], 39: [6], 54: [2], 76: [4], 77: [19], 144: [5], 217: [1], 265: [3], 269: [1], 290: [3], 339: [2], 385: [0], 408: [5], 441: [10], 478: [11], 481: [2], 491: [5], 493: [0], 497: [5], 523: [2], 551: [0], 564: [0], 584: [4], 591: [9], 597: [9], 601: [0], 608: [4], 636: [3], 637: [1], 736: [0], 743: [11], 812: [2], 833: [0], 834: [4], 903: [4], 936: [1], 943: [0], 1019: [0], 1024: [6], 1032: [2], 1043: [3], 1151: [4], 1162: [3], 1227: [3], 1288: [1], 1368: [10], 1402: [11], 1475: [4], 1486: [0], 1502: [5], 1526: [0], 1591: [3], 1677: [8], 1858: [1], 1954: [5], 1974: [9], 1978: [1], 2010: [3], 2032: [3], 2048: [3], 2055: [5], 2093: [4], 2183: [3], 2201: [1], 2242: [4], 2292: [0], 2293: [4], 2302: [0], 2306: [7], 2331: [0], 2402: [10], 2422: [0], 2457: [0], 2462: [5], 2516: [6], 2521: [5], 2606: [5], 2682: [11], 2755: [13], 2758: [7], 2781: [3], 2783: [0], 2801: [1], 2805: [5], 2812: [7], 2829: [0], 2830: [2], 2834: [0], 2841: [2], 2880: [7], 2899: [4], 2919: [2], 2963: [6], 3121: [4], 3130: [4], 3135: [8], 3168: [7], 3180: [3], 3188: [4], 3207: [3], 3221: [16], 3243: [3], 3247: [2], 3333: [3], 3357: [12], 3367: [3], 3370: [0], 3381: [6], 3390: [6], 3391: [0], 3398: [5], 3429: [2], 3447: [0], 3480: [5], 3495: [0], 3533: [0], 3534: [6], 3556: [0], 3622: [14], 3633: [0], 3641: [6], 3652: [3], 3696: [5], 3718: [1], 3751: [11], 3758: [10], 3800: [1], 3839: [0], 3911: [6], 3923: [0], 3934: [10], 3954: [6], 3958: [1], 3974: [4], 3990: [4], 4004: [1], 4015: [2], 4044: [0], 4098: [0], 4107: [7], 4151: [6], 4190: [0], 4203: [0], 4220: [0], 4221: [0], 4238: [8], 4252: [0], 4259: [2], 4267: [1], 4299: [3], 4308: [2], 4317: [6], 4318: [1], 4372: [5], 4377: [6], 4479: [1], 4483: [0], 4489: [0], 4498: [0], 4516: [2], 4564: [9], 4567: [10], 4577: [0], 4584: [6], 4591: [0], 4592: [1], 4624: [4], 4626: [2], 4632: [1], 4657: [2], 4685: [0], 4689: [3], 4722: [0], 4767: [3], 4809: [9], 4821: [1], 4880: [2], 4882: [9], 4920: [0], 4939: [7], 4944: [0], 5034: [0], 5055: [2], 5090: [11], 5120: [2], 5138: [0], 5160: [3], 5165: [8], 5167: [1], 5172: [5], 5177: [0], 5212: [0], 5223: [0], 5278: [1], 5281: [8], 5318: [6], 5363: [2], 5368: [2], 5389: [9], 5392: [0], 5415: [3], 5432: [1], 5454: [3], 5472: [11], 5490: [1], 5508: [9], 5524: [8], 5562: [2], 5596: [0], 5614: [0], 5625: [3], 5627: [4], 5654: [0], 5675: [10], 5682: [7], 5687: [0], 5723: [1], 5724: [12], 5761: [3], 5762: [0], 5862: [0], 5866: [2], 5867: [5], 5872: [5], 5878: [0], 5897: [4], 5901: [0], 5959: [9], 5972: [0], 5975: [0], 5977: [0], 5978: [1], 6045: [1], 6051: [3], 6081: [3], 6084: [2], 6107: [3], 6127: [3], 6213: [0], 6233: [1], 6273: [2], 6338: [4], 6449: [1], 6461: [2], 6470: [0], 6505: [0], 6521: [2], 6533: [6], 6535: [1], 6590: [2], 6611: [1], 6745: [1], 6785: [1], 6786: [11], 6806: [7], 6816: [2], 6894: [1], 6929: [1], 6950: [12], 7125: [3], 7209: [6], 7236: [2], 7349: [1], 7414: [1], 7417: [5], 7464: [2], 7465: [9], 7485: [0], 7567: [4], 7632: [1], 7692: [2], 7747: [7], 7792: [3], 8068: [0], 8082: [4], 8095: [4], 8121: [3], 8198: [3], 8211: [7], 8240: [10], 8272: [0], 8369: [4], 8399: [5], 8413: [1], 8471: [2], 8515: [4], 8559: [4], 8592: [5], 8608: [0], 8611: [5], 8612: [9], 8634: [1], 8689: [7], 8750: [6], 8764: [2], 8792: [0], 8814: [11], 8952: [2], 9020: [2], 9036: [0], 9299: [3], 9344: [1], 9354: [2], 9386: [4], 9426: [2], 9441: [10], 9466: [5], 9486: [4], 9522: [5], 9559: [6], 9576: [0], 9579: [10], 9592: [8], 9664: [1], 9668: [0], 9777: [6], 9800: [6], 9847: [0], 9856: [4], 9893: [3], 9960: [4], 9997: [5], 10016: [2], 10029: [2], 10034: [8], 10087: [1], 10145: [7], 10208: [2], 10209: [0], 10278: [3], 10322: [8], 10326: [2], 10563: [0], 10568: [3], 10586: [9], 10622: [3], 10733: [3], 10777: [1], 10797: [5], 10872: [8], 10898: [7], 10954: [3], 10990: [8], 11040: [1], 11054: [11], 11065: [3], 11081: [4], 11131: [5], 11168: [6], 11199: [3], 11244: [6], 11310: [1], 11322: [0], 11504: [2], 11507: [0], 11577: [0], 11603: [1], 11633: [1], 11711: [0], 11767: [6], 11944: [0], 12010: [4], 12013: [0], 12031: [1], 12039: [0], 12044: [0], 12074: [3], 12081: [2], 12149: [1], 12165: [1], 12213: [5], 12250: [3], 12274: [0], 12351: [5], 12379: [5], 12406: [0]}]\n",
      "think [409, {1: [2], 7: [1], 11: [7], 21: [0], 34: [5], 38: [2], 44: [4], 48: [0], 70: [4], 74: [8], 109: [3], 115: [3], 171: [9], 172: [0], 187: [0], 189: [0], 197: [0], 217: [0], 267: [1], 317: [2], 341: [0], 343: [5], 363: [1], 370: [1], 382: [3], 404: [3], 457: [2], 462: [4], 464: [5], 474: [5], 483: [4], 495: [4], 549: [0], 619: [3], 653: [8], 670: [13], 695: [4], 738: [1], 807: [6], 812: [1], 851: [5], 860: [2], 861: [3], 872: [0], 906: [0], 929: [0], 957: [5], 958: [12], 976: [10], 995: [2], 1070: [3], 1093: [0], 1162: [9], 1164: [0], 1199: [2], 1205: [5], 1245: [9], 1246: [0], 1305: [10], 1307: [0], 1312: [3], 1375: [0], 1383: [1], 1385: [0], 1423: [1], 1425: [3], 1444: [8], 1446: [3], 1455: [0], 1485: [0], 1611: [10], 1630: [3], 1638: [0], 1646: [1], 1673: [0], 1722: [0], 1734: [2], 1762: [3], 1852: [2], 1878: [5], 1880: [6], 1954: [7], 1990: [1], 2021: [3], 2022: [5], 2039: [0], 2062: [2], 2141: [0], 2158: [0], 2175: [2], 2189: [11], 2230: [1], 2278: [0], 2284: [0], 2315: [5], 2447: [2], 2454: [1], 2476: [1], 2483: [0], 2526: [2], 2665: [0], 2699: [2], 2751: [10], 2792: [1], 2840: [6], 2844: [5], 2849: [4], 2863: [8], 2898: [0], 2909: [4], 2925: [7], 2979: [2], 3002: [5], 3117: [7], 3131: [0], 3163: [1], 3164: [8], 3211: [1], 3297: [1], 3311: [6], 3322: [1], 3329: [0], 3353: [6], 3357: [7], 3401: [0], 3403: [0], 3430: [0], 3439: [6], 3449: [7], 3456: [1], 3465: [0], 3482: [0], 3497: [7], 3597: [10], 3605: [1], 3618: [2], 3642: [0], 3698: [6], 3702: [0], 3765: [2], 3773: [1], 3814: [1], 3828: [0], 3834: [5], 3840: [5], 3877: [10], 3990: [9], 3995: [9], 3998: [0], 4005: [2], 4012: [8], 4015: [1], 4016: [2], 4034: [11], 4057: [7], 4170: [0], 4172: [1], 4228: [0], 4237: [5], 4264: [2], 4322: [5], 4401: [0], 4469: [1], 4507: [5], 4550: [4], 4553: [1], 4565: [0], 4593: [0], 4658: [0], 4681: [1], 4698: [0], 4722: [1], 4728: [3], 4741: [6], 4769: [0], 4794: [2], 4825: [2], 4851: [0], 4881: [0], 4900: [5], 4904: [0], 4916: [0], 4919: [4], 4923: [2], 4924: [8], 4987: [3], 5001: [4], 5106: [7], 5203: [0], 5318: [0], 5339: [1], 5404: [0], 5485: [2], 5529: [0], 5607: [0], 5751: [4], 5763: [0], 5767: [5], 5800: [1], 5830: [0], 5891: [1], 5895: [8], 5898: [2], 5974: [7], 6012: [7], 6058: [1], 6067: [1], 6170: [1], 6176: [11], 6193: [1], 6211: [2], 6216: [0], 6348: [0], 6390: [0], 6401: [9], 6467: [6], 6469: [3], 6545: [2], 6563: [0], 6587: [2], 6625: [4], 6638: [0], 6677: [1], 6683: [0], 6721: [0], 6763: [5], 6785: [5], 6788: [0], 6790: [4], 6874: [6], 6882: [9], 7093: [0], 7104: [10], 7130: [2], 7134: [1], 7135: [1], 7159: [7], 7239: [1], 7287: [11], 7330: [0], 7357: [0], 7386: [5], 7440: [3], 7521: [8], 7551: [5], 7557: [2], 7560: [4], 7661: [3], 7717: [9], 7747: [6], 7758: [0], 7787: [1], 7815: [7], 7888: [8], 7904: [4], 7966: [2], 7983: [0], 8010: [4], 8038: [6], 8050: [1], 8057: [0], 8102: [0], 8147: [1], 8207: [0], 8268: [2], 8287: [10], 8290: [4], 8302: [8], 8319: [5], 8349: [8], 8438: [3], 8534: [3], 8541: [1], 8596: [0], 8617: [2], 8632: [4], 8666: [3], 8677: [0], 8714: [1], 8726: [7], 8775: [0], 8809: [6], 8825: [0], 8836: [0], 8871: [2], 8901: [0], 8927: [5], 8930: [4], 8982: [1], 9019: [2], 9082: [3], 9086: [1], 9182: [3], 9198: [3], 9218: [6], 9230: [3], 9255: [9], 9258: [3], 9280: [5], 9297: [7], 9306: [2], 9336: [0], 9350: [0], 9392: [5], 9398: [0], 9407: [7], 9412: [6], 9419: [4], 9433: [9], 9435: [2], 9460: [4], 9467: [0], 9480: [2], 9515: [2], 9579: [4], 9608: [11], 9714: [10], 9741: [6], 9762: [6], 9798: [0], 9808: [3], 9823: [0], 9826: [3], 9856: [3], 9866: [5], 9893: [2], 9993: [0], 10073: [0], 10083: [0], 10113: [0], 10217: [0], 10228: [4], 10261: [0], 10305: [2], 10313: [2], 10406: [0], 10412: [0], 10425: [0], 10448: [0], 10600: [3], 10601: [3], 10604: [4], 10713: [1], 10737: [0], 10747: [1], 10753: [0], 10789: [2], 10869: [6], 10909: [1], 10941: [2], 11024: [10], 11076: [2], 11082: [1], 11113: [2], 11128: [1], 11163: [0], 11168: [1], 11223: [4], 11251: [6], 11306: [0], 11345: [1], 11362: [2], 11367: [7], 11393: [0], 11454: [2], 11459: [0], 11463: [1], 11582: [1], 11583: [0], 11601: [3], 11608: [0], 11623: [2], 11648: [1], 11663: [5], 11730: [2], 11767: [5], 11779: [2], 11866: [6], 11886: [8], 11902: [0], 11917: [11], 11946: [6], 11972: [0], 11997: [4], 12025: [2], 12032: [10], 12083: [6], 12091: [0], 12119: [5], 12130: [0], 12220: [4], 12260: [0], 12294: [0], 12309: [8], 12310: [3], 12370: [0], 12407: [2], 12416: [0], 12428: [1], 12437: [9], 12451: [0]}]\n",
      "old [90, {1: [3], 40: [17], 155: [5], 366: [10], 499: [5], 575: [3], 677: [5], 681: [1], 755: [1], 913: [1], 1549: [5], 1772: [7], 1804: [8], 1817: [4], 1953: [4], 2390: [3], 2818: [10], 2900: [7], 2971: [14], 3067: [5], 3079: [5], 3354: [2], 3375: [4], 3669: [11], 4187: [12], 4254: [9], 4511: [11], 4790: [2], 4835: [3], 5126: [6], 5133: [1], 5498: [3], 5505: [8], 5550: [9], 5565: [3], 5616: [8], 5617: [9], 5624: [4], 5697: [3], 5706: [1], 5733: [6], 5758: [0], 5794: [1], 5893: [5], 5997: [12], 6237: [4], 6427: [3], 6477: [6], 6606: [0], 6616: [11], 6962: [5], 7191: [3], 7548: [5], 7563: [2], 7695: [0], 7700: [5], 7799: [1], 7855: [2], 7992: [1], 8659: [17], 8782: [3], 8983: [5], 9036: [3], 9050: [5], 9225: [3], 9318: [7], 9497: [1], 9566: [8], 9690: [3], 9738: [7], 9804: [0], 9881: [1], 10210: [5], 10706: [7], 10724: [4], 10744: [11], 10928: [4], 10958: [1], 11077: [2], 11136: [3], 11370: [4], 11571: [10], 11754: [13], 12040: [1], 12142: [5], 12374: [10], 12420: [8]}]\n",
      "friend [211, {1: [4], 52: [1], 72: [0], 134: [3], 193: [1], 217: [4], 266: [3], 357: [9], 403: [3], 405: [4], 445: [3], 512: [4], 516: [3], 575: [4], 576: [2], 620: [4], 732: [8], 849: [3], 922: [0], 1066: [3], 1099: [13], 1152: [2], 1162: [13], 1199: [1], 1456: [4], 1465: [2], 1486: [2], 1563: [1], 1581: [4], 1665: [9], 1693: [12], 1778: [8], 1828: [1], 2175: [3], 2297: [3], 2396: [7], 2403: [5], 2409: [1], 2514: [2], 2563: [7], 2631: [2], 2667: [4], 2712: [2], 2748: [9], 2764: [9], 2781: [8], 2860: [2], 2878: [6], 2971: [10], 3067: [6], 3079: [2], 3111: [1], 3236: [2], 3320: [2], 3363: [0], 3374: [5], 3512: [7], 3550: [0], 3632: [4], 3656: [0], 3701: [3], 3763: [2], 3848: [2], 3902: [4], 3960: [3], 3990: [11], 4076: [1], 4084: [15], 4280: [3], 4281: [0], 4327: [1], 4438: [2], 4485: [6], 4503: [1], 4545: [1], 4632: [7], 4743: [7], 4789: [2], 4939: [1], 4940: [6], 4972: [5], 5096: [8], 5240: [5], 5397: [3], 5493: [0], 5539: [2], 5567: [4], 5719: [2], 5722: [8], 5773: [2], 5832: [3], 5846: [0], 6010: [11], 6023: [5], 6036: [0], 6055: [5], 6064: [8], 6111: [1], 6194: [14], 6630: [1], 6682: [3], 6724: [3], 6738: [6], 6809: [1], 6912: [2], 6919: [9], 6990: [5], 7092: [2], 7370: [5], 7386: [4], 7434: [3], 7587: [2], 7611: [4], 7660: [4], 7719: [7], 7784: [6], 7819: [3], 7859: [4], 7885: [7], 8031: [9], 8087: [2], 8162: [7], 8167: [3], 8230: [5], 8238: [5], 8365: [7], 8373: [6], 8381: [10], 8397: [1], 8433: [1], 8447: [8], 8618: [4], 8682: [3], 8695: [1], 8702: [6], 8731: [1], 8773: [13], 8855: [7], 8964: [2], 9091: [9], 9159: [4], 9219: [7], 9224: [6], 9337: [3], 9370: [2], 9409: [7], 9483: [2], 9498: [3], 9583: [3], 9602: [2], 9664: [6], 9675: [4], 9702: [3], 9762: [8], 9769: [1], 9798: [3], 9854: [1], 10007: [9], 10122: [5], 10164: [12], 10197: [1], 10266: [1], 10278: [6], 10306: [2], 10325: [4], 10361: [3], 10422: [5], 10442: [2], 10526: [4], 10641: [1], 10648: [6], 10656: [4], 10904: [5], 11054: [15], 11077: [3], 11088: [1], 11103: [10], 11134: [4], 11168: [5], 11179: [9], 11287: [1], 11292: [0], 11315: [1], 11349: [4], 11405: [7], 11435: [8], 11499: [6], 11557: [13], 11667: [13], 11744: [0], 11776: [4], 11780: [7], 11863: [0], 11974: [2], 12000: [6], 12096: [9], 12118: [2], 12144: [10], 12201: [4], 12211: [3], 12241: [2], 12280: [4], 12339: [5], 12348: [6]}]\n",
      "want [396, {1: [7], 29: [0], 48: [1], 61: [8], 64: [0], 91: [5], 124: [0], 150: [0], 153: [9], 226: [0], 281: [6], 292: [5], 293: [0], 298: [3], 306: [3], 312: [3], 326: [7], 335: [2], 345: [1], 346: [0], 355: [2], 410: [2], 425: [2], 440: [3], 444: [0], 450: [0], 454: [1], 471: [8], 474: [6], 479: [3], 493: [5], 519: [1], 530: [0], 532: [1], 554: [0], 573: [2], 575: [1], 581: [0], 593: [4], 600: [0], 618: [0], 675: [2], 683: [3], 757: [6], 780: [6], 782: [0], 823: [4], 849: [0], 924: [0], 949: [0], 960: [0], 977: [11], 993: [4], 1021: [1], 1046: [0], 1063: [3], 1070: [1], 1131: [5], 1153: [4], 1173: [0], 1183: [2], 1189: [2], 1193: [1], 1214: [1], 1221: [0], 1229: [5], 1252: [0], 1285: [1], 1286: [1], 1314: [0], 1370: [2], 1417: [11], 1422: [6], 1435: [4], 1471: [3], 1473: [0], 1499: [1], 1563: [5], 1593: [0], 1601: [0], 1616: [0], 1635: [0], 1665: [3], 1690: [0], 1712: [8], 1731: [5], 1745: [6], 1749: [0], 1800: [1], 1815: [2], 1867: [9], 1898: [0], 1900: [4], 1914: [8], 1923: [1], 1996: [0], 2004: [0], 2013: [9], 2037: [10], 2041: [1], 2047: [0], 2265: [0], 2272: [3], 2275: [5], 2284: [9], 2312: [7], 2317: [13], 2318: [5], 2362: [0], 2377: [0], 2380: [8], 2395: [0], 2397: [2], 2467: [0], 2524: [0], 2528: [2], 2541: [3], 2546: [3], 2549: [5], 2553: [1], 2554: [0], 2563: [10], 2567: [0], 2585: [5], 2619: [1], 2624: [1], 2626: [1], 2629: [1], 2646: [6], 2681: [3], 2690: [4], 2709: [1], 2728: [0], 2729: [0], 2758: [6], 2760: [0], 2764: [5], 2775: [4], 2795: [5], 2813: [6], 2818: [5], 2829: [7], 2834: [2], 2844: [6], 2870: [0], 2871: [0], 2877: [5], 2910: [2], 2963: [10], 2972: [7], 2976: [4], 2986: [8], 3028: [0], 3031: [5], 3042: [5], 3044: [2], 3061: [5], 3119: [4], 3132: [6], 3159: [4], 3166: [3], 3169: [10], 3183: [7], 3221: [9], 3232: [5], 3247: [7], 3260: [1], 3276: [8], 3281: [1], 3308: [0], 3348: [6], 3366: [2], 3417: [1], 3437: [9], 3449: [3], 3460: [0], 3504: [0], 3550: [17], 3553: [5], 3555: [11], 3579: [0], 3598: [1], 3608: [4], 3618: [7], 3632: [2], 3651: [9], 3687: [7], 3703: [4], 3707: [6], 3746: [4], 3775: [1], 3789: [0], 3814: [7], 3841: [0], 3849: [1], 3872: [0], 3875: [9], 3886: [2], 3891: [0], 3978: [4], 4059: [2], 4067: [4], 4072: [9], 4081: [3], 4105: [2], 4108: [7], 4111: [1], 4142: [2], 4149: [7], 4206: [0], 4254: [11], 4286: [1], 4307: [1], 4312: [0], 4355: [3], 4374: [7], 4376: [0], 4394: [3], 4412: [1], 4448: [1], 4478: [0], 4525: [4], 4540: [7], 4583: [1], 4618: [6], 4652: [0], 4663: [5], 4670: [3], 4674: [4], 4695: [0], 4699: [0], 4724: [0], 4768: [1], 4792: [0], 4801: [2], 4803: [0], 4812: [4], 4848: [7], 4863: [2], 4879: [4], 4897: [4], 4905: [2], 4941: [5], 4968: [1], 4972: [7], 4974: [4], 4986: [2], 4996: [10], 5036: [11], 5060: [0], 5061: [2], 5088: [0], 5122: [4], 5175: [1], 5207: [4], 5270: [4], 5282: [1], 5283: [1], 5291: [1], 5303: [0], 5304: [0], 5348: [6], 5369: [3], 5404: [9], 5435: [0], 5465: [5], 5477: [1], 5494: [2], 5502: [8], 5574: [3], 5603: [5], 5628: [2], 5630: [2], 5633: [0], 5646: [10], 5658: [2], 5682: [3], 5697: [10], 5706: [6], 5730: [3], 5735: [0], 5747: [1], 5818: [1], 5909: [10], 5953: [0], 5975: [4], 6025: [0], 6061: [5], 6073: [4], 6104: [8], 6121: [5], 6158: [2], 6176: [7], 6330: [2], 6355: [4], 6401: [6], 6495: [5], 6564: [4], 6687: [2], 6903: [2], 6909: [3], 7200: [7], 7203: [1], 7241: [2], 7264: [3], 7473: [0], 7494: [2], 7502: [0], 7511: [4], 7560: [11], 7576: [1], 7675: [0], 7856: [0], 7919: [0], 8049: [0], 8069: [0], 8256: [0], 8338: [0], 8517: [5], 8532: [0], 8543: [3], 8549: [2], 8585: [6], 8628: [1], 8631: [1], 8649: [4], 8766: [3], 8776: [0], 8785: [3], 8810: [2], 8829: [1], 8958: [2], 8970: [5], 9041: [2], 9069: [2], 9084: [11], 9123: [0], 9364: [5], 9420: [0], 9472: [1], 9481: [3], 9498: [6], 9576: [4], 9633: [1], 9664: [3], 9743: [13], 9836: [12], 9934: [0], 10158: [0], 10208: [9], 10215: [0], 10216: [2], 10244: [0], 10245: [3], 10314: [0], 10604: [5], 10613: [3], 10688: [7], 10898: [4], 10933: [2], 10988: [9], 11026: [5], 11036: [4], 11127: [4], 11174: [2], 11179: [2], 11293: [0], 11303: [2], 11552: [4], 11709: [2], 11719: [5], 11735: [10], 11736: [10], 11794: [9], 11892: [5], 11900: [6], 11931: [6], 12069: [7], 12096: [13], 12163: [6], 12228: [3], 12252: [2]}]\n",
      "marri [11, {1: [6], 2061: [0], 3125: [2], 3447: [3], 4551: [2], 4935: [11], 7970: [7], 9224: [3], 11085: [7], 11132: [1]}]\n",
      "2 [252, {1: [8], 69: [2], 77: [5], 144: [7], 313: [10], 341: [7], 343: [1], 349: [11], 352: [10], 389: [5], 478: [14], 503: [1], 534: [2], 622: [5], 632: [14], 658: [12], 712: [8], 719: [3], 840: [9], 879: [9], 899: [1], 943: [8], 944: [1], 961: [6], 987: [2], 1022: [2], 1035: [5], 1137: [4], 1202: [2], 1298: [5], 1417: [12], 1524: [8], 1549: [0], 1618: [4], 1620: [4], 1687: [2], 1773: [4], 1827: [1], 1890: [6], 1893: [1], 1953: [1], 1955: [15], 1986: [2], 2010: [14], 2058: [4], 2104: [19], 2121: [3], 2166: [2], 2187: [4], 2211: [15], 2260: [7], 2373: [5], 2402: [13], 2453: [1], 2460: [6], 2462: [9], 2549: [7], 2564: [1], 2594: [4], 2632: [7], 2653: [14], 2712: [0], 2764: [7], 2772: [6], 2804: [4], 2857: [12], 2913: [9], 2941: [2], 3094: [6], 3111: [0], 3221: [19], 3229: [13], 3294: [12], 3317: [3], 3322: [4], 3361: [4], 3465: [3], 3473: [3], 3484: [0], 3512: [5], 3582: [11], 3638: [1], 3661: [4], 3672: [4], 3691: [11], 3751: [4], 3797: [2], 3875: [4], 3899: [2], 3939: [10], 3958: [5], 4018: [6], 4454: [12], 4563: [0], 4649: [4], 4743: [10], 4772: [8], 4798: [4], 4880: [4], 4914: [4], 4918: [1], 4939: [6], 4967: [1], 4992: [6], 5058: [6], 5082: [1], 5090: [2], 5120: [4], 5158: [12], 5168: [12], 5308: [1], 5453: [7], 5454: [4], 5490: [7], 5526: [5], 5654: [5], 5656: [3], 5718: [6], 5791: [16], 5873: [7], 5974: [13], 6048: [6], 6083: [6], 6147: [8], 6214: [10], 6217: [5], 6242: [7], 6279: [5], 6314: [2], 6437: [2], 6580: [7], 6587: [3], 6634: [1], 6660: [8], 6701: [2], 6885: [4], 6924: [3], 6926: [3], 6935: [3], 6950: [2], 6958: [7], 6983: [12], 7021: [7], 7050: [6], 7101: [2], 7115: [6], 7154: [5], 7319: [8], 7400: [3], 7658: [1], 7691: [4], 7746: [3], 7757: [5], 7766: [12], 7801: [1], 7836: [0], 7888: [3], 7954: [4], 7960: [13], 7990: [6], 8054: [3], 8516: [10], 8699: [5], 8814: [8], 8878: [1], 8929: [5], 9014: [9], 9094: [8], 9149: [2], 9182: [10], 9201: [2], 9225: [1], 9262: [7], 9319: [6], 9444: [8], 9575: [5], 9598: [9], 9636: [14], 9640: [0], 9663: [11], 9738: [5], 9769: [8], 9837: [0], 9978: [3], 10002: [11], 10052: [2], 10150: [1], 10261: [8], 10264: [3], 10309: [3], 10391: [1], 10410: [3], 10413: [1], 10414: [14], 10443: [9], 10484: [3], 10558: [15], 10565: [16], 10639: [4], 10678: [9], 10787: [12], 10816: [2], 10900: [9], 10986: [5], 11026: [6], 11166: [5], 11245: [11], 11260: [14], 11261: [3], 11338: [4], 11351: [3], 11375: [5], 11438: [19], 11705: [1], 11715: [1], 11733: [15], 11790: [0], 11906: [13], 12019: [8], 12024: [16], 12102: [1], 12206: [6], 12211: [10], 12399: [3], 12422: [2]}]\n",
      "scandal [2, {1: [9], 10223: [1]}]\n",
      "hmmm [26, {2: [0], 1921: [0], 2267: [0], 4416: [11], 5510: [0], 6122: [2], 6436: [0], 6679: [0], 7131: [0], 7203: [9], 8278: [5], 8351: [0], 8583: [0], 8718: [4], 8731: [2], 8891: [7], 10870: [15], 10950: [10], 11560: [1], 11574: [7], 11713: [2], 12002: [1], 12083: [0], 12426: [0]}]\n",
      "http [591, {2: [1], 5: [9], 33: [4], 85: [7], 191: [0], 204: [0], 207: [4], 212: [11], 230: [0], 242: [6], 272: [4], 329: [0], 330: [6], 368: [7], 376: [11], 380: [0], 389: [6], 416: [13], 437: [5], 458: [12], 520: [0], 541: [4], 556: [0], 580: [2], 591: [12], 593: [12], 600: [7], 622: [8], 663: [0], 668: [10], 677: [7], 701: [14], 711: [9], 769: [4], 784: [3], 787: [3], 793: [7], 822: [7], 836: [7], 844: [3], 902: [2], 950: [9], 965: [0], 975: [0], 988: [0], 995: [3], 1021: [0], 1074: [7], 1096: [0], 1142: [4], 1205: [3], 1319: [7], 1351: [12], 1356: [0], 1396: [0], 1406: [6], 1409: [3], 1454: [7], 1480: [1], 1506: [8], 1530: [0], 1594: [7], 1646: [6], 1725: [0], 1752: [7], 1796: [2], 1865: [3], 1888: [8], 1920: [3], 1936: [8], 1943: [5], 1945: [0], 1947: [4], 2070: [12], 2092: [7], 2113: [5], 2143: [0], 2175: [6], 2200: [0], 2228: [12], 2248: [6], 2313: [12], 2316: [6], 2371: [0], 2378: [3], 2414: [6], 2443: [7], 2450: [5], 2477: [0], 2491: [6], 2518: [0], 2560: [4], 2562: [11], 2566: [9], 2634: [0], 2700: [5], 2703: [0], 2711: [6], 2721: [0], 2756: [0], 2794: [4], 2795: [2], 2803: [10], 2855: [13], 2889: [5], 2951: [7], 2955: [5], 2973: [5], 2976: [0], 3095: [6], 3120: [4], 3136: [10], 3137: [8], 3140: [6], 3345: [9], 3350: [5], 3365: [2], 3455: [7], 3527: [0], 3615: [3], 3636: [3], 3665: [0], 3723: [3], 3790: [12], 3809: [3], 3843: [8], 3851: [0], 3867: [9], 3927: [3], 3979: [10], 3981: [7], 4018: [11], 4042: [0], 4097: [3], 4157: [5], 4163: [9], 4171: [6], 4181: [0], 4236: [8], 4294: [0], 4296: [0], 4304: [0], 4350: [0], 4382: [2], 4429: [0], 4442: [11], 4449: [13], 4471: [0], 4500: [2], 4501: [7], 4512: [8], 4535: [0], 4547: [2], 4549: [5], 4580: [8], 4582: [7], 4625: [7], 4667: [6], 4694: [2], 4729: [6], 4743: [6], 4758: [1], 4763: [4], 4878: [0], 4892: [11], 4893: [2], 4899: [4], 4905: [0], 5010: [10], 5011: [3], 5065: [2], 5095: [9], 5159: [0], 5243: [8], 5265: [5], 5272: [0], 5278: [0], 5279: [8], 5281: [0], 5300: [0], 5306: [2], 5310: [4], 5332: [10], 5376: [11], 5393: [0], 5396: [4], 5463: [7], 5580: [4], 5581: [2], 5604: [6], 5684: [14], 5689: [7], 5763: [9], 5768: [5], 5793: [3], 5798: [0], 5799: [9], 5908: [0], 5996: [0], 6054: [3], 6096: [5], 6128: [0], 6140: [3], 6163: [9], 6174: [13], 6185: [0], 6189: [2], 6196: [6], 6209: [11], 6216: [8], 6263: [9], 6285: [7], 6296: [4], 6328: [6], 6362: [2], 6369: [4], 6372: [0], 6384: [0], 6416: [2], 6420: [4], 6445: [9], 6450: [6], 6475: [4], 6517: [2], 6518: [3], 6519: [0], 6520: [10], 6528: [2], 6529: [12], 6539: [5], 6541: [3], 6544: [6], 6546: [0], 6561: [1], 6588: [7], 6592: [6], 6601: [7], 6607: [10], 6621: [6], 6628: [6], 6638: [6], 6653: [0], 6662: [0], 6667: [0], 6703: [5], 6704: [13], 6723: [0], 6730: [0], 6741: [10], 6750: [2], 6757: [6], 6769: [7], 6794: [4], 6819: [10], 6826: [11], 6834: [0], 6836: [0], 6865: [5], 6883: [0], 6910: [6], 6933: [7], 6938: [4], 6943: [0], 6949: [0], 6953: [7], 6955: [6], 6959: [3], 6969: [5], 6987: [8], 6990: [7], 7022: [0], 7048: [4], 7064: [6], 7067: [0], 7072: [11], 7079: [4], 7082: [3], 7097: [4], 7108: [7], 7123: [4], 7156: [0], 7162: [3], 7172: [5], 7217: [7], 7225: [0], 7271: [2], 7288: [10], 7295: [7], 7296: [4], 7306: [9], 7335: [2], 7361: [0], 7373: [8], 7386: [8], 7398: [3], 7423: [4], 7429: [0], 7460: [12], 7478: [5], 7518: [0], 7551: [2], 7557: [3], 7567: [7], 7588: [3], 7590: [3], 7592: [3], 7599: [3], 7604: [3], 7641: [0], 7659: [0], 7666: [0], 7690: [7], 7707: [0], 7725: [3], 7727: [4], 7733: [9], 7752: [3], 7755: [7], 7780: [7], 7801: [9], 7828: [2], 7839: [10], 7844: [3], 7875: [0], 7901: [0], 7926: [0], 7928: [11], 7965: [7], 8027: [0], 8042: [0], 8055: [10], 8069: [4], 8087: [6], 8117: [2], 8130: [9], 8153: [6], 8183: [6], 8184: [9], 8196: [0], 8225: [5], 8230: [2], 8236: [0], 8238: [2], 8247: [0], 8308: [5], 8309: [2], 8355: [0], 8370: [5], 8426: [2], 8468: [3], 8490: [1], 8539: [2], 8581: [4], 8584: [6], 8617: [0], 8625: [3], 8639: [4], 8665: [6], 8678: [3], 8692: [5], 8700: [6], 8707: [7], 8749: [11], 8830: [5], 8873: [6], 8876: [0], 8890: [0], 8909: [0], 8917: [0], 8928: [0], 8940: [4], 8944: [0], 8964: [5], 9043: [1], 9046: [3], 9062: [1], 9065: [1], 9096: [4], 9103: [4], 9112: [0], 9142: [0], 9173: [3], 9194: [0], 9228: [7], 9238: [0], 9299: [7], 9315: [0], 9332: [0], 9377: [4], 9395: [0], 9417: [0], 9426: [0], 9437: [3], 9439: [6], 9492: [0], 9505: [0], 9526: [0], 9549: [2], 9568: [0], 9595: [0], 9605: [7], 9625: [0], 9671: [6], 9678: [0], 9688: [2], 9701: [7], 9713: [2], 9720: [2], 9738: [0], 9742: [6], 9796: [0], 9860: [0], 9865: [0], 9908: [0], 9911: [6], 9914: [1], 9935: [10], 9959: [3], 9975: [0], 10024: [9], 10046: [10], 10115: [0], 10121: [4], 10127: [0], 10162: [3], 10280: [0], 10329: [0], 10334: [3], 10338: [0], 10347: [3], 10348: [3], 10351: [3], 10354: [5], 10355: [3], 10359: [3], 10360: [3], 10365: [3], 10367: [3], 10368: [3], 10370: [3], 10374: [3], 10376: [3], 10377: [0], 10404: [10], 10411: [0], 10420: [0], 10444: [1], 10463: [10], 10468: [9], 10473: [9], 10479: [2], 10483: [8], 10489: [4], 10500: [0], 10522: [10], 10551: [12], 10573: [8], 10585: [10], 10626: [0], 10630: [8], 10632: [3], 10650: [4], 10654: [10], 10665: [0], 10686: [0], 10697: [12], 10714: [0], 10717: [10], 10731: [4], 10746: [11], 10754: [6], 10760: [1], 10765: [9], 10768: [10], 10771: [5], 10779: [2], 10826: [3], 10834: [10], 10844: [0], 10885: [10], 10891: [0], 10901: [8], 10912: [3], 10917: [6], 10922: [3], 10923: [10], 10942: [15], 10944: [10], 10966: [4], 10968: [6], 10972: [9], 10982: [2], 11007: [10], 11012: [11], 11017: [0], 11062: [10], 11070: [0], 11071: [0], 11074: [6], 11086: [7], 11095: [7], 11116: [10], 11134: [3], 11139: [10], 11146: [5], 11184: [8], 11186: [10], 11197: [0], 11207: [0], 11223: [5], 11246: [8], 11258: [0], 11264: [0], 11292: [7], 11311: [4], 11312: [3], 11322: [3], 11332: [4], 11335: [6], 11337: [3], 11340: [3], 11352: [0], 11358: [6], 11359: [0], 11388: [0], 11396: [6], 11410: [8], 11434: [0], 11467: [0], 11469: [10], 11505: [8], 11540: [0], 11570: [14], 11601: [5], 11618: [0], 11620: [2], 11671: [4], 11680: [0], 11687: [2], 11695: [6], 11701: [0], 11712: [6], 11752: [0], 11770: [5], 11771: [0], 11792: [10], 11821: [3], 11837: [1], 11839: [7], 11848: [2], 11878: [0], 11897: [2], 11900: [8], 11901: [1], 11911: [5], 11951: [10], 11978: [0], 11985: [0], 12011: [8], 12047: [0], 12049: [12], 12073: [0], 12082: [10], 12083: [5], 12100: [5], 12107: [5], 12116: [0], 12137: [0], 12138: [4], 12161: [0], 12167: [0], 12170: [2], 12190: [12], 12214: [2], 12219: [2], 12248: [3], 12255: [5], 12275: [0], 12282: [10], 12301: [0], 12312: [8], 12320: [0], 12325: [5], 12337: [0], 12338: [0], 12386: [0], 12390: [0], 12434: [0]}]\n",
      "sorri [204, {3: [0], 103: [0], 121: [2], 128: [0], 175: [0], 181: [2], 218: [7], 243: [0], 267: [0], 302: [0], 324: [1], 351: [12], 428: [0], 441: [11], 489: [3], 630: [1], 736: [1], 815: [0], 845: [0], 979: [1], 990: [2], 1033: [4], 1158: [0], 1174: [0], 1207: [0], 1327: [1], 1374: [1], 1421: [6], 1534: [2], 1547: [1], 1562: [14], 1584: [0], 1671: [1], 1723: [0], 1759: [0], 1814: [0], 1857: [0], 1972: [0], 1995: [4], 2009: [1], 2033: [2], 2035: [0], 2093: [5], 2161: [5], 2167: [1], 2184: [1], 2197: [1], 2335: [2], 2441: [0], 2483: [2], 2592: [0], 2720: [0], 2736: [1], 2747: [0], 2753: [0], 2763: [0], 2780: [2], 2801: [2], 2825: [9], 2847: [1], 2857: [4], 2904: [0], 2921: [2], 2925: [1], 2945: [0], 2956: [3], 2962: [3], 2977: [4], 3041: [2], 3043: [0], 3052: [0], 3137: [2], 3167: [2], 3187: [10], 3203: [0], 3210: [1], 3226: [2], 3234: [0], 3287: [0], 3301: [4], 3302: [0], 3322: [0], 3348: [4], 3364: [0], 3405: [2], 3423: [0], 3457: [1], 3533: [2], 3620: [0], 3647: [6], 3651: [1], 3657: [0], 3678: [0], 3747: [0], 3904: [2], 3933: [9], 3938: [1], 3940: [0], 3946: [8], 3970: [6], 4012: [0], 4044: [1], 4061: [0], 4098: [1], 4117: [0], 4137: [4], 4151: [0], 4173: [0], 4220: [1], 4237: [1], 4272: [0], 4285: [4], 4334: [0], 4402: [0], 4421: [0], 4447: [0], 4456: [0], 4497: [1], 4515: [4], 4523: [0], 4529: [0], 4675: [0], 4690: [10], 4750: [3], 4767: [4], 4777: [1], 4781: [6], 4837: [3], 4888: [3], 4892: [0], 4909: [0], 4936: [5], 4951: [0], 4971: [0], 4973: [0], 4998: [0], 5075: [1], 5092: [3], 5102: [0], 5122: [2], 5162: [0], 5173: [0], 5182: [0], 5184: [0], 5268: [6], 5338: [0], 5341: [3], 5356: [4], 5384: [0], 5394: [1], 5419: [0], 5500: [4], 5541: [0], 5555: [1], 5577: [4], 5585: [2], 5589: [3], 5651: [0], 5723: [2], 5741: [1], 5803: [0], 5804: [0], 5828: [0], 5910: [2], 5965: [0], 6019: [0], 6027: [0], 6089: [8], 6348: [7], 6527: [2], 6623: [3], 7334: [1], 7372: [0], 7446: [2], 7567: [0], 7671: [1], 7911: [4], 8121: [2], 8447: [0], 8483: [0], 8602: [8], 8608: [1], 8835: [5], 8925: [1], 9159: [1], 9454: [7], 9557: [8], 9812: [2], 9888: [3], 10447: [1], 10590: [1], 10600: [11], 10736: [1], 10883: [4], 11650: [0], 11747: [6], 12003: [1], 12051: [1], 12075: [2], 12213: [0], 12329: [0], 12333: [3], 12397: [2]}]\n"
     ]
    }
   ],
   "source": [
    "pos_index = {}\n",
    "file_map = {}\n",
    "def generate_positional_index(data:list):\n",
    "  fileno=0\n",
    "  lineno=-1\n",
    "  for line in data:\n",
    "    lineno+=1;\n",
    "    for pos, term in enumerate(line):\n",
    "      if term in pos_index:\n",
    "          pos_index[term][0] = pos_index[term][0] + 1      \n",
    "          if fileno in pos_index[term][1]:\n",
    "            pos_index[term][1][lineno].append(pos)                \n",
    "          else:\n",
    "            pos_index[term][1][lineno] = [pos]\n",
    "      else:\n",
    "          pos_index[term] = []\n",
    "          pos_index[term].append(1)\n",
    "          pos_index[term].append({})     \n",
    "          pos_index[term][1][lineno] = [pos]\n",
    "      fileno += 1\n",
    "  return pos_index\n",
    "\n",
    "final=generate_positional_index(final_train_stem_list)\n",
    "count=0\n",
    "for i in final:\n",
    "  count=count+1;\n",
    "  if count<=20:\n",
    "    print(i,final[i])\n",
    "  else:\n",
    "    break;\n",
    "    \n",
    "    "
   ]
  },
  {
   "cell_type": "markdown",
   "metadata": {},
   "source": [
    "## PHRASE QUERY on Inverted Index :"
   ]
  },
  {
   "cell_type": "code",
   "execution_count": 30,
   "metadata": {
    "colab": {
     "base_uri": "https://localhost:8080/"
    },
    "id": "IDUdBD57Aieo",
    "outputId": "62568339-892c-4dcc-c566-dd41171b7ad4"
   },
   "outputs": [
    {
     "name": "stdout",
     "output_type": "stream",
     "text": [
      "Enter your query\n",
      "want sleep\n",
      "[1, 293, 312, 519, 1046, 2528, 3366, 4812, 4986, 10314]\n"
     ]
    }
   ],
   "source": [
    "def phrase_query(phr):\n",
    "    query=phr.split();\n",
    "    for i in range(0,len(query)-1,2):\n",
    "      result=and_query(final_train[query[i]],final_train[query[i+1]])\n",
    "    print(result)\n",
    "print(\"Enter your query\")\n",
    "q=input()\n",
    "phrase_query(q)\n",
    "\n"
   ]
  },
  {
   "cell_type": "code",
   "execution_count": 31,
   "metadata": {
    "colab": {
     "base_uri": "https://localhost:8080/"
    },
    "id": "0sWKmZiZA0dw",
    "outputId": "c7d4772a-3a7d-4652-dfdc-78020c920267"
   },
   "outputs": [
    {
     "name": "stdout",
     "output_type": "stream",
     "text": [
      "Enter your query\n",
      "old friend dinner\n",
      "[1, 575, 2971, 3067, 3079, 11077]\n"
     ]
    }
   ],
   "source": [
    "print(\"Enter your query\")\n",
    "q=input()\n",
    "phrase_query(q)"
   ]
  },
  {
   "cell_type": "markdown",
   "metadata": {},
   "source": [
    "## PHRASE QUERY on Positional index :"
   ]
  },
  {
   "cell_type": "code",
   "execution_count": 32,
   "metadata": {
    "colab": {
     "base_uri": "https://localhost:8080/"
    },
    "id": "dXw2WhAZCSV2",
    "outputId": "8433b57e-b20e-4eb1-cf80-6a2b2eefedee"
   },
   "outputs": [],
   "source": [
    "def fetch_list(d):\n",
    "    l=list();\n",
    "    d1=d[1];\n",
    "    for i in d1:\n",
    "      l.append(i)\n",
    "    return l;\n",
    "def post_phrase_query(phr):\n",
    "  query=phr.split()\n",
    "  for i in range(0,len(query)-1,2):\n",
    "    l1=fetch_list(final[query[i]])\n",
    "    l2=fetch_list(final[query[i+1]])\n",
    "    result=and_query(l1,l2)\n",
    "  print(result)\n",
    "\n"
   ]
  },
  {
   "cell_type": "code",
   "execution_count": 33,
   "metadata": {
    "colab": {
     "base_uri": "https://localhost:8080/"
    },
    "id": "2GUeqyD3DQGg",
    "outputId": "386c0035-52b8-4ccd-82c3-ad28129c5a30"
   },
   "outputs": [
    {
     "name": "stdout",
     "output_type": "stream",
     "text": [
      "Enter your query\n",
      "omg break\n",
      "[157, 552, 3518]\n"
     ]
    }
   ],
   "source": [
    "print(\"Enter your query\")\n",
    "q=input()\n",
    "post_phrase_query(q)\n",
    "\n"
   ]
  },
  {
   "cell_type": "code",
   "execution_count": 34,
   "metadata": {
    "colab": {
     "base_uri": "https://localhost:8080/"
    },
    "id": "ZVssqiSvDWok",
    "outputId": "20803022-994d-4325-a674-f89ec40920ae"
   },
   "outputs": [
    {
     "name": "stdout",
     "output_type": "stream",
     "text": [
      "Enter your query\n",
      "work soon going\n",
      "[589, 1270, 1367, 4805, 6605, 7449, 8488]\n"
     ]
    }
   ],
   "source": [
    "print(\"Enter your query\")\n",
    "q=input()\n",
    "post_phrase_query(q)"
   ]
  },
  {
   "cell_type": "markdown",
   "metadata": {},
   "source": [
    "## WILDCARD QUERIES on Inverted Index:"
   ]
  },
  {
   "cell_type": "markdown",
   "metadata": {},
   "source": [
    "### given a  leading wild card query"
   ]
  },
  {
   "cell_type": "code",
   "execution_count": 42,
   "metadata": {
    "id": "CUBHBvx_Dcp3"
   },
   "outputs": [
    {
     "name": "stdout",
     "output_type": "stream",
     "text": [
      "Enter query term: water*\n",
      "\n",
      "\n",
      "Matching documents: [3978, 7180, 12048, 1305, 1433, 281, 11552, 1062, 10798, 177, 179, 11571, 11956, 3770, 11840, 5188, 5958, 10441, 9546, 212, 855, 5239, 3943, 3826, 7415, 9339, 5885, 10239]\n"
     ]
    }
   ],
   "source": [
    "# wildcard queries on inverted index\n",
    "import re\n",
    "\n",
    "def inv_wildcard_query(query_term, inv_idx_dict):\n",
    "    query = query_term.lower().strip()\n",
    "    pattern = \"^\" + query.replace(\"*\", \"\\w*\") + \"$\"\n",
    "    matching_terms = []\n",
    "    for term in inv_idx_dict.keys():\n",
    "        if re.match(pattern, term):\n",
    "            matching_terms.append(term)\n",
    "    matching_docs = []\n",
    "    for term in matching_terms:\n",
    "        matching_docs.extend(inv_idx_dict[term])\n",
    "    matching_docs = list(set(matching_docs))\n",
    "    return matching_docs\n",
    "query_term = input(\"Enter query term: \")\n",
    "print('\\n')\n",
    "matching_docs = inv_wildcard_query(query_term, final_train)\n",
    "print(\"Matching documents:\", matching_docs)\n",
    "\n"
   ]
  },
  {
   "cell_type": "markdown",
   "metadata": {},
   "source": [
    "### given a trailing wild card query"
   ]
  },
  {
   "cell_type": "code",
   "execution_count": 36,
   "metadata": {},
   "outputs": [
    {
     "name": "stdout",
     "output_type": "stream",
     "text": [
      "Enter query term: *mon\n",
      "\n",
      "\n",
      "Matching documents: [1798, 4109, 7312, 6292, 6423, 4635, 8990, 11169, 165, 9001, 1706, 8365, 2104, 3901, 10686, 7231, 8519, 10841, 9050, 6751, 12260, 3945, 3692, 1647, 8304, 8047, 2175]\n"
     ]
    }
   ],
   "source": [
    "query_term = input(\"Enter query term: \")\n",
    "print('\\n')\n",
    "matching_docs = inv_wildcard_query(query_term, final_train)\n",
    "print(\"Matching documents:\", matching_docs)\n"
   ]
  },
  {
   "cell_type": "markdown",
   "metadata": {},
   "source": [
    "### given a wild card query inbetweeen letters"
   ]
  },
  {
   "cell_type": "code",
   "execution_count": 45,
   "metadata": {},
   "outputs": [
    {
     "name": "stdout",
     "output_type": "stream",
     "text": [
      "Enter query term: r*ing\n",
      "\n",
      "\n",
      "Matching documents: [3362, 4551, 11880, 11274, 4944, 10068, 1109, 2006, 5239, 6520]\n"
     ]
    }
   ],
   "source": [
    "query_term = input(\"Enter query term: \")\n",
    "print('\\n')\n",
    "matching_docs = inv_wildcard_query(query_term, final_train)\n",
    "print(\"Matching documents:\", matching_docs)\n"
   ]
  },
  {
   "cell_type": "markdown",
   "metadata": {},
   "source": [
    "## WILDCARD QUERIES on Positional Index"
   ]
  },
  {
   "cell_type": "markdown",
   "metadata": {},
   "source": [
    "### given a  leading wild card query"
   ]
  },
  {
   "cell_type": "code",
   "execution_count": 48,
   "metadata": {},
   "outputs": [
    {
     "name": "stdout",
     "output_type": "stream",
     "text": [
      "Enter your query: mon*\n",
      "\n",
      "\n",
      "Matching terms: ['money', 'month', 'monday', 'moneeeeeeeeeeeeeeeey', 'monitor', 'monro', 'moniez', 'monster', 'montanna', 'montezuma', 'monkey', 'moniiieeeess', 'monsoon', 'montana', 'monogram', 'moni', 'monet', 'monica', 'mondayyy', 'moneymak', 'montreal', 'monin']\n",
      "\n",
      "\n",
      "Doc ids for 'money': dict_keys([64, 125, 151, 227, 462, 495, 722, 893, 1314, 1494, 1797, 2068, 2163, 2255, 2382, 3042, 3376, 3460, 3779, 4054, 4088, 4199, 4265, 4370, 4577, 4885, 4890, 5136, 5205, 5221, 5243, 5400, 5474, 5490, 5516, 5689, 6441, 6865, 7346, 7389, 7596, 7989, 8505, 8524, 8975, 11250, 11497, 11499, 11648, 11805, 11971, 12228])\n",
      "---\n",
      "Doc ids for 'month': dict_keys([155, 187, 452, 469, 712, 738, 837, 957, 969, 985, 1137, 1176, 1320, 1610, 1801, 2193, 2284, 2586, 2687, 2772, 2781, 2988, 3116, 3311, 3367, 3474, 3658, 3672, 4108, 4187, 5348, 5381, 5409, 5508, 5859, 5991, 6114, 6123, 6601, 6926, 7484, 7509, 7538, 7625, 7700, 7791, 7914, 8386, 8477, 8616, 9064, 9738, 9779, 9826, 10693, 10723, 11330, 11421, 11784, 11888, 11984])\n",
      "---\n",
      "Doc ids for 'monday': dict_keys([468, 800, 1605, 1729, 1876, 2230, 2524, 3024, 3371, 3585, 3949, 4295, 4411, 4437, 4443, 4647, 4795, 4990, 5031, 5062, 5145, 5244, 5253, 5641, 6077, 6156, 6194, 6279, 6289, 6309, 6397, 6419, 6622, 6673, 6739, 6815, 6832, 6855, 6925, 6945, 6969, 6995, 7042, 7043, 7086, 7122, 7127, 7147, 7393, 7409, 7486, 7491, 7498, 7533, 7575, 7584, 7618, 7688, 7737, 7772, 7829, 7842, 7893, 7949, 8054, 8069, 8128, 8171, 8260, 8360, 8379, 8401, 8439, 8465, 8484, 8496, 8536, 8545, 8578, 8627, 8636, 8655, 8698, 8702, 8722, 8808, 9378, 9478, 9757, 9882, 9925, 10046, 10052, 10976, 10978, 11263, 11313, 11384, 11523, 11845])\n",
      "---\n",
      "Doc ids for 'moneeeeeeeeeeeeeeeey': dict_keys([473])\n",
      "---\n",
      "Doc ids for 'monitor': dict_keys([547, 2848, 6186, 9909])\n",
      "---\n",
      "Doc ids for 'monro': dict_keys([1035])\n",
      "---\n",
      "Doc ids for 'moniez': dict_keys([1774])\n",
      "---\n",
      "Doc ids for 'monster': dict_keys([1945, 7616])\n",
      "---\n",
      "Doc ids for 'montanna': dict_keys([1953])\n",
      "---\n",
      "Doc ids for 'montezuma': dict_keys([2081])\n",
      "---\n",
      "Doc ids for 'monkey': dict_keys([2378, 3266])\n",
      "---\n",
      "Doc ids for 'moniiieeeess': dict_keys([2442])\n",
      "---\n",
      "Doc ids for 'monsoon': dict_keys([4566, 9921])\n",
      "---\n",
      "Doc ids for 'montana': dict_keys([6107, 7658, 8584, 9459, 9699, 12305])\n",
      "---\n",
      "Doc ids for 'monogram': dict_keys([6185])\n",
      "---\n",
      "Doc ids for 'moni': dict_keys([6214])\n",
      "---\n",
      "Doc ids for 'monet': dict_keys([6727, 8010])\n",
      "---\n",
      "Doc ids for 'monica': dict_keys([8245])\n",
      "---\n",
      "Doc ids for 'mondayyy': dict_keys([8481])\n",
      "---\n",
      "Doc ids for 'moneymak': dict_keys([9087])\n",
      "---\n",
      "Doc ids for 'montreal': dict_keys([9988])\n",
      "---\n",
      "Doc ids for 'monin': dict_keys([10125])\n",
      "---\n"
     ]
    }
   ],
   "source": [
    "# wildcard queries on positional index\n",
    "import re\n",
    "\n",
    "def post_wildcard_query(query):\n",
    "    query_regex = query.replace(\"*\", \"\\w+\")\n",
    "    matches = []\n",
    "    for term in pos_index.keys():\n",
    "        if re.match(query_regex, term):\n",
    "            matches.append(term)\n",
    "    return matches\n",
    "query = input(\"Enter your query: \")\n",
    "print('\\n')\n",
    "\n",
    "\n",
    "if \"*\" in query:\n",
    "    matches = post_wildcard_query(query)\n",
    "    print(\"Matching terms:\", matches)\n",
    "    print('\\n')\n",
    "    for term in matches:\n",
    "        print(f\"Doc ids for '{term}':\", pos_index[term][1].keys())\n",
    "        print('---')\n",
    "else:\n",
    "    if query in pos_index:\n",
    "        print(f\"Doc ids for '{query}':\", pos_index[query][1].keys())\n",
    "        print('---')\n",
    "    else:\n",
    "        print(f\"No matches found for '{query}'.\")"
   ]
  },
  {
   "cell_type": "markdown",
   "metadata": {},
   "source": [
    "### given a trailing wild card query"
   ]
  },
  {
   "cell_type": "code",
   "execution_count": 49,
   "metadata": {},
   "outputs": [
    {
     "name": "stdout",
     "output_type": "stream",
     "text": [
      "Enter your query: *star\n",
      "\n",
      "\n",
      "Matching terms: ['jumpstart', 'restart', 'singstar', 'bastard', 'juicystar007', 'allstar', 'morningstar', 'superstar', 'mustard', 'fightstar']\n",
      "\n",
      "\n",
      "Doc ids for 'jumpstart': dict_keys([890])\n",
      "---\n",
      "Doc ids for 'restart': dict_keys([1665])\n",
      "---\n",
      "Doc ids for 'singstar': dict_keys([3214, 9967])\n",
      "---\n",
      "Doc ids for 'bastard': dict_keys([4768])\n",
      "---\n",
      "Doc ids for 'juicystar007': dict_keys([6061])\n",
      "---\n",
      "Doc ids for 'allstar': dict_keys([7928])\n",
      "---\n",
      "Doc ids for 'morningstar': dict_keys([8214])\n",
      "---\n",
      "Doc ids for 'superstar': dict_keys([8954])\n",
      "---\n",
      "Doc ids for 'mustard': dict_keys([10345])\n",
      "---\n",
      "Doc ids for 'fightstar': dict_keys([10592])\n",
      "---\n"
     ]
    }
   ],
   "source": [
    "query = input(\"Enter your query: \")\n",
    "print('\\n')\n",
    "\n",
    "if \"*\" in query:\n",
    "    matches = post_wildcard_query(query)\n",
    "    print(\"Matching terms:\", matches)\n",
    "    print('\\n')\n",
    "    for term in matches:\n",
    "        print(f\"Doc ids for '{term}':\", pos_index[term][1].keys())\n",
    "        print('---')\n",
    "else:\n",
    "    if query in pos_index:\n",
    "        print(f\"Doc ids for '{query}':\", pos_index[query][1].keys())\n",
    "        print('---')\n",
    "    else:\n",
    "        print(f\"No matches found for '{query}'.\")"
   ]
  },
  {
   "cell_type": "markdown",
   "metadata": {},
   "source": [
    "### given a wild card query inbetweeen letters"
   ]
  },
  {
   "cell_type": "code",
   "execution_count": 52,
   "metadata": {},
   "outputs": [
    {
     "name": "stdout",
     "output_type": "stream",
     "text": [
      "Enter your query: wa*ton\n",
      "\n",
      "\n",
      "Matching terms: ['washington']\n",
      "\n",
      "\n",
      "Doc ids for 'washington': dict_keys([8213])\n",
      "---\n"
     ]
    }
   ],
   "source": [
    "query = input(\"Enter your query: \")\n",
    "print('\\n')\n",
    "\n",
    "if \"*\" in query:\n",
    "    matches = post_wildcard_query(query)\n",
    "    print(\"Matching terms:\", matches)\n",
    "    print('\\n')\n",
    "    for term in matches:\n",
    "        print(f\"Doc ids for '{term}':\", pos_index[term][1].keys())\n",
    "        print('---')\n",
    "else:\n",
    "    if query in pos_index:\n",
    "        print(f\"Doc ids for '{query}':\", pos_index[query][1].keys())\n",
    "        print('---')\n",
    "    else:\n",
    "        print(f\"No matches found for '{query}'.\")"
   ]
  },
  {
   "cell_type": "markdown",
   "metadata": {},
   "source": [
    "# Retrieving relevant text using similarity index"
   ]
  },
  {
   "cell_type": "code",
   "execution_count": 39,
   "metadata": {},
   "outputs": [
    {
     "name": "stdout",
     "output_type": "stream",
     "text": [
      "Enter query: day\n",
      "\n",
      "\n",
      "Doc ID: 2886, Score: 0.6482361078561345\n",
      "good day\n",
      "---\n",
      "Doc ID: 2495, Score: 0.639838759879209\n",
      "work day\n",
      "---\n",
      "Doc ID: 9028, Score: 0.5706744488081408\n",
      "mother day\n",
      "---\n",
      "Doc ID: 10689, Score: 0.5706744488081408\n",
      "mother day\n",
      "---\n",
      "Doc ID: 8100, Score: 0.5286231020965995\n",
      "great day\n",
      "---\n",
      "Doc ID: 8470, Score: 0.51826991143978\n",
      "fun day\n",
      "---\n",
      "Doc ID: 130, Score: 0.5032713006416246\n",
      "bad day\n",
      "---\n",
      "Doc ID: 3240, Score: 0.5032713006416246\n",
      "bad day\n",
      "---\n",
      "Doc ID: 1154, Score: 0.502688693932927\n",
      "love day work\n",
      "---\n",
      "Doc ID: 8463, Score: 0.494861198054454\n",
      "today good day\n",
      "---\n"
     ]
    }
   ],
   "source": [
    "import math\n",
    "\n",
    "def calculate_query_idf(query_terms, inv_idx_dict):\n",
    "    query_idf = {}\n",
    "    for term in query_terms:\n",
    "        if term in inv_idx_dict:\n",
    "            query_idf[term] = math.log(len(inv_idx_dict) / len(inv_idx_dict[term]))\n",
    "    return query_idf\n",
    "\n",
    "def calculate_tf_idf_score(pos_index, inv_idx_dict):\n",
    "    tf_idf_scores = {}\n",
    "    for term in pos_index:\n",
    "        if term in inv_idx_dict:\n",
    "            idf = math.log(len(inv_idx_dict) / len(inv_idx_dict[term]))\n",
    "            for doc_id in pos_index[term][1]:\n",
    "                tf_idf_scores.setdefault(doc_id, {})\n",
    "                tf = len(pos_index[term][1][doc_id])\n",
    "                tf_idf_scores[doc_id][term] = tf * idf\n",
    "    return tf_idf_scores\n",
    "\n",
    "def calculate_cosine_similarity(query_tfidf, doc_tfidf):\n",
    "    dot_product = 0\n",
    "    query_norm = 0\n",
    "    doc_norm = 0\n",
    "    \n",
    "\n",
    "    for term in query_tfidf:\n",
    "        if term in doc_tfidf:\n",
    "            dot_product += query_tfidf[term] * doc_tfidf[term]\n",
    "        query_norm += query_tfidf[term] ** 2\n",
    "    for term in doc_tfidf:\n",
    "        doc_norm += doc_tfidf[term] ** 2\n",
    "        \n",
    "    if query_norm == 0 or doc_norm == 0:\n",
    "        return 0\n",
    "    \n",
    "    \n",
    "    return dot_product / (math.sqrt(query_norm) * math.sqrt(doc_norm))\n",
    "\n",
    "def retrieve_relevant_text(query, pos_index, inv_idx_dict, k=10):\n",
    "    \n",
    "    query_terms = query.split()\n",
    "    \n",
    "    query_idf = calculate_query_idf(query_terms, inv_idx_dict)\n",
    "    \n",
    "    tf_idf_scores = calculate_tf_idf_score(pos_index, inv_idx_dict)\n",
    "    \n",
    "    similarity_scores = {}\n",
    "    for doc_id in tf_idf_scores:\n",
    "        similarity_scores[doc_id] = calculate_cosine_similarity(query_idf, tf_idf_scores[doc_id])\n",
    "    \n",
    "    \n",
    "    sorted_docs = sorted(similarity_scores.items(), key=lambda x: x[1], reverse=True)[:k]\n",
    "    results = []\n",
    "    for doc_id, score in sorted_docs:\n",
    "        results.append((doc_id, ' '.join(final_train_stem_list[doc_id]), score))\n",
    "    \n",
    "    return results\n",
    "\n",
    "query = input(\"Enter query: \")\n",
    "print('\\n')\n",
    "retrieved_docs = retrieve_relevant_text(query, final, final_train)\n",
    "for doc_id, text, score in retrieved_docs:\n",
    "    print(f\"Doc ID: {doc_id}, Score: {score}\")\n",
    "    print(text)\n",
    "    print('---')\n"
   ]
  },
  {
   "cell_type": "code",
   "execution_count": 40,
   "metadata": {},
   "outputs": [
    {
     "name": "stdout",
     "output_type": "stream",
     "text": [
      "Enter query: birthday\n",
      "\n",
      "\n",
      "Doc ID: 501, Score: 1.0\n",
      "birthday\n",
      "---\n",
      "Doc ID: 9485, Score: 0.8521354163072694\n",
      "happi birthday\n",
      "---\n",
      "Doc ID: 9995, Score: 0.8521354163072694\n",
      "happi happi birthday\n",
      "---\n",
      "Doc ID: 10783, Score: 0.8521354163072694\n",
      "happi birthday\n",
      "---\n",
      "Doc ID: 11221, Score: 0.8521354163072694\n",
      "happi birthday\n",
      "---\n",
      "Doc ID: 11498, Score: 0.8521354163072694\n",
      "happi birthday\n",
      "---\n",
      "Doc ID: 11543, Score: 0.8521354163072694\n",
      "happi birthday\n",
      "---\n",
      "Doc ID: 12446, Score: 0.8521354163072694\n",
      "happi birthday\n",
      "---\n",
      "Doc ID: 6162, Score: 0.7337830591137406\n",
      "birthday well happi birthday\n",
      "---\n",
      "Doc ID: 10819, Score: 0.5890916546722434\n",
      "go sleep happi mother day happi birthday\n",
      "---\n"
     ]
    }
   ],
   "source": [
    "query = input(\"Enter query: \")\n",
    "print('\\n')\n",
    "retrieved_docs = retrieve_relevant_text(query, final, final_train)\n",
    "for doc_id, text, score in retrieved_docs:\n",
    "    print(f\"Doc ID: {doc_id}, Score: {score}\")\n",
    "    print(text)\n",
    "    print('---')"
   ]
  },
  {
   "cell_type": "markdown",
   "metadata": {},
   "source": [
    "# Retrieve relevant text using liklelihood language model"
   ]
  },
  {
   "cell_type": "code",
   "execution_count": 36,
   "metadata": {},
   "outputs": [
    {
     "name": "stdout",
     "output_type": "stream",
     "text": [
      "Enter your query: think lesson day luggage\n",
      "Likelihood score for 1-gram model: 1.0\n",
      "Likelihood score for 2-gram model: 1.0\n",
      "Likelihood score for 3-gram model: 1.0\n"
     ]
    }
   ],
   "source": [
    "import nltk\n",
    "from nltk.util import ngrams\n",
    "\n",
    "\n",
    "text_list = train_data['lemmatized_words'].sum()\n",
    "\n",
    "\n",
    "def generate_ngrams(text, n):\n",
    "    n_grams = ngrams(text, n)\n",
    "    return [' '.join(grams) for grams in n_grams]\n",
    "\n",
    "\n",
    "all_ngrams = []\n",
    "for i in range(1, 4):\n",
    "    all_ngrams += generate_ngrams(text_list, i)\n",
    "\n",
    "query = input(\"Enter your query: \")\n",
    "\n",
    "def calculate_likelihood(query, n):\n",
    "    all_ngrams = []\n",
    "    for line in train_data['lemmatized_words']:\n",
    "        ngrams = nltk.ngrams(line, n)\n",
    "        all_ngrams.extend(ngrams)\n",
    "    query_ngrams = list(nltk.ngrams(query.split(), n))\n",
    "    query_count = len(query_ngrams)\n",
    "    match_count = sum([1 for ngram in query_ngrams if ngram in all_ngrams])\n",
    "    if query_count == 0:\n",
    "        return 0\n",
    "    else:\n",
    "        return match_count / query_count\n",
    "\n",
    "scores = []\n",
    "for n in range(1, 4):\n",
    "    score = calculate_likelihood(query, n)\n",
    "    scores.append(score)\n",
    "    print(f\"Likelihood score for {n}-gram model: {score}\")\n"
   ]
  },
  {
   "cell_type": "code",
   "execution_count": 37,
   "metadata": {},
   "outputs": [
    {
     "name": "stdout",
     "output_type": "stream",
     "text": [
      "Enter your query: good night sleep\n",
      "Likelihood score for 1-gram model: 1.0\n",
      "Likelihood score for 2-gram model: 1.0\n",
      "Likelihood score for 3-gram model: 0.0\n"
     ]
    }
   ],
   "source": [
    "query = input(\"Enter your query: \")\n",
    "\n",
    "scores = []\n",
    "for n in range(1, 4):\n",
    "    score = calculate_likelihood(query, n)\n",
    "    scores.append(score)\n",
    "    print(f\"Likelihood score for {n}-gram model: {score}\")"
   ]
  },
  {
   "cell_type": "code",
   "execution_count": 38,
   "metadata": {},
   "outputs": [
    {
     "name": "stdout",
     "output_type": "stream",
     "text": [
      "Enter your query: dinosaur http\n",
      "Likelihood score for 1-gram model: 0.5\n",
      "Likelihood score for 2-gram model: 0.0\n",
      "Likelihood score for 3-gram model: 0\n"
     ]
    }
   ],
   "source": [
    "query = input(\"Enter your query: \")\n",
    "\n",
    "scores = []\n",
    "for n in range(1, 4):\n",
    "    score = calculate_likelihood(query, n)\n",
    "    scores.append(score)\n",
    "    print(f\"Likelihood score for {n}-gram model: {score}\")"
   ]
  },
  {
   "cell_type": "markdown",
   "metadata": {},
   "source": [
    "# Advanced search: Semantic matching"
   ]
  },
  {
   "cell_type": "code",
   "execution_count": 35,
   "metadata": {},
   "outputs": [
    {
     "name": "stdout",
     "output_type": "stream",
     "text": [
      "Enter query: waiting on the bus\n",
      "\n",
      "\n",
      "Text: waiting on the bus! i miss my car\n",
      "Stemmed score: 0.7702157201133157\n",
      "Lemmatized score: 0.7702157201133157\n",
      "---\n",
      "Text: waiting for the bus. the bus is going to be uncomfortably hot i bet\n",
      "Stemmed score: 0.7214027442014339\n",
      "Lemmatized score: 0.7214027442014339\n",
      "---\n",
      "Text: waiting\n",
      "Stemmed score: 0.5601732482649799\n",
      "Lemmatized score: 0.5601732482649799\n",
      "---\n",
      "Text: just downloaded a podcast @ the bus stop\n",
      "Stemmed score: 0.4246676649398886\n",
      "Lemmatized score: 0.4246676649398886\n",
      "---\n",
      "Text:  i can`t wait to see!\n",
      "Stemmed score: 0.41992934815081406\n",
      "Lemmatized score: 0.41992934815081406\n",
      "---\n"
     ]
    }
   ],
   "source": [
    "from sklearn.feature_extraction.text import TfidfVectorizer\n",
    "from sklearn.metrics.pairwise import cosine_similarity\n",
    "\n",
    "train_data['stemmed_text'] = train_data['stemmed_words'].apply(lambda x: ' '.join(x))\n",
    "train_data['lemmatized_text'] = train_data['lemmatized_words'].apply(lambda x: ' '.join(x))\n",
    "\n",
    "def calculate_similarity(query, vectorizer, tfidf):\n",
    "\n",
    "    query = query.lower()\n",
    "    query_tokens = word_tokenize(query)\n",
    "    query_stemmed = [ps.stem(token) for token in query_tokens if not token in stoplist]\n",
    "    query_lemmatized = [wordnet_lemmatizer.lemmatize(token) for token in query_tokens if not token in stoplist]\n",
    "    query_stemmed_text = ' '.join(query_stemmed)\n",
    "    query_lemmatized_text = ' '.join(query_lemmatized)\n",
    "\n",
    "    query_tfidf = vectorizer.transform([query_stemmed_text])\n",
    "\n",
    "    stemmed_scores = cosine_similarity(query_tfidf, tfidf).flatten()\n",
    "    lemmatized_scores = cosine_similarity(query_tfidf, tfidf).flatten()\n",
    "\n",
    "\n",
    "    results = {}\n",
    "    for i, row in train_data.iterrows():\n",
    "        results[i] = {'text': row['text'], 'stemmed_score': stemmed_scores[i], 'lemmatized_score': lemmatized_scores[i]}\n",
    "    return results\n",
    "\n",
    "query = input(\"Enter query: \")\n",
    "print('\\n')\n",
    "vectorizer = TfidfVectorizer()\n",
    "tfidf = vectorizer.fit_transform(train_data['stemmed_text'])\n",
    "results = calculate_similarity(query, vectorizer, tfidf)\n",
    "\n",
    "sorted_results = sorted(results.items(), key=lambda x: x[1]['stemmed_score'], reverse=True)\n",
    "for i in range(5):\n",
    "    print(f\"Text: {sorted_results[i][1]['text']}\")\n",
    "    print(f\"Stemmed score: {sorted_results[i][1]['stemmed_score']}\")\n",
    "    print(f\"Lemmatized score: {sorted_results[i][1]['lemmatized_score']}\")\n",
    "    print('---')\n",
    "\n"
   ]
  },
  {
   "cell_type": "markdown",
   "metadata": {},
   "source": [
    "# Advanced search: Finding out query intention"
   ]
  },
  {
   "cell_type": "code",
   "execution_count": 23,
   "metadata": {},
   "outputs": [
    {
     "name": "stdout",
     "output_type": "stream",
     "text": [
      "Enter query: I miss learning music, doing acting exercises\n",
      "Transactional\n",
      "---\n",
      "Enter query: Oxford Internet Institute Sunner Doctoral\n",
      "Informational\n",
      "---\n",
      "Enter query: I cant give  any bday nudges.\n",
      "Other\n",
      "---\n"
     ]
    }
   ],
   "source": [
    "import nltk\n",
    "#nltk.download('punkt')\n",
    "#nltk.download('averaged_perceptron_tagger')\n",
    "\n",
    "def query_intention(query):\n",
    "    \n",
    "    words = nltk.word_tokenize(query)\n",
    "    \n",
    "    tagged_words = nltk.pos_tag(words)\n",
    "    \n",
    "    tag_counts = nltk.Counter(tag for word, tag in tagged_words)\n",
    "    most_common_tag = tag_counts.most_common(1)[0][0]\n",
    "    \n",
    "    if most_common_tag in ['NN', 'NNS', 'NNP', 'NNPS']:\n",
    "        return 'Informational'\n",
    "    elif most_common_tag in ['VB', 'VBD', 'VBG', 'VBN', 'VBP', 'VBZ']:\n",
    "        return 'Transactional'\n",
    "    else:\n",
    "        return 'Other'\n",
    "\n",
    "query1 = input(\"Enter query: \")\n",
    "print(query_intention(query1))\n",
    "print('---')\n",
    "query2 = input(\"Enter query: \")\n",
    "print(query_intention(query2)) \n",
    "print('---')\n",
    "query3 = input(\"Enter query: \")\n",
    "print(query_intention(query3))  \n",
    "print('---')"
   ]
  },
  {
   "cell_type": "markdown",
   "metadata": {},
   "source": [
    "# Advanced search: Relevance feedback and Reranking"
   ]
  },
  {
   "cell_type": "code",
   "execution_count": 76,
   "metadata": {},
   "outputs": [
    {
     "name": "stdout",
     "output_type": "stream",
     "text": [
      "Enter query: happy\n",
      "\n",
      "\n",
      "Top 5 most similar documents to the query:\n",
      "                                      text sentiment  ranking_score\n",
      "3819                             not happy  positive       1.000000\n",
      "3781                             not happy   neutral       1.000000\n",
      "9995                  happy happy birthday   neutral       0.913475\n",
      "5293                          i am unhappy  negative       0.900614\n",
      "9683   and we will all eat it and be happy  positive       0.895027\n",
      "\n",
      "Please enter feedback (relevant or irrelevant) for each document:\n",
      "Document 1: irrelevant\n",
      "Document 2: irrelevant\n",
      "Document 3: relevant\n",
      "Document 4: irrelevant\n",
      "Document 5: relevant\n",
      "\n",
      "New top 5 most similar documents to the updated query:\n",
      "                                                 text sentiment  ranking_score\n",
      "9995                             happy happy birthday   neutral       0.987417\n",
      "12237   happy bday to her  and happy mothers` day too  positive       0.960633\n",
      "9683              and we will all eat it and be happy  positive       0.953385\n",
      "11543                            happy birthday to  !   neutral       0.943570\n",
      "10783                                 happy birthday!   neutral       0.943570\n"
     ]
    }
   ],
   "source": [
    "import numpy as np\n",
    "from sklearn.feature_extraction.text import TfidfVectorizer\n",
    "from sklearn.metrics.pairwise import cosine_similarity\n",
    "\n",
    "tfidf_vectorizer = TfidfVectorizer(tokenizer=lambda doc: doc, lowercase=False)\n",
    "tfidf_matrix = tfidf_vectorizer.fit_transform(train_data['lemmatized_words'].apply(lambda x: ' '.join(x)))\n",
    "\n",
    "def get_top_similar(query, n=5):\n",
    "    query_tfidf = tfidf_vectorizer.transform([query])\n",
    "    cosine_similarities = cosine_similarity(query_tfidf, tfidf_matrix).flatten()\n",
    "    top_indices = cosine_similarities.argsort()[::-1][:n]\n",
    "    ranking_scores = cosine_similarities[top_indices]\n",
    "    top_docs = train_data.iloc[top_indices][['text', 'sentiment', 'lemmatized_words']]\n",
    "    top_docs['ranking_score'] = ranking_scores\n",
    "    return top_docs\n",
    "\n",
    "# initial query\n",
    "query = input(\"Enter query: \")\n",
    "print('\\n')\n",
    "\n",
    "top_similar_docs = get_top_similar(query)\n",
    "\n",
    "print('Top 5 most similar documents to the query:')\n",
    "print(top_similar_docs[['text', 'sentiment', 'ranking_score']])\n",
    "print('\\nPlease enter feedback (relevant or irrelevant) for each document:')\n",
    "\n",
    "feedback = []\n",
    "for i in range(len(top_similar_docs)):\n",
    "    doc_feedback = input(f'Document {i+1}: ')\n",
    "    feedback.append(doc_feedback)\n",
    "\n",
    "for i in range(len(feedback)):\n",
    "    if feedback[i] == 'relevant':\n",
    "        relevant_words = top_similar_docs.iloc[i]['lemmatized_words']\n",
    "        query += ' ' + ' '.join(relevant_words)\n",
    "    elif feedback[i] == 'irrelevant':\n",
    "        irrelevant_words = top_similar_docs.iloc[i]['lemmatized_words']\n",
    "        query_words = query.split()\n",
    "        query_words = [w for w in query_words if w not in irrelevant_words]\n",
    "        query = ' '.join(query_words)\n",
    "\n",
    "top_similar_docs = get_top_similar(query)\n",
    "print('\\nNew top 5 most similar documents to the updated query:')\n",
    "print(top_similar_docs[['text', 'sentiment', 'ranking_score']])\n"
   ]
  },
  {
   "cell_type": "markdown",
   "metadata": {},
   "source": []
  },
  {
   "cell_type": "code",
   "execution_count": 24,
   "metadata": {},
   "outputs": [
    {
     "name": "stdout",
     "output_type": "stream",
     "text": [
      "*************************************************************************************\n"
     ]
    }
   ],
   "source": [
    "print('*************************************************************************************')"
   ]
  }
 ],
 "metadata": {
  "colab": {
   "name": "A3_P2.ipynb",
   "provenance": []
  },
  "kernelspec": {
   "display_name": "Python 3",
   "language": "python",
   "name": "python3"
  },
  "language_info": {
   "codemirror_mode": {
    "name": "ipython",
    "version": 3
   },
   "file_extension": ".py",
   "mimetype": "text/x-python",
   "name": "python",
   "nbconvert_exporter": "python",
   "pygments_lexer": "ipython3",
   "version": "3.8.8"
  }
 },
 "nbformat": 4,
 "nbformat_minor": 1
}
